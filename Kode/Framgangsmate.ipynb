{
 "cells": [
  {
   "cell_type": "code",
   "execution_count": null,
   "metadata": {},
   "outputs": [],
   "source": []
  },
  {
   "cell_type": "markdown",
   "metadata": {},
   "source": [
    "# Plan:\n",
    "## Framgongsmåte:\n",
    "1. Les bildedata og MIS-flater inn i Qgis. Utforsk data og sjå om ting fungerar.\n",
    "    - SWIR (meir informasjon i .hdr):\n",
    "        - Bands: 288\n",
    "        - Bit: Float32\n",
    "    - VNIR:\n",
    "        - Banks: 186\n",
    "        - Bit: Float32\n",
    "    - Polygon som skal brukas:\n",
    "        - MiS data pilot 2 FLATER_NiN_pda_V2\n",
    "        - Leveranse_MiS_201017_Mjosen MiS_NiN_Biri_Mjosen_2017\n",
    "        - ?? Finn fleire\n",
    "        -\n",
    "    -\n",
    "    -\n",
    "    -\n",
    "    -\n",
    "    -\n",
    "    \n",
    "2. Split data opp i ruter og sortert rutene etter type(MIS typar og ikkje noko).\n",
    "    - Slå saman SWIR og NVIR til ei bildefil? (Ha med laser?) Enklare å få til resten trur eg. Taklar datamaskina dette?\n",
    "    - Spesifiser kvar filene skal lagrast\n",
    "    - Del heile bildet opp i fliser, lagre bounding-box til bildet i csv.\n",
    "    - Sorter flisene etter klasse, brukar her polygon. Geopandas?\n",
    "    - Ender opp med sorterte fliser i mapper og ei csvfil med navn/labels.\n",
    "\n",
    "3. Les bildedata og informasjon om dette(labels, osv) inn i Python. Slik det er på standard Skleran format.\n",
    "4. Split data i train, validation, test samt lag modellen.\n",
    "5. Databehandling, feature selection, feature importance, feature engineering\n",
    "6. Test og finjuster modell og databehandling.\n",
    "7. Plott å vis fram resultat"
   ]
  },
  {
   "cell_type": "markdown",
   "metadata": {},
   "source": [
    "# Kva som trengs\n",
    "- Installer i python envireoment.\n",
    "    - geopandas, \n",
    "    - gdal,\n",
    "    - rasterio, \n",
    "    - keras,\n",
    "    - pandas,\n",
    "    - numpy,\n",
    "    - matplotlib,\n",
    "    - imageio,\n",
    "    - anaconda.\n",
    "    - pytest.\n",
    "    - Pillow\n",
    "    \n",
    "    - Den modifiserte utgåva av keras.preprossesing\n",
    "    \n",
    "    conda create -n masterjon python=3.7 pandas geopandas keras pytest pillow rasterio"
   ]
  },
  {
   "cell_type": "markdown",
   "metadata": {},
   "source": []
  },
  {
   "cell_type": "code",
   "execution_count": null,
   "metadata": {},
   "outputs": [],
   "source": []
  },
  {
   "cell_type": "code",
   "execution_count": null,
   "metadata": {},
   "outputs": [],
   "source": []
  },
  {
   "cell_type": "code",
   "execution_count": null,
   "metadata": {},
   "outputs": [],
   "source": []
  },
  {
   "cell_type": "code",
   "execution_count": null,
   "metadata": {},
   "outputs": [],
   "source": []
  },
  {
   "cell_type": "code",
   "execution_count": null,
   "metadata": {},
   "outputs": [],
   "source": []
  },
  {
   "cell_type": "code",
   "execution_count": null,
   "metadata": {},
   "outputs": [],
   "source": []
  },
  {
   "cell_type": "code",
   "execution_count": null,
   "metadata": {},
   "outputs": [],
   "source": []
  },
  {
   "cell_type": "code",
   "execution_count": null,
   "metadata": {},
   "outputs": [],
   "source": []
  },
  {
   "cell_type": "code",
   "execution_count": null,
   "metadata": {},
   "outputs": [],
   "source": []
  },
  {
   "cell_type": "code",
   "execution_count": null,
   "metadata": {},
   "outputs": [],
   "source": []
  },
  {
   "cell_type": "code",
   "execution_count": null,
   "metadata": {},
   "outputs": [],
   "source": []
  },
  {
   "cell_type": "code",
   "execution_count": null,
   "metadata": {},
   "outputs": [],
   "source": []
  },
  {
   "cell_type": "code",
   "execution_count": null,
   "metadata": {},
   "outputs": [],
   "source": []
  },
  {
   "cell_type": "code",
   "execution_count": null,
   "metadata": {},
   "outputs": [],
   "source": []
  },
  {
   "cell_type": "code",
   "execution_count": null,
   "metadata": {},
   "outputs": [],
   "source": []
  },
  {
   "cell_type": "code",
   "execution_count": null,
   "metadata": {},
   "outputs": [],
   "source": []
  }
 ],
 "metadata": {
  "kernelspec": {
   "display_name": "Python 3",
   "language": "python",
   "name": "python3"
  },
  "language_info": {
   "codemirror_mode": {
    "name": "ipython",
    "version": 3
   },
   "file_extension": ".py",
   "mimetype": "text/x-python",
   "name": "python",
   "nbconvert_exporter": "python",
   "pygments_lexer": "ipython3",
   "version": "3.7.1"
  }
 },
 "nbformat": 4,
 "nbformat_minor": 2
}
