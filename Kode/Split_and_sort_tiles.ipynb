{
 "cells": [
  {
   "cell_type": "markdown",
   "metadata": {},
   "source": [
    "https://www.gdal.org/gdal_retile.html\n",
    "\n"
   ]
  },
  {
   "cell_type": "markdown",
   "metadata": {},
   "source": [
    "## Import"
   ]
  },
  {
   "cell_type": "code",
   "execution_count": 5,
   "metadata": {},
   "outputs": [],
   "source": [
    "import pandas as pd\n",
    "import geopandas # http://geopandas.org/reference.html\n",
    "import matplotlib.pyplot as plt\n",
    "\n",
    "import glob\n",
    "\n",
    "\n",
    "import os\n",
    "import shutil     # Kopiering av filer\n",
    "from osgeo import ogr, gdal    # GDAL\n",
    "\n",
    "# Python kode som delar opp bildet.\n",
    "import gdal_retile"
   ]
  },
  {
   "cell_type": "code",
   "execution_count": 7,
   "metadata": {},
   "outputs": [
    {
     "name": "stdout",
     "output_type": "stream",
     "text": [
      "20180705-biri_03_SWIR_384me_SN3126_raw_rad_bsq_float32_geo.zip\r\n",
      "20180705-biri_03_VNIR_1800_SN00827_raw_rad_bsq_float32_geo.zip\r\n",
      "20180705-biri_13_SWIR_384me_SN3126_raw_rad_bsq_float32_geo.dat\r\n",
      "20180705-biri_13_SWIR_384me_SN3126_raw_rad_bsq_float32_geo.hdr\r\n",
      "20180705-biri_13_SWIR_384me_SN3126_raw_rad_bsq_float32_geo.zip\r\n",
      "20180705-biri_13_VNIR_1800_SN00827_raw_rad_bsq_float32_geo.zip\r\n",
      "laserdata.zip\r\n"
     ]
    }
   ],
   "source": [
    "# Check that unpacked files are there. Unpack them?\n",
    "!ls ../Raw_data"
   ]
  },
  {
   "cell_type": "code",
   "execution_count": 8,
   "metadata": {},
   "outputs": [],
   "source": [
    "# Global variables:\n",
    "name_imagefiles= glob.glob('../Raw_data/*.dat') # Lists every imagefile\n",
    "#ame_shapefile = \"shapefile/utsnit.shp\"\n",
    "name_csv = 'tile_envelope_coordinates.csv'\n",
    "in_directory = '../Sorted_tiles'\n",
    "out_directory = '../Sorted_tiles/mis_tiles'\n",
    "\n",
    "# Size of output tile\n",
    "tile_with = '256'\n",
    "tile_heigth = '256'"
   ]
  },
  {
   "cell_type": "markdown",
   "metadata": {},
   "source": [
    "## Make tiles"
   ]
  },
  {
   "cell_type": "code",
   "execution_count": 9,
   "metadata": {},
   "outputs": [
    {
     "name": "stdout",
     "output_type": "stream",
     "text": [
      "Prossesing image 1 of 1\n"
     ]
    }
   ],
   "source": [
    "# Run retilefunction for each image\n",
    "for i, image_name in enumerate(name_imagefiles):\n",
    "    print(f'Prossesing image {i+1} of {len(name_imagefiles)}')\n",
    "    \n",
    "    cmd = 'gdal_retile.py -ps ' + tile_with +' '+ tile_heigth + ' -overlap 0 -levels 1 -r near -ot Float32 -csv '+ str(i) + name_csv + ' -csvDelim \",\" -targetDir '+'\\''+in_directory+'\\''+ ' ' +'\\''+image_name+'\\''\n",
    "    #print(cmd)\n",
    "    os.system(cmd)"
   ]
  },
  {
   "cell_type": "markdown",
   "metadata": {},
   "source": [
    "## Find categories"
   ]
  },
  {
   "cell_type": "code",
   "execution_count": 16,
   "metadata": {},
   "outputs": [
    {
     "data": {
      "text/html": [
       "<div>\n",
       "<style scoped>\n",
       "    .dataframe tbody tr th:only-of-type {\n",
       "        vertical-align: middle;\n",
       "    }\n",
       "\n",
       "    .dataframe tbody tr th {\n",
       "        vertical-align: top;\n",
       "    }\n",
       "\n",
       "    .dataframe thead th {\n",
       "        text-align: right;\n",
       "    }\n",
       "</style>\n",
       "<table border=\"1\" class=\"dataframe\">\n",
       "  <thead>\n",
       "    <tr style=\"text-align: right;\">\n",
       "      <th></th>\n",
       "      <th>Kode</th>\n",
       "      <th>Navn</th>\n",
       "    </tr>\n",
       "  </thead>\n",
       "  <tbody>\n",
       "    <tr>\n",
       "      <th>0</th>\n",
       "      <td>1</td>\n",
       "      <td>Stående død ved</td>\n",
       "    </tr>\n",
       "    <tr>\n",
       "      <th>1</th>\n",
       "      <td>2</td>\n",
       "      <td>Liggende død ved</td>\n",
       "    </tr>\n",
       "    <tr>\n",
       "      <th>2</th>\n",
       "      <td>3</td>\n",
       "      <td>Rikbarkstrær</td>\n",
       "    </tr>\n",
       "    <tr>\n",
       "      <th>3</th>\n",
       "      <td>4</td>\n",
       "      <td>Trær med hengelav</td>\n",
       "    </tr>\n",
       "    <tr>\n",
       "      <th>4</th>\n",
       "      <td>5</td>\n",
       "      <td>Eldre lauvsuksesjoner</td>\n",
       "    </tr>\n",
       "    <tr>\n",
       "      <th>5</th>\n",
       "      <td>6</td>\n",
       "      <td>Gamle trær</td>\n",
       "    </tr>\n",
       "    <tr>\n",
       "      <th>6</th>\n",
       "      <td>7</td>\n",
       "      <td>Hule lauvtrær</td>\n",
       "    </tr>\n",
       "    <tr>\n",
       "      <th>7</th>\n",
       "      <td>8</td>\n",
       "      <td>Brannflater</td>\n",
       "    </tr>\n",
       "    <tr>\n",
       "      <th>8</th>\n",
       "      <td>9</td>\n",
       "      <td>Rik bakkevegetasjon</td>\n",
       "    </tr>\n",
       "    <tr>\n",
       "      <th>9</th>\n",
       "      <td>10</td>\n",
       "      <td>Bergvegger</td>\n",
       "    </tr>\n",
       "    <tr>\n",
       "      <th>10</th>\n",
       "      <td>11</td>\n",
       "      <td>Leirraviner</td>\n",
       "    </tr>\n",
       "    <tr>\n",
       "      <th>11</th>\n",
       "      <td>12</td>\n",
       "      <td>Bekkekløfter</td>\n",
       "    </tr>\n",
       "  </tbody>\n",
       "</table>\n",
       "</div>"
      ],
      "text/plain": [
       "    Kode                  Navn \n",
       "0      1        Stående død ved\n",
       "1      2       Liggende død ved\n",
       "2      3           Rikbarkstrær\n",
       "3      4      Trær med hengelav\n",
       "4      5  Eldre lauvsuksesjoner\n",
       "5      6             Gamle trær\n",
       "6      7          Hule lauvtrær\n",
       "7      8            Brannflater\n",
       "8      9    Rik bakkevegetasjon\n",
       "9     10             Bergvegger\n",
       "10    11            Leirraviner\n",
       "11    12           Bekkekløfter"
      ]
     },
     "execution_count": 16,
     "metadata": {},
     "output_type": "execute_result"
    }
   ],
   "source": [
    "MIS_code_key = pd.read_excel(io='../Prosjekt_Honne_data_Landbruksdirektoratet/Koder Mis-nin i shape pilot 2.0.xlsx', sheet_name='LM.kode')\n",
    "MIS_code_key"
   ]
  },
  {
   "cell_type": "code",
   "execution_count": 17,
   "metadata": {},
   "outputs": [
    {
     "data": {
      "text/html": [
       "<div>\n",
       "<style scoped>\n",
       "    .dataframe tbody tr th:only-of-type {\n",
       "        vertical-align: middle;\n",
       "    }\n",
       "\n",
       "    .dataframe tbody tr th {\n",
       "        vertical-align: top;\n",
       "    }\n",
       "\n",
       "    .dataframe thead th {\n",
       "        text-align: right;\n",
       "    }\n",
       "</style>\n",
       "<table border=\"1\" class=\"dataframe\">\n",
       "  <thead>\n",
       "    <tr style=\"text-align: right;\">\n",
       "      <th></th>\n",
       "      <th>OBJECTID</th>\n",
       "      <th>AREAL</th>\n",
       "      <th>REG_DATO_F</th>\n",
       "      <th>KGRAD</th>\n",
       "      <th>VERDI</th>\n",
       "      <th>NATURTYPE</th>\n",
       "      <th>KGRAD_BEGR</th>\n",
       "      <th>SKOGBESKRI</th>\n",
       "      <th>FORVALTNIN</th>\n",
       "      <th>FKODE</th>\n",
       "      <th>...</th>\n",
       "      <th>UT_EKSP</th>\n",
       "      <th>KI_VANNP</th>\n",
       "      <th>LIVSM1</th>\n",
       "      <th>LIVSM2</th>\n",
       "      <th>area</th>\n",
       "      <th>sum_lauv</th>\n",
       "      <th>sum_gamle</th>\n",
       "      <th>sum_LDV</th>\n",
       "      <th>sum_SDV</th>\n",
       "      <th>geometry</th>\n",
       "    </tr>\n",
       "  </thead>\n",
       "  <tbody>\n",
       "    <tr>\n",
       "      <th>0</th>\n",
       "      <td>0</td>\n",
       "      <td>8</td>\n",
       "      <td>2017-09-01</td>\n",
       "      <td>0</td>\n",
       "      <td>None</td>\n",
       "      <td>0</td>\n",
       "      <td>None</td>\n",
       "      <td>Ensjiktet produksjonsskog av gran og noe bjørk...</td>\n",
       "      <td>None</td>\n",
       "      <td>1</td>\n",
       "      <td>...</td>\n",
       "      <td>b</td>\n",
       "      <td>A2</td>\n",
       "      <td>2</td>\n",
       "      <td>1</td>\n",
       "      <td>8159</td>\n",
       "      <td>0</td>\n",
       "      <td>0</td>\n",
       "      <td>19</td>\n",
       "      <td>16</td>\n",
       "      <td>POLYGON ((585266.8620801514 6754440.302978287,...</td>\n",
       "    </tr>\n",
       "    <tr>\n",
       "      <th>1</th>\n",
       "      <td>0</td>\n",
       "      <td>2</td>\n",
       "      <td>2017-09-01</td>\n",
       "      <td>0</td>\n",
       "      <td>None</td>\n",
       "      <td>0</td>\n",
       "      <td>None</td>\n",
       "      <td>Gamle furutrr I blanding med gran og noe lauv.</td>\n",
       "      <td>None</td>\n",
       "      <td>1</td>\n",
       "      <td>...</td>\n",
       "      <td>d</td>\n",
       "      <td>A2</td>\n",
       "      <td>6</td>\n",
       "      <td>0</td>\n",
       "      <td>2251</td>\n",
       "      <td>0</td>\n",
       "      <td>7</td>\n",
       "      <td>0</td>\n",
       "      <td>0</td>\n",
       "      <td>POLYGON ((585548.5608584847 6754543.789799314,...</td>\n",
       "    </tr>\n",
       "    <tr>\n",
       "      <th>2</th>\n",
       "      <td>0</td>\n",
       "      <td>3</td>\n",
       "      <td>2017-09-12</td>\n",
       "      <td>0</td>\n",
       "      <td>None</td>\n",
       "      <td>0</td>\n",
       "      <td>None</td>\n",
       "      <td>Bekkeklöft med noe liggende død ved og hengestry.</td>\n",
       "      <td>None</td>\n",
       "      <td>1</td>\n",
       "      <td>...</td>\n",
       "      <td>a</td>\n",
       "      <td>A2</td>\n",
       "      <td>12</td>\n",
       "      <td>2</td>\n",
       "      <td>3235</td>\n",
       "      <td>0</td>\n",
       "      <td>0</td>\n",
       "      <td>15</td>\n",
       "      <td>0</td>\n",
       "      <td>POLYGON ((586009.7207604215 6754258.584550213,...</td>\n",
       "    </tr>\n",
       "    <tr>\n",
       "      <th>3</th>\n",
       "      <td>0</td>\n",
       "      <td>3</td>\n",
       "      <td>2017-09-12</td>\n",
       "      <td>0</td>\n",
       "      <td>None</td>\n",
       "      <td>0</td>\n",
       "      <td>None</td>\n",
       "      <td>Liggende og noe stående død ved.</td>\n",
       "      <td>None</td>\n",
       "      <td>1</td>\n",
       "      <td>...</td>\n",
       "      <td>a</td>\n",
       "      <td>A2</td>\n",
       "      <td>2</td>\n",
       "      <td>0</td>\n",
       "      <td>2871</td>\n",
       "      <td>0</td>\n",
       "      <td>0</td>\n",
       "      <td>10</td>\n",
       "      <td>0</td>\n",
       "      <td>POLYGON ((586245.598938267 6754403.08832045, 5...</td>\n",
       "    </tr>\n",
       "    <tr>\n",
       "      <th>4</th>\n",
       "      <td>0</td>\n",
       "      <td>9</td>\n",
       "      <td>2017-09-13</td>\n",
       "      <td>0</td>\n",
       "      <td>None</td>\n",
       "      <td>0</td>\n",
       "      <td>None</td>\n",
       "      <td>Også noe stående død ved.</td>\n",
       "      <td>None</td>\n",
       "      <td>0</td>\n",
       "      <td>...</td>\n",
       "      <td>b</td>\n",
       "      <td>A2</td>\n",
       "      <td>2</td>\n",
       "      <td>0</td>\n",
       "      <td>9474</td>\n",
       "      <td>0</td>\n",
       "      <td>0</td>\n",
       "      <td>14</td>\n",
       "      <td>0</td>\n",
       "      <td>POLYGON ((587132.3176386385 6754551.368164727,...</td>\n",
       "    </tr>\n",
       "  </tbody>\n",
       "</table>\n",
       "<p>5 rows × 151 columns</p>\n",
       "</div>"
      ],
      "text/plain": [
       "   OBJECTID  AREAL  REG_DATO_F  KGRAD VERDI  NATURTYPE KGRAD_BEGR  \\\n",
       "0         0      8  2017-09-01      0  None          0       None   \n",
       "1         0      2  2017-09-01      0  None          0       None   \n",
       "2         0      3  2017-09-12      0  None          0       None   \n",
       "3         0      3  2017-09-12      0  None          0       None   \n",
       "4         0      9  2017-09-13      0  None          0       None   \n",
       "\n",
       "                                          SKOGBESKRI FORVALTNIN  FKODE  \\\n",
       "0  Ensjiktet produksjonsskog av gran og noe bjørk...       None      1   \n",
       "1    Gamle furutrr I blanding med gran og noe lauv.       None      1   \n",
       "2  Bekkeklöft med noe liggende død ved og hengestry.       None      1   \n",
       "3                   Liggende og noe stående død ved.       None      1   \n",
       "4                          Også noe stående død ved.       None      0   \n",
       "\n",
       "                         ...                          UT_EKSP KI_VANNP  \\\n",
       "0                        ...                                b       A2   \n",
       "1                        ...                                d       A2   \n",
       "2                        ...                                a       A2   \n",
       "3                        ...                                a       A2   \n",
       "4                        ...                                b       A2   \n",
       "\n",
       "   LIVSM1  LIVSM2  area  sum_lauv  sum_gamle  sum_LDV  sum_SDV  \\\n",
       "0       2       1  8159         0          0       19       16   \n",
       "1       6       0  2251         0          7        0        0   \n",
       "2      12       2  3235         0          0       15        0   \n",
       "3       2       0  2871         0          0       10        0   \n",
       "4       2       0  9474         0          0       14        0   \n",
       "\n",
       "                                            geometry  \n",
       "0  POLYGON ((585266.8620801514 6754440.302978287,...  \n",
       "1  POLYGON ((585548.5608584847 6754543.789799314,...  \n",
       "2  POLYGON ((586009.7207604215 6754258.584550213,...  \n",
       "3  POLYGON ((586245.598938267 6754403.08832045, 5...  \n",
       "4  POLYGON ((587132.3176386385 6754551.368164727,...  \n",
       "\n",
       "[5 rows x 151 columns]"
      ]
     },
     "execution_count": 17,
     "metadata": {},
     "output_type": "execute_result"
    }
   ],
   "source": [
    "# Read mis-polygons\n",
    "mis_geometry = geopandas.read_file('../Prosjekt_Honne_data_Landbruksdirektoratet/Leveranse_MiS_201017_Mjosen/MiS_NiN_Biri_Mjosen_2017.shp')\n",
    "mis_geometry.head()"
   ]
  },
  {
   "cell_type": "markdown",
   "metadata": {},
   "source": [
    "## Sort tiles"
   ]
  },
  {
   "cell_type": "code",
   "execution_count": 104,
   "metadata": {},
   "outputs": [],
   "source": [
    "# Merge all csv files to one big\n",
    "all_files = glob.glob(os.path.join(in_directory, \"*.csv\"))     # advisable to use os.path.join as this makes concatenation OS independent\n",
    "\n",
    "df_from_each_file = (pd.read_csv(f, names = [\"Tile_name\", \"X_ul\", \"X_lr\", \"Y_ul\", \"Y_lr\"]) for f in all_files)\n",
    "concatenated_df   = pd.concat(df_from_each_file, ignore_index=True)"
   ]
  },
  {
   "cell_type": "code",
   "execution_count": 109,
   "metadata": {},
   "outputs": [
    {
     "data": {
      "text/html": [
       "<div>\n",
       "<style scoped>\n",
       "    .dataframe tbody tr th:only-of-type {\n",
       "        vertical-align: middle;\n",
       "    }\n",
       "\n",
       "    .dataframe tbody tr th {\n",
       "        vertical-align: top;\n",
       "    }\n",
       "\n",
       "    .dataframe thead th {\n",
       "        text-align: right;\n",
       "    }\n",
       "</style>\n",
       "<table border=\"1\" class=\"dataframe\">\n",
       "  <thead>\n",
       "    <tr style=\"text-align: right;\">\n",
       "      <th></th>\n",
       "      <th>id</th>\n",
       "      <th>geometry</th>\n",
       "    </tr>\n",
       "  </thead>\n",
       "  <tbody>\n",
       "    <tr>\n",
       "      <th>0</th>\n",
       "      <td>1</td>\n",
       "      <td>POLYGON ((583606.7441549296 6755460.284718311,...</td>\n",
       "    </tr>\n",
       "    <tr>\n",
       "      <th>1</th>\n",
       "      <td>2</td>\n",
       "      <td>POLYGON ((586039.8219014085 6755367.182253523,...</td>\n",
       "    </tr>\n",
       "    <tr>\n",
       "      <th>2</th>\n",
       "      <td>3</td>\n",
       "      <td>POLYGON ((582998.4747183099 6756205.104436621,...</td>\n",
       "    </tr>\n",
       "  </tbody>\n",
       "</table>\n",
       "</div>"
      ],
      "text/plain": [
       "   id                                           geometry\n",
       "0   1  POLYGON ((583606.7441549296 6755460.284718311,...\n",
       "1   2  POLYGON ((586039.8219014085 6755367.182253523,...\n",
       "2   3  POLYGON ((582998.4747183099 6756205.104436621,..."
      ]
     },
     "execution_count": 109,
     "metadata": {},
     "output_type": "execute_result"
    }
   ],
   "source": [
    "# Read mis-polygons\n",
    "mis_geometry = geopandas.read_file('../Qgis/test_polygon/testpolygon.shp')\n",
    "mis_geometry.head()"
   ]
  },
  {
   "cell_type": "code",
   "execution_count": 97,
   "metadata": {},
   "outputs": [
    {
     "data": {
      "text/plain": [
       "<Figure size 432x288 with 0 Axes>"
      ]
     },
     "metadata": {},
     "output_type": "display_data"
    },
    {
     "data": {
      "image/png": "[encoded data removed]",
      "text/plain": [
       "<Figure size 432x288 with 1 Axes>"
      ]
     },
     "metadata": {
      "needs_background": "light"
     },
     "output_type": "display_data"
    }
   ],
   "source": [
    "# Plot mis-polygons\n",
    "plt.figure()\n",
    "mis_geometry.plot()\n",
    "plt.show()"
   ]
  },
  {
   "cell_type": "code",
   "execution_count": 149,
   "metadata": {},
   "outputs": [
    {
     "data": {
      "text/plain": [
       "<matplotlib.axes._subplots.AxesSubplot at 0x7ff37339a048>"
      ]
     },
     "execution_count": 149,
     "metadata": {},
     "output_type": "execute_result"
    },
    {
     "data": {
      "image/png": "[encoded data removed]",
      "text/plain": [
       "<Figure size 432x288 with 1 Axes>"
      ]
     },
     "metadata": {
      "needs_background": "light"
     },
     "output_type": "display_data"
    }
   ],
   "source": [
    "# Create a geometry of every tile (bounding box)\n",
    "# https://gis.stackexchange.com/questions/285336/convert-polygon-bounding-box-to-geodataframe\n",
    "b = [geopandas.base.box(l, b, r, t) for l, b, r, t in zip(concatenated_df.X_ul, concatenated_df.Y_lr, concatenated_df.X_lr, concatenated_df.Y_ul)]\n",
    "\n",
    "gdf = geopandas.GeoDataFrame(concatenated_df, geometry=b)"
   ]
  },
  {
   "cell_type": "code",
   "execution_count": 191,
   "metadata": {},
   "outputs": [
    {
     "name": "stdout",
     "output_type": "stream",
     "text": [
      "Checking polygon 1 of 3\n",
      "20180705-biri_13_SWIR_384me_SN3126_raw_rad_bsq_float32_geo_01_08.tif\n",
      "20180705-biri_13_SWIR_384me_SN3126_raw_rad_bsq_float32_geo_01_09.tif\n",
      "20180705-biri_13_SWIR_384me_SN3126_raw_rad_bsq_float32_geo_02_07.tif\n",
      "20180705-biri_13_SWIR_384me_SN3126_raw_rad_bsq_float32_geo_02_08.tif\n",
      "20180705-biri_13_SWIR_384me_SN3126_raw_rad_bsq_float32_geo_03_07.tif\n",
      "Checking polygon 2 of 3\n",
      "20180705-biri_13_SWIR_384me_SN3126_raw_rad_bsq_float32_geo_01_22.tif\n",
      "20180705-biri_13_SWIR_384me_SN3126_raw_rad_bsq_float32_geo_01_23.tif\n",
      "20180705-biri_13_SWIR_384me_SN3126_raw_rad_bsq_float32_geo_01_24.tif\n",
      "20180705-biri_13_SWIR_384me_SN3126_raw_rad_bsq_float32_geo_01_25.tif\n",
      "20180705-biri_13_SWIR_384me_SN3126_raw_rad_bsq_float32_geo_02_22.tif\n",
      "20180705-biri_13_SWIR_384me_SN3126_raw_rad_bsq_float32_geo_02_23.tif\n",
      "20180705-biri_13_SWIR_384me_SN3126_raw_rad_bsq_float32_geo_02_24.tif\n",
      "20180705-biri_13_SWIR_384me_SN3126_raw_rad_bsq_float32_geo_02_25.tif\n",
      "20180705-biri_13_SWIR_384me_SN3126_raw_rad_bsq_float32_geo_03_22.tif\n",
      "20180705-biri_13_SWIR_384me_SN3126_raw_rad_bsq_float32_geo_03_23.tif\n",
      "20180705-biri_13_SWIR_384me_SN3126_raw_rad_bsq_float32_geo_03_24.tif\n",
      "20180705-biri_13_SWIR_384me_SN3126_raw_rad_bsq_float32_geo_03_25.tif\n",
      "Checking polygon 3 of 3\n"
     ]
    }
   ],
   "source": [
    "# Check if a tile is inside a mis-polygon. Sorts tiles. \n",
    "for polygon_num, polygon in enumerate(mis_geometry.geometry):\n",
    "    print(f'Checking polygon {polygon_num + 1} of {len(mis_geometry.geometry)}')\n",
    "    \n",
    "    # Check if tile geometries is inside a mis-polygon\n",
    "    for index, row in gdf.iterrows():\n",
    "        \n",
    "        # If tile is inside, sort it into folder\n",
    "        if polygon.contains(row['geometry']):\n",
    "            shutil.move(in_directory + '/' + row['Tile_name'], out_directory + '/' + row['Tile_name']) \n",
    "            print(row['Tile_name'])"
   ]
  },
  {
   "cell_type": "code",
   "execution_count": null,
   "metadata": {},
   "outputs": [],
   "source": [
    "# Modifisert\n",
    "# Bruk informasjonen i mis_geometry.LIVSM_XXX for å tilegne klasse i sorteringa. Lagre dette i csv-fil eller inn i \n",
    "# concatenated_df. Då kan ein lese navn på flisa og i same slengen også leggje til miskoden inn i generatoren. Altså\n",
    "# både x (imageread(filnamn)) og y (klassekoden).\n",
    "# Check if a tile is inside a mis-polygon. Sorts tiles. \n",
    "for polygon_num, polygon in enumerate(mis_geometry):\n",
    "    print(f'Checking polygon {polygon_num + 1} of {len(mis_geometry.geometry)}')\n",
    "    \n",
    "    # Check if tile geometries is inside a mis-polygon\n",
    "    for index, row in gdf.iterrows():\n",
    "        \n",
    "        # If tile is inside, sort it into folder\n",
    "        if polygon.contains(row['geometry']):\n",
    "            shutil.move(in_directory + '/' + row['Tile_name'], out_directory + '/' + row['Tile_name']) \n",
    "            print(row['Tile_name'])"
   ]
  },
  {
   "cell_type": "markdown",
   "metadata": {},
   "source": [
    "## Read images"
   ]
  },
  {
   "cell_type": "code",
   "execution_count": 1,
   "metadata": {},
   "outputs": [
    {
     "name": "stderr",
     "output_type": "stream",
     "text": [
      "/home/landsat7/anaconda3/envs/master2018/lib/python3.6/site-packages/imageio/plugins/_tifffile.py:7285: UserWarning: module 'imageio.plugins._tifffile' has no attribute 'decode_packbits'\n",
      "  Functionality might be degraded or be slow.\n",
      "\n",
      "  warnings.warn(\"%s%s\" % (e, warn))\n",
      "/home/landsat7/anaconda3/envs/master2018/lib/python3.6/site-packages/imageio/plugins/_tifffile.py:7285: UserWarning: module 'imageio.plugins._tifffile' has no attribute 'decode_lzw'\n",
      "  Functionality might be degraded or be slow.\n",
      "\n",
      "  warnings.warn(\"%s%s\" % (e, warn))\n",
      "/home/landsat7/anaconda3/envs/master2018/lib/python3.6/site-packages/imageio/plugins/_tifffile.py:7285: UserWarning: module 'imageio.plugins._tifffile' has no attribute 'unpack_ints'\n",
      "  Functionality might be degraded or be slow.\n",
      "\n",
      "  warnings.warn(\"%s%s\" % (e, warn))\n",
      "/home/landsat7/anaconda3/envs/master2018/lib/python3.6/site-packages/imageio/plugins/_tifffile.py:7285: UserWarning: module 'imageio.plugins._tifffile' has no attribute 'reverse_bitorder'\n",
      "  Functionality might be degraded or be slow.\n",
      "\n",
      "  warnings.warn(\"%s%s\" % (e, warn))\n"
     ]
    }
   ],
   "source": [
    "import imageio\n",
    "im = imageio.imread('../Sorted_tiles/mis_tiles/20180705-biri_13_SWIR_384me_SN3126_raw_rad_bsq_float32_geo_01_22.tif')\n",
    "\n",
    "\n"
   ]
  },
  {
   "cell_type": "code",
   "execution_count": 2,
   "metadata": {},
   "outputs": [
    {
     "data": {
      "text/plain": [
       "(256, 256, 288)"
      ]
     },
     "execution_count": 2,
     "metadata": {},
     "output_type": "execute_result"
    }
   ],
   "source": [
    "im.shape"
   ]
  },
  {
   "cell_type": "code",
   "execution_count": 13,
   "metadata": {},
   "outputs": [],
   "source": [
    "from PIL import ImageEnhance\n",
    "from PIL import Image\n",
    "import numpy as np\n",
    "\n",
    "im = Image.open('../Sorted_tiles/1.jpg')\n",
    "im2 = imageio.imread('../Sorted_tiles/1.jpg')\n"
   ]
  },
  {
   "cell_type": "code",
   "execution_count": 16,
   "metadata": {},
   "outputs": [
    {
     "name": "stdout",
     "output_type": "stream",
     "text": [
      "(183, 275, 3)\n",
      "(183, 275, 3)\n",
      "[[[0 0 0]\n",
      "  [0 0 0]\n",
      "  [0 0 0]\n",
      "  ...\n",
      "  [0 0 0]\n",
      "  [0 0 0]\n",
      "  [0 0 0]]\n",
      "\n",
      " [[0 0 0]\n",
      "  [0 0 0]\n",
      "  [0 0 0]\n",
      "  ...\n",
      "  [0 0 0]\n",
      "  [0 0 0]\n",
      "  [0 0 0]]\n",
      "\n",
      " [[0 0 0]\n",
      "  [0 0 0]\n",
      "  [0 0 0]\n",
      "  ...\n",
      "  [0 0 0]\n",
      "  [0 0 0]\n",
      "  [0 0 0]]\n",
      "\n",
      " ...\n",
      "\n",
      " [[0 0 0]\n",
      "  [0 0 0]\n",
      "  [0 0 0]\n",
      "  ...\n",
      "  [0 0 0]\n",
      "  [0 0 0]\n",
      "  [0 0 0]]\n",
      "\n",
      " [[0 0 0]\n",
      "  [0 0 0]\n",
      "  [0 0 0]\n",
      "  ...\n",
      "  [0 0 0]\n",
      "  [0 0 0]\n",
      "  [0 0 0]]\n",
      "\n",
      " [[0 0 0]\n",
      "  [0 0 0]\n",
      "  [0 0 0]\n",
      "  ...\n",
      "  [0 0 0]\n",
      "  [0 0 0]\n",
      "  [0 0 0]]]\n"
     ]
    }
   ],
   "source": [
    "print(np.array(im).shape)\n",
    "print(im2.shape)\n",
    "print(im-im2)"
   ]
  },
  {
   "cell_type": "code",
   "execution_count": null,
   "metadata": {},
   "outputs": [],
   "source": []
  }
 ],
 "metadata": {
  "kernelspec": {
   "display_name": "Python 3",
   "language": "python",
   "name": "python3"
  },
  "language_info": {
   "codemirror_mode": {
    "name": "ipython",
    "version": 3
   },
   "file_extension": ".py",
   "mimetype": "text/x-python",
   "name": "python",
   "nbconvert_exporter": "python",
   "pygments_lexer": "ipython3",
   "version": "3.6.7"
  }
 },
 "nbformat": 4,
 "nbformat_minor": 2
}
