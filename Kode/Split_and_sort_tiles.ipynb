{
 "cells": [
  {
   "cell_type": "markdown",
   "metadata": {},
   "source": [
    "https://www.gdal.org/gdal_retile.html\n",
    "\n"
   ]
  },
  {
   "cell_type": "markdown",
   "metadata": {},
   "source": [
    "## Import"
   ]
  },
  {
   "cell_type": "code",
   "execution_count": 17,
   "metadata": {},
   "outputs": [],
   "source": [
    "import pandas as pd\n",
    "import geopandas # http://geopandas.org/reference.html\n",
    "import matplotlib.pyplot as plt\n",
    "\n",
    "import imageio\n",
    "\n",
    "import glob\n",
    "import numpy as np\n",
    "\n",
    "import os\n",
    "import shutil     # Kopiering av filer\n",
    "from osgeo import ogr, gdal    # GDAL\n",
    "\n",
    "# Python kode som delar opp bildet.\n",
    "import gdal_retile\n",
    "import gdal_merge"
   ]
  },
  {
   "cell_type": "code",
   "execution_count": 18,
   "metadata": {},
   "outputs": [
    {
     "name": "stdout",
     "output_type": "stream",
     "text": [
      "20180705-biri_02_SWIR_384me_SN3126_raw_rad_bsq_float32_geo.dat\r\n",
      "20180705-biri_02_SWIR_384me_SN3126_raw_rad_bsq_float32_geo.dat.aux.xml\r\n",
      "20180705-biri_02_SWIR_384me_SN3126_raw_rad_bsq_float32_geo.hdr\r\n",
      "20180705-biri_02_SWIR_384me_SN3126_raw_rad_bsq_float32_geo.zip\r\n",
      "20180705-biri_02_VNIR_1800_SN00827_raw_rad_bsq_float32_geo.dat\r\n",
      "20180705-biri_02_VNIR_1800_SN00827_raw_rad_bsq_float32_geo.dat.aux.xml\r\n",
      "20180705-biri_02_VNIR_1800_SN00827_raw_rad_bsq_float32_geo.hdr\r\n",
      "20180705-biri_02_VNIR_1800_SN00827_raw_rad_bsq_float32_geo.zip\r\n"
     ]
    }
   ],
   "source": [
    "# Check that unpacked files are there. Unpack them?\n",
    "!ls ../Raw_data"
   ]
  },
  {
   "cell_type": "code",
   "execution_count": 19,
   "metadata": {},
   "outputs": [],
   "source": [
    "# Global variables:\n",
    "imagestripes_names = glob.glob('../Raw_data/*.dat') # Lists every imagestripe\n",
    "imagestripes_out_dir = '../Merged_image_stripes/'\n",
    "\n",
    "\n",
    "\n",
    "name_tiles= glob.glob('../Merged_image_stripes/*.tif') # Lists every imagefile\n",
    "#ame_shapefile = \"shapefile/utsnit.shp\"\n",
    "name_csv = 'tile_envelope_coordinates.csv'\n",
    "in_directory = '../Sorted_tiles'\n",
    "out_directory = '../Sorted_tiles/mis_tiles'\n",
    "\n",
    "# Size of output tile\n",
    "tile_with = '50'\n",
    "tile_heigth = '50'"
   ]
  },
  {
   "cell_type": "markdown",
   "metadata": {},
   "source": [
    "## Merge bands"
   ]
  },
  {
   "cell_type": "code",
   "execution_count": 3,
   "metadata": {},
   "outputs": [
    {
     "data": {
      "text/plain": [
       "['../Raw_data/20180705-biri_02_SWIR_384me_SN3126_raw_rad_bsq_float32_geo.dat',\n",
       " '../Raw_data/20180705-biri_02_VNIR_1800_SN00827_raw_rad_bsq_float32_geo.dat']"
      ]
     },
     "execution_count": 3,
     "metadata": {},
     "output_type": "execute_result"
    }
   ],
   "source": [
    "imagestripes_names"
   ]
  },
  {
   "cell_type": "code",
   "execution_count": 46,
   "metadata": {},
   "outputs": [
    {
     "name": "stdout",
     "output_type": "stream",
     "text": [
      "gdal_merge.py -o ../Merged_image_stripes/stripe_merged_2.tif -separate -v -ot Float32 -of GTiff ../Raw_data/20180705-biri_02_VNIR_1800_SN00827_raw_rad_bsq_float32_geo.hdr../Raw_data/20180705-biri_02_SWIR_384me_SN3126_raw_rad_bsq_float32_geo.dat.aux.xml\n",
      "0\n"
     ]
    }
   ],
   "source": [
    "# Run merge function for each set of VNIR and SWNIR stripes\n",
    "for i, k in enumerate(imagestripes_names[::2]):\n",
    "    print(f'Prossesing stripe {i+1} of {len(name_imagefiles)}')\n",
    "    print(f'Merging {name_imagestripes[1]} and {name_imagestripes[0]})\n",
    "\n",
    "    \n",
    "    # The highes resolution image as fist input. In this case VNIR before Swnir.\n",
    "    cmd = 'gdal_merge.py -o '+ imagestripes_out_dir +'stripe_merged_'+ str(2+i) +'.tif -separate -v -ot Float32 -of GTiff '+ name_imagestripes[1] + name_imagestripes[0]\n",
    "    \n",
    "    os.system(cmd)\n"
   ]
  },
  {
   "cell_type": "markdown",
   "metadata": {},
   "source": [
    "## Make tiles"
   ]
  },
  {
   "cell_type": "code",
   "execution_count": 21,
   "metadata": {},
   "outputs": [
    {
     "name": "stdout",
     "output_type": "stream",
     "text": [
      "Prossesing image 1 of 1\n"
     ]
    }
   ],
   "source": [
    "# Run retilefunction for each image\n",
    "for i, image_name in enumerate(name_imagefiles):\n",
    "    print(f'Prossesing image {i+1} of {len(name_tiles)}')\n",
    "    \n",
    "    cmd = 'gdal_retile.py -ps ' + tile_with +' '+ tile_heigth + ' -overlap 0 -levels 1 -r near -ot Float32 -csv '+ str(i) + name_csv + ' -csvDelim \",\" -targetDir '+'\\''+in_directory+'\\''+ ' ' +'\\''+image_name+'\\''\n",
    "    #print(cmd)\n",
    "    os.system(cmd)"
   ]
  },
  {
   "cell_type": "markdown",
   "metadata": {},
   "source": [
    "### Delete empyt tiles or tiles with irregular shape "
   ]
  },
  {
   "cell_type": "code",
   "execution_count": 8,
   "metadata": {},
   "outputs": [],
   "source": [
    "list_tiles = glob.glob('../Sorted_tiles/*.tif')\n",
    "tiles_to_be_removed = []"
   ]
  },
  {
   "cell_type": "code",
   "execution_count": 9,
   "metadata": {},
   "outputs": [],
   "source": [
    "def get_input(path):\n",
    "    \n",
    "    img = imageio.imread(path)\n",
    "    \n",
    "    return(img)"
   ]
  },
  {
   "cell_type": "code",
   "execution_count": 10,
   "metadata": {},
   "outputs": [
    {
     "name": "stderr",
     "output_type": "stream",
     "text": [
      "/home/landsat7/anaconda3/envs/master2018/lib/python3.6/site-packages/imageio/plugins/_tifffile.py:7285: UserWarning: module 'imageio.plugins._tifffile' has no attribute 'decode_packbits'\n",
      "  Functionality might be degraded or be slow.\n",
      "\n",
      "  warnings.warn(\"%s%s\" % (e, warn))\n",
      "/home/landsat7/anaconda3/envs/master2018/lib/python3.6/site-packages/imageio/plugins/_tifffile.py:7285: UserWarning: module 'imageio.plugins._tifffile' has no attribute 'decode_lzw'\n",
      "  Functionality might be degraded or be slow.\n",
      "\n",
      "  warnings.warn(\"%s%s\" % (e, warn))\n",
      "/home/landsat7/anaconda3/envs/master2018/lib/python3.6/site-packages/imageio/plugins/_tifffile.py:7285: UserWarning: module 'imageio.plugins._tifffile' has no attribute 'unpack_ints'\n",
      "  Functionality might be degraded or be slow.\n",
      "\n",
      "  warnings.warn(\"%s%s\" % (e, warn))\n",
      "/home/landsat7/anaconda3/envs/master2018/lib/python3.6/site-packages/imageio/plugins/_tifffile.py:7285: UserWarning: module 'imageio.plugins._tifffile' has no attribute 'reverse_bitorder'\n",
      "  Functionality might be degraded or be slow.\n",
      "\n",
      "  warnings.warn(\"%s%s\" % (e, warn))\n"
     ]
    }
   ],
   "source": [
    "# Checks tiles and delete the irregular ones.\n",
    "for tile_path in list_tiles:\n",
    "    image = get_input(tile_path)\n",
    "    \n",
    "    if not image.any(): # Checks if image is only zeroes, no data.\n",
    "        tiles_to_be_removed.append(os.path.basename(tile_path))\n",
    "        os.remove(tile_path) \n",
    "        \n",
    "    elif image.shape != (int(tile_with), int(tile_heigth), 474): # Checks if image is correctly shaped\n",
    "        tiles_to_be_removed.append(os.path.basename(tile_path))\n",
    "        os.remove(tile_path)"
   ]
  },
  {
   "cell_type": "code",
   "execution_count": 12,
   "metadata": {},
   "outputs": [
    {
     "name": "stdout",
     "output_type": "stream",
     "text": [
      "649 tiles was deleted\n"
     ]
    }
   ],
   "source": [
    "print(f'{len(tiles_to_be_removed)} tiles was deleted.')"
   ]
  },
  {
   "cell_type": "markdown",
   "metadata": {},
   "source": [
    "## Find categories\n",
    "Label 99 means that the tile contains no MIS-label."
   ]
  },
  {
   "cell_type": "code",
   "execution_count": 13,
   "metadata": {},
   "outputs": [
    {
     "data": {
      "text/html": [
       "<div>\n",
       "<style scoped>\n",
       "    .dataframe tbody tr th:only-of-type {\n",
       "        vertical-align: middle;\n",
       "    }\n",
       "\n",
       "    .dataframe tbody tr th {\n",
       "        vertical-align: top;\n",
       "    }\n",
       "\n",
       "    .dataframe thead th {\n",
       "        text-align: right;\n",
       "    }\n",
       "</style>\n",
       "<table border=\"1\" class=\"dataframe\">\n",
       "  <thead>\n",
       "    <tr style=\"text-align: right;\">\n",
       "      <th></th>\n",
       "      <th>Kode</th>\n",
       "      <th>Navn</th>\n",
       "    </tr>\n",
       "  </thead>\n",
       "  <tbody>\n",
       "    <tr>\n",
       "      <th>0</th>\n",
       "      <td>1</td>\n",
       "      <td>Stående død ved</td>\n",
       "    </tr>\n",
       "    <tr>\n",
       "      <th>1</th>\n",
       "      <td>2</td>\n",
       "      <td>Liggende død ved</td>\n",
       "    </tr>\n",
       "    <tr>\n",
       "      <th>2</th>\n",
       "      <td>3</td>\n",
       "      <td>Rikbarkstrær</td>\n",
       "    </tr>\n",
       "    <tr>\n",
       "      <th>3</th>\n",
       "      <td>4</td>\n",
       "      <td>Trær med hengelav</td>\n",
       "    </tr>\n",
       "    <tr>\n",
       "      <th>4</th>\n",
       "      <td>5</td>\n",
       "      <td>Eldre lauvsuksesjoner</td>\n",
       "    </tr>\n",
       "    <tr>\n",
       "      <th>5</th>\n",
       "      <td>6</td>\n",
       "      <td>Gamle trær</td>\n",
       "    </tr>\n",
       "    <tr>\n",
       "      <th>6</th>\n",
       "      <td>7</td>\n",
       "      <td>Hule lauvtrær</td>\n",
       "    </tr>\n",
       "    <tr>\n",
       "      <th>7</th>\n",
       "      <td>8</td>\n",
       "      <td>Brannflater</td>\n",
       "    </tr>\n",
       "    <tr>\n",
       "      <th>8</th>\n",
       "      <td>9</td>\n",
       "      <td>Rik bakkevegetasjon</td>\n",
       "    </tr>\n",
       "    <tr>\n",
       "      <th>9</th>\n",
       "      <td>10</td>\n",
       "      <td>Bergvegger</td>\n",
       "    </tr>\n",
       "    <tr>\n",
       "      <th>10</th>\n",
       "      <td>11</td>\n",
       "      <td>Leirraviner</td>\n",
       "    </tr>\n",
       "    <tr>\n",
       "      <th>11</th>\n",
       "      <td>12</td>\n",
       "      <td>Bekkekløfter</td>\n",
       "    </tr>\n",
       "  </tbody>\n",
       "</table>\n",
       "</div>"
      ],
      "text/plain": [
       "    Kode                  Navn \n",
       "0      1        Stående død ved\n",
       "1      2       Liggende død ved\n",
       "2      3           Rikbarkstrær\n",
       "3      4      Trær med hengelav\n",
       "4      5  Eldre lauvsuksesjoner\n",
       "5      6             Gamle trær\n",
       "6      7          Hule lauvtrær\n",
       "7      8            Brannflater\n",
       "8      9    Rik bakkevegetasjon\n",
       "9     10             Bergvegger\n",
       "10    11            Leirraviner\n",
       "11    12           Bekkekløfter"
      ]
     },
     "execution_count": 13,
     "metadata": {},
     "output_type": "execute_result"
    }
   ],
   "source": [
    "MIS_code_key = pd.read_excel(io='../Prosjekt_Honne_data_Landbruksdirektoratet/Koder Mis-nin i shape pilot 2.0.xlsx', sheet_name='LM.kode')\n",
    "MIS_code_key"
   ]
  },
  {
   "cell_type": "code",
   "execution_count": 14,
   "metadata": {},
   "outputs": [
    {
     "data": {
      "text/html": [
       "<div>\n",
       "<style scoped>\n",
       "    .dataframe tbody tr th:only-of-type {\n",
       "        vertical-align: middle;\n",
       "    }\n",
       "\n",
       "    .dataframe tbody tr th {\n",
       "        vertical-align: top;\n",
       "    }\n",
       "\n",
       "    .dataframe thead th {\n",
       "        text-align: right;\n",
       "    }\n",
       "</style>\n",
       "<table border=\"1\" class=\"dataframe\">\n",
       "  <thead>\n",
       "    <tr style=\"text-align: right;\">\n",
       "      <th></th>\n",
       "      <th>OBJECTID</th>\n",
       "      <th>AREAL</th>\n",
       "      <th>REG_DATO_F</th>\n",
       "      <th>KGRAD</th>\n",
       "      <th>VERDI</th>\n",
       "      <th>NATURTYPE</th>\n",
       "      <th>KGRAD_BEGR</th>\n",
       "      <th>SKOGBESKRI</th>\n",
       "      <th>FORVALTNIN</th>\n",
       "      <th>FKODE</th>\n",
       "      <th>...</th>\n",
       "      <th>UT_EKSP</th>\n",
       "      <th>KI_VANNP</th>\n",
       "      <th>LIVSM1</th>\n",
       "      <th>LIVSM2</th>\n",
       "      <th>area</th>\n",
       "      <th>sum_lauv</th>\n",
       "      <th>sum_gamle</th>\n",
       "      <th>sum_LDV</th>\n",
       "      <th>sum_SDV</th>\n",
       "      <th>geometry</th>\n",
       "    </tr>\n",
       "  </thead>\n",
       "  <tbody>\n",
       "    <tr>\n",
       "      <th>0</th>\n",
       "      <td>0</td>\n",
       "      <td>8</td>\n",
       "      <td>2017-09-01</td>\n",
       "      <td>0</td>\n",
       "      <td>None</td>\n",
       "      <td>0</td>\n",
       "      <td>None</td>\n",
       "      <td>Ensjiktet produksjonsskog av gran og noe bjørk...</td>\n",
       "      <td>None</td>\n",
       "      <td>1</td>\n",
       "      <td>...</td>\n",
       "      <td>b</td>\n",
       "      <td>A2</td>\n",
       "      <td>2</td>\n",
       "      <td>1</td>\n",
       "      <td>8159</td>\n",
       "      <td>0</td>\n",
       "      <td>0</td>\n",
       "      <td>19</td>\n",
       "      <td>16</td>\n",
       "      <td>POLYGON ((585266.8620801514 6754440.302978287,...</td>\n",
       "    </tr>\n",
       "    <tr>\n",
       "      <th>1</th>\n",
       "      <td>0</td>\n",
       "      <td>2</td>\n",
       "      <td>2017-09-01</td>\n",
       "      <td>0</td>\n",
       "      <td>None</td>\n",
       "      <td>0</td>\n",
       "      <td>None</td>\n",
       "      <td>Gamle furutrr I blanding med gran og noe lauv.</td>\n",
       "      <td>None</td>\n",
       "      <td>1</td>\n",
       "      <td>...</td>\n",
       "      <td>d</td>\n",
       "      <td>A2</td>\n",
       "      <td>6</td>\n",
       "      <td>0</td>\n",
       "      <td>2251</td>\n",
       "      <td>0</td>\n",
       "      <td>7</td>\n",
       "      <td>0</td>\n",
       "      <td>0</td>\n",
       "      <td>POLYGON ((585548.5608584847 6754543.789799314,...</td>\n",
       "    </tr>\n",
       "    <tr>\n",
       "      <th>2</th>\n",
       "      <td>0</td>\n",
       "      <td>3</td>\n",
       "      <td>2017-09-12</td>\n",
       "      <td>0</td>\n",
       "      <td>None</td>\n",
       "      <td>0</td>\n",
       "      <td>None</td>\n",
       "      <td>Bekkeklöft med noe liggende død ved og hengestry.</td>\n",
       "      <td>None</td>\n",
       "      <td>1</td>\n",
       "      <td>...</td>\n",
       "      <td>a</td>\n",
       "      <td>A2</td>\n",
       "      <td>12</td>\n",
       "      <td>2</td>\n",
       "      <td>3235</td>\n",
       "      <td>0</td>\n",
       "      <td>0</td>\n",
       "      <td>15</td>\n",
       "      <td>0</td>\n",
       "      <td>POLYGON ((586009.7207604215 6754258.584550213,...</td>\n",
       "    </tr>\n",
       "    <tr>\n",
       "      <th>3</th>\n",
       "      <td>0</td>\n",
       "      <td>3</td>\n",
       "      <td>2017-09-12</td>\n",
       "      <td>0</td>\n",
       "      <td>None</td>\n",
       "      <td>0</td>\n",
       "      <td>None</td>\n",
       "      <td>Liggende og noe stående død ved.</td>\n",
       "      <td>None</td>\n",
       "      <td>1</td>\n",
       "      <td>...</td>\n",
       "      <td>a</td>\n",
       "      <td>A2</td>\n",
       "      <td>2</td>\n",
       "      <td>0</td>\n",
       "      <td>2871</td>\n",
       "      <td>0</td>\n",
       "      <td>0</td>\n",
       "      <td>10</td>\n",
       "      <td>0</td>\n",
       "      <td>POLYGON ((586245.598938267 6754403.08832045, 5...</td>\n",
       "    </tr>\n",
       "    <tr>\n",
       "      <th>4</th>\n",
       "      <td>0</td>\n",
       "      <td>9</td>\n",
       "      <td>2017-09-13</td>\n",
       "      <td>0</td>\n",
       "      <td>None</td>\n",
       "      <td>0</td>\n",
       "      <td>None</td>\n",
       "      <td>Også noe stående død ved.</td>\n",
       "      <td>None</td>\n",
       "      <td>0</td>\n",
       "      <td>...</td>\n",
       "      <td>b</td>\n",
       "      <td>A2</td>\n",
       "      <td>2</td>\n",
       "      <td>0</td>\n",
       "      <td>9474</td>\n",
       "      <td>0</td>\n",
       "      <td>0</td>\n",
       "      <td>14</td>\n",
       "      <td>0</td>\n",
       "      <td>POLYGON ((587132.3176386385 6754551.368164727,...</td>\n",
       "    </tr>\n",
       "  </tbody>\n",
       "</table>\n",
       "<p>5 rows × 151 columns</p>\n",
       "</div>"
      ],
      "text/plain": [
       "   OBJECTID  AREAL  REG_DATO_F  KGRAD VERDI  NATURTYPE KGRAD_BEGR  \\\n",
       "0         0      8  2017-09-01      0  None          0       None   \n",
       "1         0      2  2017-09-01      0  None          0       None   \n",
       "2         0      3  2017-09-12      0  None          0       None   \n",
       "3         0      3  2017-09-12      0  None          0       None   \n",
       "4         0      9  2017-09-13      0  None          0       None   \n",
       "\n",
       "                                          SKOGBESKRI FORVALTNIN  FKODE  \\\n",
       "0  Ensjiktet produksjonsskog av gran og noe bjørk...       None      1   \n",
       "1    Gamle furutrr I blanding med gran og noe lauv.       None      1   \n",
       "2  Bekkeklöft med noe liggende død ved og hengestry.       None      1   \n",
       "3                   Liggende og noe stående død ved.       None      1   \n",
       "4                          Også noe stående død ved.       None      0   \n",
       "\n",
       "                         ...                          UT_EKSP KI_VANNP  \\\n",
       "0                        ...                                b       A2   \n",
       "1                        ...                                d       A2   \n",
       "2                        ...                                a       A2   \n",
       "3                        ...                                a       A2   \n",
       "4                        ...                                b       A2   \n",
       "\n",
       "   LIVSM1  LIVSM2  area  sum_lauv  sum_gamle  sum_LDV  sum_SDV  \\\n",
       "0       2       1  8159         0          0       19       16   \n",
       "1       6       0  2251         0          7        0        0   \n",
       "2      12       2  3235         0          0       15        0   \n",
       "3       2       0  2871         0          0       10        0   \n",
       "4       2       0  9474         0          0       14        0   \n",
       "\n",
       "                                            geometry  \n",
       "0  POLYGON ((585266.8620801514 6754440.302978287,...  \n",
       "1  POLYGON ((585548.5608584847 6754543.789799314,...  \n",
       "2  POLYGON ((586009.7207604215 6754258.584550213,...  \n",
       "3  POLYGON ((586245.598938267 6754403.08832045, 5...  \n",
       "4  POLYGON ((587132.3176386385 6754551.368164727,...  \n",
       "\n",
       "[5 rows x 151 columns]"
      ]
     },
     "execution_count": 14,
     "metadata": {},
     "output_type": "execute_result"
    }
   ],
   "source": [
    "# Read mis-polygons\n",
    "mis_geometry_mjosen = geopandas.read_file('../Prosjekt_Honne_data_Landbruksdirektoratet/Leveranse_MiS_201017_Mjosen/MiS_NiN_Biri_Mjosen_2017.shp')\n",
    "\n",
    "mis_geometry_mjosen.head()"
   ]
  },
  {
   "cell_type": "code",
   "execution_count": 15,
   "metadata": {},
   "outputs": [
    {
     "data": {
      "text/plain": [
       "<Figure size 432x288 with 0 Axes>"
      ]
     },
     "metadata": {},
     "output_type": "display_data"
    },
    {
     "data": {
      "image/png": "[encoded data removed]",
      "text/plain": [
       "<Figure size 432x288 with 1 Axes>"
      ]
     },
     "metadata": {
      "needs_background": "light"
     },
     "output_type": "display_data"
    }
   ],
   "source": [
    "# Plot mis-polygons\n",
    "plt.figure()\n",
    "mis_geometry_mjosen.plot()\n",
    "plt.show()"
   ]
  },
  {
   "cell_type": "markdown",
   "metadata": {},
   "source": [
    "### Test polygon"
   ]
  },
  {
   "cell_type": "code",
   "execution_count": 20,
   "metadata": {},
   "outputs": [
    {
     "data": {
      "text/html": [
       "<div>\n",
       "<style scoped>\n",
       "    .dataframe tbody tr th:only-of-type {\n",
       "        vertical-align: middle;\n",
       "    }\n",
       "\n",
       "    .dataframe tbody tr th {\n",
       "        vertical-align: top;\n",
       "    }\n",
       "\n",
       "    .dataframe thead th {\n",
       "        text-align: right;\n",
       "    }\n",
       "</style>\n",
       "<table border=\"1\" class=\"dataframe\">\n",
       "  <thead>\n",
       "    <tr style=\"text-align: right;\">\n",
       "      <th></th>\n",
       "      <th>id</th>\n",
       "      <th>LIVSM1</th>\n",
       "      <th>LIVSM2</th>\n",
       "      <th>geometry</th>\n",
       "    </tr>\n",
       "  </thead>\n",
       "  <tbody>\n",
       "    <tr>\n",
       "      <th>0</th>\n",
       "      <td>1</td>\n",
       "      <td>1</td>\n",
       "      <td>0</td>\n",
       "      <td>POLYGON ((587035.6726263626 6757593.473657084,...</td>\n",
       "    </tr>\n",
       "    <tr>\n",
       "      <th>1</th>\n",
       "      <td>2</td>\n",
       "      <td>1</td>\n",
       "      <td>0</td>\n",
       "      <td>POLYGON ((587080.3170862239 6757522.567750248,...</td>\n",
       "    </tr>\n",
       "    <tr>\n",
       "      <th>2</th>\n",
       "      <td>3</td>\n",
       "      <td>2</td>\n",
       "      <td>0</td>\n",
       "      <td>POLYGON ((586998.0312190288 6757590.847512389,...</td>\n",
       "    </tr>\n",
       "    <tr>\n",
       "      <th>3</th>\n",
       "      <td>4</td>\n",
       "      <td>2</td>\n",
       "      <td>3</td>\n",
       "      <td>POLYGON ((587065.4355996035 6757496.306303267,...</td>\n",
       "    </tr>\n",
       "    <tr>\n",
       "      <th>4</th>\n",
       "      <td>5</td>\n",
       "      <td>5</td>\n",
       "      <td>4</td>\n",
       "      <td>POLYGON ((587234.3842418236 6757473.546382557,...</td>\n",
       "    </tr>\n",
       "  </tbody>\n",
       "</table>\n",
       "</div>"
      ],
      "text/plain": [
       "   id  LIVSM1  LIVSM2                                           geometry\n",
       "0   1       1       0  POLYGON ((587035.6726263626 6757593.473657084,...\n",
       "1   2       1       0  POLYGON ((587080.3170862239 6757522.567750248,...\n",
       "2   3       2       0  POLYGON ((586998.0312190288 6757590.847512389,...\n",
       "3   4       2       3  POLYGON ((587065.4355996035 6757496.306303267,...\n",
       "4   5       5       4  POLYGON ((587234.3842418236 6757473.546382557,..."
      ]
     },
     "execution_count": 20,
     "metadata": {},
     "output_type": "execute_result"
    }
   ],
   "source": [
    "mis_geometry_test = geopandas.read_file('../Qgis/test_polygon/testpolygon_rett_epsg.shp')\n",
    "mis_geometry_test.head()"
   ]
  },
  {
   "cell_type": "code",
   "execution_count": 17,
   "metadata": {},
   "outputs": [
    {
     "data": {
      "text/plain": [
       "<Figure size 432x288 with 0 Axes>"
      ]
     },
     "metadata": {},
     "output_type": "display_data"
    },
    {
     "data": {
      "image/png": "[encoded data removed]",
      "text/plain": [
       "<Figure size 432x288 with 1 Axes>"
      ]
     },
     "metadata": {
      "needs_background": "light"
     },
     "output_type": "display_data"
    }
   ],
   "source": [
    "# Plot mis-polygons\n",
    "plt.figure()\n",
    "mis_geometry_test.plot()\n",
    "plt.show()"
   ]
  },
  {
   "cell_type": "markdown",
   "metadata": {},
   "source": [
    "## Sort tiles"
   ]
  },
  {
   "cell_type": "code",
   "execution_count": 21,
   "metadata": {},
   "outputs": [],
   "source": [
    "# Merge all csv files to one big\n",
    "all_files = glob.glob(os.path.join(in_directory, \"*.csv\"))     # advisable to use os.path.join as this makes concatenation OS independent\n",
    "\n",
    "df_from_each_file = (pd.read_csv(f, names = [\"Tile_name\", \"X_ul\", \"X_lr\", \"Y_ul\", \"Y_lr\"]) for f in all_files)\n",
    "concatenated_df   = pd.concat(df_from_each_file, ignore_index=True)"
   ]
  },
  {
   "cell_type": "code",
   "execution_count": 22,
   "metadata": {},
   "outputs": [
    {
     "data": {
      "text/plain": [
       "Tile_name    1197\n",
       "X_ul         1197\n",
       "X_lr         1197\n",
       "Y_ul         1197\n",
       "Y_lr         1197\n",
       "dtype: int64"
      ]
     },
     "execution_count": 22,
     "metadata": {},
     "output_type": "execute_result"
    }
   ],
   "source": [
    "concatenated_df.count()"
   ]
  },
  {
   "cell_type": "code",
   "execution_count": 23,
   "metadata": {},
   "outputs": [
    {
     "data": {
      "text/html": [
       "<div>\n",
       "<style scoped>\n",
       "    .dataframe tbody tr th:only-of-type {\n",
       "        vertical-align: middle;\n",
       "    }\n",
       "\n",
       "    .dataframe tbody tr th {\n",
       "        vertical-align: top;\n",
       "    }\n",
       "\n",
       "    .dataframe thead th {\n",
       "        text-align: right;\n",
       "    }\n",
       "</style>\n",
       "<table border=\"1\" class=\"dataframe\">\n",
       "  <thead>\n",
       "    <tr style=\"text-align: right;\">\n",
       "      <th></th>\n",
       "      <th>Tile_name</th>\n",
       "      <th>X_ul</th>\n",
       "      <th>X_lr</th>\n",
       "      <th>Y_ul</th>\n",
       "      <th>Y_lr</th>\n",
       "    </tr>\n",
       "  </thead>\n",
       "  <tbody>\n",
       "    <tr>\n",
       "      <th>0</th>\n",
       "      <td>all_bands_merged_01_01.tif</td>\n",
       "      <td>586706.55</td>\n",
       "      <td>586721.55</td>\n",
       "      <td>6757675.55</td>\n",
       "      <td>6757690.55</td>\n",
       "    </tr>\n",
       "    <tr>\n",
       "      <th>1</th>\n",
       "      <td>all_bands_merged_01_02.tif</td>\n",
       "      <td>586721.55</td>\n",
       "      <td>586736.55</td>\n",
       "      <td>6757675.55</td>\n",
       "      <td>6757690.55</td>\n",
       "    </tr>\n",
       "    <tr>\n",
       "      <th>2</th>\n",
       "      <td>all_bands_merged_01_03.tif</td>\n",
       "      <td>586736.55</td>\n",
       "      <td>586751.55</td>\n",
       "      <td>6757675.55</td>\n",
       "      <td>6757690.55</td>\n",
       "    </tr>\n",
       "    <tr>\n",
       "      <th>3</th>\n",
       "      <td>all_bands_merged_01_04.tif</td>\n",
       "      <td>586751.55</td>\n",
       "      <td>586766.55</td>\n",
       "      <td>6757675.55</td>\n",
       "      <td>6757690.55</td>\n",
       "    </tr>\n",
       "    <tr>\n",
       "      <th>4</th>\n",
       "      <td>all_bands_merged_01_05.tif</td>\n",
       "      <td>586766.55</td>\n",
       "      <td>586781.55</td>\n",
       "      <td>6757675.55</td>\n",
       "      <td>6757690.55</td>\n",
       "    </tr>\n",
       "  </tbody>\n",
       "</table>\n",
       "</div>"
      ],
      "text/plain": [
       "                    Tile_name       X_ul       X_lr        Y_ul        Y_lr\n",
       "0  all_bands_merged_01_01.tif  586706.55  586721.55  6757675.55  6757690.55\n",
       "1  all_bands_merged_01_02.tif  586721.55  586736.55  6757675.55  6757690.55\n",
       "2  all_bands_merged_01_03.tif  586736.55  586751.55  6757675.55  6757690.55\n",
       "3  all_bands_merged_01_04.tif  586751.55  586766.55  6757675.55  6757690.55\n",
       "4  all_bands_merged_01_05.tif  586766.55  586781.55  6757675.55  6757690.55"
      ]
     },
     "execution_count": 23,
     "metadata": {},
     "output_type": "execute_result"
    }
   ],
   "source": [
    "concatenated_df.head()"
   ]
  },
  {
   "cell_type": "code",
   "execution_count": 24,
   "metadata": {},
   "outputs": [
    {
     "ename": "NameError",
     "evalue": "name 'tiles_to_be_removed' is not defined",
     "output_type": "error",
     "traceback": [
      "\u001b[0;31m---------------------------------------------------------------------------\u001b[0m",
      "\u001b[0;31mNameError\u001b[0m                                 Traceback (most recent call last)",
      "\u001b[0;32m<ipython-input-24-87a8f8fd0ce5>\u001b[0m in \u001b[0;36m<module>\u001b[0;34m\u001b[0m\n\u001b[1;32m      1\u001b[0m \u001b[0;31m# Remove tiles found to be irregular or not wanted\u001b[0m\u001b[0;34m\u001b[0m\u001b[0;34m\u001b[0m\u001b[0;34m\u001b[0m\u001b[0m\n\u001b[0;32m----> 2\u001b[0;31m \u001b[0mconcatenated_df\u001b[0m \u001b[0;34m=\u001b[0m \u001b[0mconcatenated_df\u001b[0m\u001b[0;34m[\u001b[0m\u001b[0;34m~\u001b[0m\u001b[0mconcatenated_df\u001b[0m\u001b[0;34m[\u001b[0m\u001b[0;34m'Tile_name'\u001b[0m\u001b[0;34m]\u001b[0m\u001b[0;34m.\u001b[0m\u001b[0misin\u001b[0m\u001b[0;34m(\u001b[0m\u001b[0mtiles_to_be_removed\u001b[0m\u001b[0;34m)\u001b[0m\u001b[0;34m]\u001b[0m\u001b[0;34m\u001b[0m\u001b[0;34m\u001b[0m\u001b[0m\n\u001b[0m\u001b[1;32m      3\u001b[0m \u001b[0mconcatenated_df\u001b[0m\u001b[0;34m.\u001b[0m\u001b[0mreset_index\u001b[0m\u001b[0;34m(\u001b[0m\u001b[0mdrop\u001b[0m\u001b[0;34m=\u001b[0m\u001b[0;32mTrue\u001b[0m\u001b[0;34m,\u001b[0m \u001b[0minplace\u001b[0m\u001b[0;34m=\u001b[0m\u001b[0;32mTrue\u001b[0m\u001b[0;34m)\u001b[0m\u001b[0;34m\u001b[0m\u001b[0;34m\u001b[0m\u001b[0m\n\u001b[1;32m      4\u001b[0m \u001b[0mconcatenated_df\u001b[0m\u001b[0;34m.\u001b[0m\u001b[0mhead\u001b[0m\u001b[0;34m(\u001b[0m\u001b[0;34m)\u001b[0m\u001b[0;34m\u001b[0m\u001b[0;34m\u001b[0m\u001b[0m\n",
      "\u001b[0;31mNameError\u001b[0m: name 'tiles_to_be_removed' is not defined"
     ]
    }
   ],
   "source": [
    "# Remove tiles found to be irregular or not wanted\n",
    "concatenated_df = concatenated_df[~concatenated_df['Tile_name'].isin(tiles_to_be_removed)]\n",
    "concatenated_df.reset_index(drop=True, inplace=True)\n",
    "concatenated_df.head()"
   ]
  },
  {
   "cell_type": "code",
   "execution_count": 49,
   "metadata": {},
   "outputs": [
    {
     "data": {
      "text/plain": [
       "Tile_name    551\n",
       "X_ul         551\n",
       "X_lr         551\n",
       "Y_ul         551\n",
       "Y_lr         551\n",
       "dtype: int64"
      ]
     },
     "execution_count": 49,
     "metadata": {},
     "output_type": "execute_result"
    }
   ],
   "source": [
    "concatenated_df.count()"
   ]
  },
  {
   "cell_type": "code",
   "execution_count": 50,
   "metadata": {},
   "outputs": [],
   "source": [
    "# Create a geometry of every tile (bounding box)\n",
    "# https://gis.stackexchange.com/questions/285336/convert-polygon-bounding-box-to-geodataframe\n",
    "b = [geopandas.base.box(l, b, r, t) for l, b, r, t in zip(concatenated_df.X_ul, concatenated_df.Y_lr, concatenated_df.X_lr, concatenated_df.Y_ul)]\n",
    "\n",
    "gdf = geopandas.GeoDataFrame(concatenated_df, geometry=b)\n",
    "\n",
    "# Create dataframe to save labels\n",
    "labeled_tiles = pd.DataFrame(gdf['Tile_name'])\n",
    "labeled_tiles.index.name = 'ID'\n",
    "\n",
    "# Create label collum, label 99 means no \"no MIS label\"\n",
    "labeled_tiles[\"LIVSM1\"] = int(99)\n",
    "labeled_tiles[\"LIVSM2\"] = int(99)"
   ]
  },
  {
   "cell_type": "code",
   "execution_count": 51,
   "metadata": {},
   "outputs": [
    {
     "data": {
      "text/html": [
       "<div>\n",
       "<style scoped>\n",
       "    .dataframe tbody tr th:only-of-type {\n",
       "        vertical-align: middle;\n",
       "    }\n",
       "\n",
       "    .dataframe tbody tr th {\n",
       "        vertical-align: top;\n",
       "    }\n",
       "\n",
       "    .dataframe thead th {\n",
       "        text-align: right;\n",
       "    }\n",
       "</style>\n",
       "<table border=\"1\" class=\"dataframe\">\n",
       "  <thead>\n",
       "    <tr style=\"text-align: right;\">\n",
       "      <th></th>\n",
       "      <th>Tile_name</th>\n",
       "      <th>LIVSM1</th>\n",
       "      <th>LIVSM2</th>\n",
       "    </tr>\n",
       "    <tr>\n",
       "      <th>ID</th>\n",
       "      <th></th>\n",
       "      <th></th>\n",
       "      <th></th>\n",
       "    </tr>\n",
       "  </thead>\n",
       "  <tbody>\n",
       "    <tr>\n",
       "      <th>0</th>\n",
       "      <td>all_bands_merged_01_31.tif</td>\n",
       "      <td>99</td>\n",
       "      <td>99</td>\n",
       "    </tr>\n",
       "    <tr>\n",
       "      <th>1</th>\n",
       "      <td>all_bands_merged_01_32.tif</td>\n",
       "      <td>99</td>\n",
       "      <td>99</td>\n",
       "    </tr>\n",
       "    <tr>\n",
       "      <th>2</th>\n",
       "      <td>all_bands_merged_01_33.tif</td>\n",
       "      <td>99</td>\n",
       "      <td>99</td>\n",
       "    </tr>\n",
       "    <tr>\n",
       "      <th>3</th>\n",
       "      <td>all_bands_merged_01_34.tif</td>\n",
       "      <td>99</td>\n",
       "      <td>99</td>\n",
       "    </tr>\n",
       "    <tr>\n",
       "      <th>4</th>\n",
       "      <td>all_bands_merged_01_35.tif</td>\n",
       "      <td>99</td>\n",
       "      <td>99</td>\n",
       "    </tr>\n",
       "  </tbody>\n",
       "</table>\n",
       "</div>"
      ],
      "text/plain": [
       "                     Tile_name  LIVSM1  LIVSM2\n",
       "ID                                            \n",
       "0   all_bands_merged_01_31.tif      99      99\n",
       "1   all_bands_merged_01_32.tif      99      99\n",
       "2   all_bands_merged_01_33.tif      99      99\n",
       "3   all_bands_merged_01_34.tif      99      99\n",
       "4   all_bands_merged_01_35.tif      99      99"
      ]
     },
     "execution_count": 51,
     "metadata": {},
     "output_type": "execute_result"
    }
   ],
   "source": [
    "labeled_tiles.head()"
   ]
  },
  {
   "cell_type": "code",
   "execution_count": 47,
   "metadata": {},
   "outputs": [
    {
     "name": "stdout",
     "output_type": "stream",
     "text": [
      "Checking polygon 1 of 83\n",
      "Checking polygon 2 of 83\n",
      "Checking polygon 3 of 83\n",
      "Checking polygon 4 of 83\n",
      "Checking polygon 5 of 83\n",
      "Checking polygon 6 of 83\n",
      "Checking polygon 7 of 83\n",
      "Checking polygon 8 of 83\n",
      "Checking polygon 9 of 83\n",
      "Checking polygon 10 of 83\n",
      "Checking polygon 11 of 83\n",
      "Checking polygon 12 of 83\n",
      "Checking polygon 13 of 83\n",
      "Checking polygon 14 of 83\n",
      "Checking polygon 15 of 83\n",
      "Checking polygon 16 of 83\n",
      "Checking polygon 17 of 83\n",
      "Checking polygon 18 of 83\n",
      "Checking polygon 19 of 83\n",
      "Checking polygon 20 of 83\n",
      "Checking polygon 21 of 83\n",
      "Checking polygon 22 of 83\n",
      "Checking polygon 23 of 83\n",
      "Checking polygon 24 of 83\n",
      "Checking polygon 25 of 83\n",
      "Checking polygon 26 of 83\n",
      "Checking polygon 27 of 83\n",
      "Checking polygon 28 of 83\n",
      "Checking polygon 29 of 83\n",
      "Checking polygon 30 of 83\n",
      "Checking polygon 31 of 83\n",
      "Checking polygon 32 of 83\n",
      "Checking polygon 33 of 83\n",
      "Checking polygon 34 of 83\n",
      "Checking polygon 35 of 83\n",
      "Checking polygon 36 of 83\n",
      "Checking polygon 37 of 83\n",
      "Checking polygon 38 of 83\n",
      "Checking polygon 39 of 83\n",
      "Checking polygon 40 of 83\n",
      "Checking polygon 41 of 83\n",
      "Checking polygon 42 of 83\n",
      "Checking polygon 43 of 83\n",
      "Checking polygon 44 of 83\n",
      "Checking polygon 45 of 83\n",
      "Checking polygon 46 of 83\n",
      "Checking polygon 47 of 83\n",
      "Checking polygon 48 of 83\n",
      "Checking polygon 49 of 83\n",
      "Checking polygon 50 of 83\n",
      "Checking polygon 51 of 83\n",
      "Checking polygon 52 of 83\n",
      "Checking polygon 53 of 83\n",
      "Checking polygon 54 of 83\n",
      "Checking polygon 55 of 83\n",
      "Checking polygon 56 of 83\n",
      "Checking polygon 57 of 83\n",
      "Checking polygon 58 of 83\n",
      "Checking polygon 59 of 83\n",
      "Checking polygon 60 of 83\n",
      "Checking polygon 61 of 83\n",
      "Checking polygon 62 of 83\n",
      "Checking polygon 63 of 83\n",
      "Checking polygon 64 of 83\n",
      "Checking polygon 65 of 83\n",
      "Checking polygon 66 of 83\n",
      "Checking polygon 67 of 83\n",
      "Checking polygon 68 of 83\n",
      "Checking polygon 69 of 83\n",
      "Checking polygon 70 of 83\n",
      "Checking polygon 71 of 83\n",
      "Checking polygon 72 of 83\n",
      "Checking polygon 73 of 83\n",
      "Checking polygon 74 of 83\n",
      "Checking polygon 75 of 83\n",
      "Checking polygon 76 of 83\n",
      "Checking polygon 77 of 83\n",
      "Checking polygon 78 of 83\n",
      "Checking polygon 79 of 83\n",
      "Checking polygon 80 of 83\n",
      "Checking polygon 81 of 83\n",
      "Checking polygon 82 of 83\n",
      "Checking polygon 83 of 83\n"
     ]
    }
   ],
   "source": [
    "# Modifisert\n",
    "# Bruk informasjonen i mis_geometry.LIVSM_XXX for å tilegne klasse i sorteringa. Lagre dette i csv-fil eller inn i \n",
    "# concatenated_df. Då kan ein lese navn på flisa og i same slengen også leggje til miskoden inn i generatoren. Altså\n",
    "# både x (imageread(filnamn)) og y (klassekoden).\n",
    "# Check if a tile is inside a mis-polygon. Sorts tiles. \n",
    "for mis_geom_num, mis_geom_row in mis_geometry_mjosen.iterrows():\n",
    "    print(f'Checking polygon {mis_geom_num + 1} of {len(mis_geometry_mjosen)}')\n",
    "\n",
    "    # Check if tile geometries is inside a mis-polygon\n",
    "    for index, row in gdf.iterrows():    \n",
    "        # If tile is inside, sort it into folder\n",
    "        if mis_geom_row['geometry'].contains(row['geometry']):\n",
    "            #shutil.move(in_directory + '/' + row['Tile_name'], out_directory + '/' + row['Tile_name']) \n",
    "            labeled_tiles.loc[labeled_tiles.index[index], 'LIVSM1'] = (int(mis_geom_row['LIVSM1']))\n",
    "            labeled_tiles.loc[labeled_tiles.index[index], 'LIVSM2'] = (int(mis_geom_row['LIVSM2']))\n",
    "\n",
    "            #print(f'Label {gdf[\"mis_label\"][index]} given tile {row[\"Tile_name\"]}')\n",
    "            print('Label LIVSM1 {0} LIVSM2 {1} given tile {2}'.format(labeled_tiles[\"LIVSM1\"][index], labeled_tiles[\"LIVSM2\"][index], row[\"Tile_name\"]))"
   ]
  },
  {
   "cell_type": "markdown",
   "metadata": {},
   "source": [
    "### Test polygon"
   ]
  },
  {
   "cell_type": "code",
   "execution_count": 52,
   "metadata": {},
   "outputs": [
    {
     "name": "stdout",
     "output_type": "stream",
     "text": [
      "Checking polygon 1 of 7\n",
      "Label LIVSM1 1 LIVSM2 0 given tile all_bands_merged_07_25.tif\n",
      "Label LIVSM1 1 LIVSM2 0 given tile all_bands_merged_07_26.tif\n",
      "Label LIVSM1 1 LIVSM2 0 given tile all_bands_merged_08_24.tif\n",
      "Label LIVSM1 1 LIVSM2 0 given tile all_bands_merged_08_25.tif\n",
      "Checking polygon 2 of 7\n",
      "Label LIVSM1 1 LIVSM2 0 given tile all_bands_merged_12_27.tif\n",
      "Label LIVSM1 1 LIVSM2 0 given tile all_bands_merged_12_28.tif\n",
      "Label LIVSM1 1 LIVSM2 0 given tile all_bands_merged_13_27.tif\n",
      "Label LIVSM1 1 LIVSM2 0 given tile all_bands_merged_13_28.tif\n",
      "Label LIVSM1 1 LIVSM2 0 given tile all_bands_merged_13_29.tif\n",
      "Label LIVSM1 1 LIVSM2 0 given tile all_bands_merged_14_28.tif\n",
      "Label LIVSM1 1 LIVSM2 0 given tile all_bands_merged_14_29.tif\n",
      "Label LIVSM1 1 LIVSM2 0 given tile all_bands_merged_15_28.tif\n",
      "Label LIVSM1 1 LIVSM2 0 given tile all_bands_merged_15_29.tif\n",
      "Label LIVSM1 1 LIVSM2 0 given tile all_bands_merged_15_30.tif\n",
      "Checking polygon 3 of 7\n",
      "Label LIVSM1 2 LIVSM2 0 given tile all_bands_merged_09_20.tif\n",
      "Label LIVSM1 2 LIVSM2 0 given tile all_bands_merged_10_20.tif\n",
      "Label LIVSM1 2 LIVSM2 0 given tile all_bands_merged_11_20.tif\n",
      "Checking polygon 4 of 7\n",
      "Label LIVSM1 2 LIVSM2 3 given tile all_bands_merged_12_21.tif\n",
      "Label LIVSM1 2 LIVSM2 3 given tile all_bands_merged_12_22.tif\n",
      "Label LIVSM1 2 LIVSM2 3 given tile all_bands_merged_13_20.tif\n",
      "Label LIVSM1 2 LIVSM2 3 given tile all_bands_merged_13_21.tif\n",
      "Label LIVSM1 2 LIVSM2 3 given tile all_bands_merged_13_22.tif\n",
      "Label LIVSM1 2 LIVSM2 3 given tile all_bands_merged_13_23.tif\n",
      "Label LIVSM1 2 LIVSM2 3 given tile all_bands_merged_14_21.tif\n",
      "Label LIVSM1 2 LIVSM2 3 given tile all_bands_merged_14_22.tif\n",
      "Label LIVSM1 2 LIVSM2 3 given tile all_bands_merged_15_21.tif\n",
      "Checking polygon 5 of 7\n",
      "Label LIVSM1 5 LIVSM2 4 given tile all_bands_merged_15_37.tif\n",
      "Label LIVSM1 5 LIVSM2 4 given tile all_bands_merged_16_36.tif\n",
      "Label LIVSM1 5 LIVSM2 4 given tile all_bands_merged_16_37.tif\n",
      "Label LIVSM1 5 LIVSM2 4 given tile all_bands_merged_16_38.tif\n",
      "Checking polygon 6 of 7\n",
      "Label LIVSM1 5 LIVSM2 0 given tile all_bands_merged_10_35.tif\n",
      "Label LIVSM1 5 LIVSM2 0 given tile all_bands_merged_11_35.tif\n",
      "Label LIVSM1 5 LIVSM2 0 given tile all_bands_merged_11_36.tif\n",
      "Checking polygon 7 of 7\n",
      "Label LIVSM1 5 LIVSM2 4 given tile all_bands_merged_13_17.tif\n",
      "Label LIVSM1 5 LIVSM2 4 given tile all_bands_merged_14_17.tif\n",
      "Label LIVSM1 5 LIVSM2 4 given tile all_bands_merged_15_18.tif\n",
      "Label LIVSM1 5 LIVSM2 4 given tile all_bands_merged_16_19.tif\n"
     ]
    }
   ],
   "source": [
    "# Modifisert\n",
    "# Bruk informasjonen i mis_geometry.LIVSM_XXX for å tilegne klasse i sorteringa. Lagre dette i csv-fil eller inn i \n",
    "# concatenated_df. Då kan ein lese navn på flisa og i same slengen også leggje til miskoden inn i generatoren. Altså\n",
    "# både x (imageread(filnamn)) og y (klassekoden).\n",
    "# Check if a tile is inside a mis-polygon. Sorts tiles. \n",
    "for mis_geom_num, mis_geom_row in mis_geometry_test.iterrows():\n",
    "    print(f'Checking polygon {mis_geom_num + 1} of {len(mis_geometry_test)}')\n",
    "    \n",
    "    # Check if tile geometries is inside a mis-polygon\n",
    "    for index, row in gdf.iterrows():    \n",
    "        # If tile is inside, sort it into folder\n",
    "        if mis_geom_row['geometry'].contains(row['geometry']):\n",
    "            #shutil.move(in_directory + '/' + row['Tile_name'], out_directory + '/' + row['Tile_name']) \n",
    "            labeled_tiles.loc[labeled_tiles.index[index], 'LIVSM1'] = (int(mis_geom_row['LIVSM1']))\n",
    "            labeled_tiles.loc[labeled_tiles.index[index], 'LIVSM2'] = (int(mis_geom_row['LIVSM2']))\n",
    "\n",
    "            #print(f'Label {gdf[\"mis_label\"][index]} given tile {row[\"Tile_name\"]}')\n",
    "            print('Label LIVSM1 {0} LIVSM2 {1} given tile {2}'.format(labeled_tiles[\"LIVSM1\"][index], labeled_tiles[\"LIVSM2\"][index], row[\"Tile_name\"]))"
   ]
  },
  {
   "cell_type": "markdown",
   "metadata": {},
   "source": [
    "MultiLabelBinarizer is used to make a multilabel binary label. This labelvector is used by the model."
   ]
  },
  {
   "cell_type": "code",
   "execution_count": 53,
   "metadata": {},
   "outputs": [
    {
     "name": "stderr",
     "output_type": "stream",
     "text": [
      "/home/landsat7/anaconda3/envs/master2018/lib/python3.6/site-packages/sklearn/preprocessing/label.py:935: UserWarning: unknown class(es) [0] will be ignored\n",
      "  .format(sorted(unknown, key=str)))\n"
     ]
    }
   ],
   "source": [
    "from sklearn.preprocessing import MultiLabelBinarizer\n",
    "\n",
    "mergedlabels = [list(pair) for pair in zip(labeled_tiles['LIVSM1'].values, labeled_tiles['LIVSM2'].values)]\n",
    "\n",
    "# If the tile only have one label, only one label is given. 0 is ignored == no label.\n",
    "mlb = MultiLabelBinarizer(classes=[1,2,3,4,5,6,7,8,9,10,11,12,99])\n",
    "binarized_labels = mlb.fit_transform(mergedlabels)"
   ]
  },
  {
   "cell_type": "code",
   "execution_count": 54,
   "metadata": {},
   "outputs": [
    {
     "data": {
      "text/html": [
       "<div>\n",
       "<style scoped>\n",
       "    .dataframe tbody tr th:only-of-type {\n",
       "        vertical-align: middle;\n",
       "    }\n",
       "\n",
       "    .dataframe tbody tr th {\n",
       "        vertical-align: top;\n",
       "    }\n",
       "\n",
       "    .dataframe thead th {\n",
       "        text-align: right;\n",
       "    }\n",
       "</style>\n",
       "<table border=\"1\" class=\"dataframe\">\n",
       "  <thead>\n",
       "    <tr style=\"text-align: right;\">\n",
       "      <th></th>\n",
       "      <th>1</th>\n",
       "      <th>2</th>\n",
       "      <th>3</th>\n",
       "      <th>4</th>\n",
       "      <th>5</th>\n",
       "      <th>6</th>\n",
       "      <th>7</th>\n",
       "      <th>8</th>\n",
       "      <th>9</th>\n",
       "      <th>10</th>\n",
       "      <th>11</th>\n",
       "      <th>12</th>\n",
       "      <th>99</th>\n",
       "    </tr>\n",
       "  </thead>\n",
       "  <tbody>\n",
       "    <tr>\n",
       "      <th>0</th>\n",
       "      <td>0</td>\n",
       "      <td>0</td>\n",
       "      <td>0</td>\n",
       "      <td>0</td>\n",
       "      <td>0</td>\n",
       "      <td>0</td>\n",
       "      <td>0</td>\n",
       "      <td>0</td>\n",
       "      <td>0</td>\n",
       "      <td>0</td>\n",
       "      <td>0</td>\n",
       "      <td>0</td>\n",
       "      <td>1</td>\n",
       "    </tr>\n",
       "    <tr>\n",
       "      <th>1</th>\n",
       "      <td>0</td>\n",
       "      <td>0</td>\n",
       "      <td>0</td>\n",
       "      <td>0</td>\n",
       "      <td>0</td>\n",
       "      <td>0</td>\n",
       "      <td>0</td>\n",
       "      <td>0</td>\n",
       "      <td>0</td>\n",
       "      <td>0</td>\n",
       "      <td>0</td>\n",
       "      <td>0</td>\n",
       "      <td>1</td>\n",
       "    </tr>\n",
       "    <tr>\n",
       "      <th>2</th>\n",
       "      <td>0</td>\n",
       "      <td>0</td>\n",
       "      <td>0</td>\n",
       "      <td>0</td>\n",
       "      <td>0</td>\n",
       "      <td>0</td>\n",
       "      <td>0</td>\n",
       "      <td>0</td>\n",
       "      <td>0</td>\n",
       "      <td>0</td>\n",
       "      <td>0</td>\n",
       "      <td>0</td>\n",
       "      <td>1</td>\n",
       "    </tr>\n",
       "    <tr>\n",
       "      <th>3</th>\n",
       "      <td>0</td>\n",
       "      <td>0</td>\n",
       "      <td>0</td>\n",
       "      <td>0</td>\n",
       "      <td>0</td>\n",
       "      <td>0</td>\n",
       "      <td>0</td>\n",
       "      <td>0</td>\n",
       "      <td>0</td>\n",
       "      <td>0</td>\n",
       "      <td>0</td>\n",
       "      <td>0</td>\n",
       "      <td>1</td>\n",
       "    </tr>\n",
       "    <tr>\n",
       "      <th>4</th>\n",
       "      <td>0</td>\n",
       "      <td>0</td>\n",
       "      <td>0</td>\n",
       "      <td>0</td>\n",
       "      <td>0</td>\n",
       "      <td>0</td>\n",
       "      <td>0</td>\n",
       "      <td>0</td>\n",
       "      <td>0</td>\n",
       "      <td>0</td>\n",
       "      <td>0</td>\n",
       "      <td>0</td>\n",
       "      <td>1</td>\n",
       "    </tr>\n",
       "  </tbody>\n",
       "</table>\n",
       "</div>"
      ],
      "text/plain": [
       "   1   2   3   4   5   6   7   8   9   10  11  12  99\n",
       "0   0   0   0   0   0   0   0   0   0   0   0   0   1\n",
       "1   0   0   0   0   0   0   0   0   0   0   0   0   1\n",
       "2   0   0   0   0   0   0   0   0   0   0   0   0   1\n",
       "3   0   0   0   0   0   0   0   0   0   0   0   0   1\n",
       "4   0   0   0   0   0   0   0   0   0   0   0   0   1"
      ]
     },
     "execution_count": 54,
     "metadata": {},
     "output_type": "execute_result"
    }
   ],
   "source": [
    "labels_as_colums = pd.DataFrame(binarized_labels, columns=mlb.classes)\n",
    "labels_as_colums.head()"
   ]
  },
  {
   "cell_type": "code",
   "execution_count": 55,
   "metadata": {},
   "outputs": [
    {
     "data": {
      "text/html": [
       "<div>\n",
       "<style scoped>\n",
       "    .dataframe tbody tr th:only-of-type {\n",
       "        vertical-align: middle;\n",
       "    }\n",
       "\n",
       "    .dataframe tbody tr th {\n",
       "        vertical-align: top;\n",
       "    }\n",
       "\n",
       "    .dataframe thead th {\n",
       "        text-align: right;\n",
       "    }\n",
       "</style>\n",
       "<table border=\"1\" class=\"dataframe\">\n",
       "  <thead>\n",
       "    <tr style=\"text-align: right;\">\n",
       "      <th></th>\n",
       "      <th>index</th>\n",
       "      <th>mult_bin_labels</th>\n",
       "    </tr>\n",
       "  </thead>\n",
       "  <tbody>\n",
       "    <tr>\n",
       "      <th>0</th>\n",
       "      <td>0</td>\n",
       "      <td>[0, 0, 0, 0, 0, 0, 0, 0, 0, 0, 0, 0, 1]</td>\n",
       "    </tr>\n",
       "    <tr>\n",
       "      <th>1</th>\n",
       "      <td>1</td>\n",
       "      <td>[0, 0, 0, 0, 0, 0, 0, 0, 0, 0, 0, 0, 1]</td>\n",
       "    </tr>\n",
       "    <tr>\n",
       "      <th>2</th>\n",
       "      <td>2</td>\n",
       "      <td>[0, 0, 0, 0, 0, 0, 0, 0, 0, 0, 0, 0, 1]</td>\n",
       "    </tr>\n",
       "    <tr>\n",
       "      <th>3</th>\n",
       "      <td>3</td>\n",
       "      <td>[0, 0, 0, 0, 0, 0, 0, 0, 0, 0, 0, 0, 1]</td>\n",
       "    </tr>\n",
       "    <tr>\n",
       "      <th>4</th>\n",
       "      <td>4</td>\n",
       "      <td>[0, 0, 0, 0, 0, 0, 0, 0, 0, 0, 0, 0, 1]</td>\n",
       "    </tr>\n",
       "  </tbody>\n",
       "</table>\n",
       "</div>"
      ],
      "text/plain": [
       "   index                          mult_bin_labels\n",
       "0      0  [0, 0, 0, 0, 0, 0, 0, 0, 0, 0, 0, 0, 1]\n",
       "1      1  [0, 0, 0, 0, 0, 0, 0, 0, 0, 0, 0, 0, 1]\n",
       "2      2  [0, 0, 0, 0, 0, 0, 0, 0, 0, 0, 0, 0, 1]\n",
       "3      3  [0, 0, 0, 0, 0, 0, 0, 0, 0, 0, 0, 0, 1]\n",
       "4      4  [0, 0, 0, 0, 0, 0, 0, 0, 0, 0, 0, 0, 1]"
      ]
     },
     "execution_count": 55,
     "metadata": {},
     "output_type": "execute_result"
    }
   ],
   "source": [
    "# Convert binarized_labels to dataframe\n",
    "bin_labels_dict = {'index': list(range(len(binarized_labels))), \n",
    "        'mult_bin_labels': binarized_labels.tolist()}\n",
    "binarized_labels_dataframe = pd.DataFrame(bin_labels_dict, columns = ['index', 'mult_bin_labels'])\n",
    "\n",
    "# view the dataset\n",
    "binarized_labels_dataframe.head()"
   ]
  },
  {
   "cell_type": "code",
   "execution_count": 56,
   "metadata": {},
   "outputs": [
    {
     "data": {
      "text/html": [
       "<div>\n",
       "<style scoped>\n",
       "    .dataframe tbody tr th:only-of-type {\n",
       "        vertical-align: middle;\n",
       "    }\n",
       "\n",
       "    .dataframe tbody tr th {\n",
       "        vertical-align: top;\n",
       "    }\n",
       "\n",
       "    .dataframe thead th {\n",
       "        text-align: right;\n",
       "    }\n",
       "</style>\n",
       "<table border=\"1\" class=\"dataframe\">\n",
       "  <thead>\n",
       "    <tr style=\"text-align: right;\">\n",
       "      <th></th>\n",
       "      <th>Tile_name</th>\n",
       "      <th>LIVSM1</th>\n",
       "      <th>LIVSM2</th>\n",
       "      <th>mult_bin_labels</th>\n",
       "      <th>1</th>\n",
       "      <th>2</th>\n",
       "      <th>3</th>\n",
       "      <th>4</th>\n",
       "      <th>5</th>\n",
       "      <th>6</th>\n",
       "      <th>7</th>\n",
       "      <th>8</th>\n",
       "      <th>9</th>\n",
       "      <th>10</th>\n",
       "      <th>11</th>\n",
       "      <th>12</th>\n",
       "      <th>99</th>\n",
       "    </tr>\n",
       "    <tr>\n",
       "      <th>ID</th>\n",
       "      <th></th>\n",
       "      <th></th>\n",
       "      <th></th>\n",
       "      <th></th>\n",
       "      <th></th>\n",
       "      <th></th>\n",
       "      <th></th>\n",
       "      <th></th>\n",
       "      <th></th>\n",
       "      <th></th>\n",
       "      <th></th>\n",
       "      <th></th>\n",
       "      <th></th>\n",
       "      <th></th>\n",
       "      <th></th>\n",
       "      <th></th>\n",
       "      <th></th>\n",
       "    </tr>\n",
       "  </thead>\n",
       "  <tbody>\n",
       "    <tr>\n",
       "      <th>546</th>\n",
       "      <td>all_bands_merged_19_18.tif</td>\n",
       "      <td>99</td>\n",
       "      <td>99</td>\n",
       "      <td>[0, 0, 0, 0, 0, 0, 0, 0, 0, 0, 0, 0, 1]</td>\n",
       "      <td>0</td>\n",
       "      <td>0</td>\n",
       "      <td>0</td>\n",
       "      <td>0</td>\n",
       "      <td>0</td>\n",
       "      <td>0</td>\n",
       "      <td>0</td>\n",
       "      <td>0</td>\n",
       "      <td>0</td>\n",
       "      <td>0</td>\n",
       "      <td>0</td>\n",
       "      <td>0</td>\n",
       "      <td>1</td>\n",
       "    </tr>\n",
       "    <tr>\n",
       "      <th>547</th>\n",
       "      <td>all_bands_merged_19_19.tif</td>\n",
       "      <td>99</td>\n",
       "      <td>99</td>\n",
       "      <td>[0, 0, 0, 0, 0, 0, 0, 0, 0, 0, 0, 0, 1]</td>\n",
       "      <td>0</td>\n",
       "      <td>0</td>\n",
       "      <td>0</td>\n",
       "      <td>0</td>\n",
       "      <td>0</td>\n",
       "      <td>0</td>\n",
       "      <td>0</td>\n",
       "      <td>0</td>\n",
       "      <td>0</td>\n",
       "      <td>0</td>\n",
       "      <td>0</td>\n",
       "      <td>0</td>\n",
       "      <td>1</td>\n",
       "    </tr>\n",
       "    <tr>\n",
       "      <th>548</th>\n",
       "      <td>all_bands_merged_20_01.tif</td>\n",
       "      <td>99</td>\n",
       "      <td>99</td>\n",
       "      <td>[0, 0, 0, 0, 0, 0, 0, 0, 0, 0, 0, 0, 1]</td>\n",
       "      <td>0</td>\n",
       "      <td>0</td>\n",
       "      <td>0</td>\n",
       "      <td>0</td>\n",
       "      <td>0</td>\n",
       "      <td>0</td>\n",
       "      <td>0</td>\n",
       "      <td>0</td>\n",
       "      <td>0</td>\n",
       "      <td>0</td>\n",
       "      <td>0</td>\n",
       "      <td>0</td>\n",
       "      <td>1</td>\n",
       "    </tr>\n",
       "    <tr>\n",
       "      <th>549</th>\n",
       "      <td>all_bands_merged_20_02.tif</td>\n",
       "      <td>99</td>\n",
       "      <td>99</td>\n",
       "      <td>[0, 0, 0, 0, 0, 0, 0, 0, 0, 0, 0, 0, 1]</td>\n",
       "      <td>0</td>\n",
       "      <td>0</td>\n",
       "      <td>0</td>\n",
       "      <td>0</td>\n",
       "      <td>0</td>\n",
       "      <td>0</td>\n",
       "      <td>0</td>\n",
       "      <td>0</td>\n",
       "      <td>0</td>\n",
       "      <td>0</td>\n",
       "      <td>0</td>\n",
       "      <td>0</td>\n",
       "      <td>1</td>\n",
       "    </tr>\n",
       "    <tr>\n",
       "      <th>550</th>\n",
       "      <td>all_bands_merged_20_03.tif</td>\n",
       "      <td>99</td>\n",
       "      <td>99</td>\n",
       "      <td>[0, 0, 0, 0, 0, 0, 0, 0, 0, 0, 0, 0, 1]</td>\n",
       "      <td>0</td>\n",
       "      <td>0</td>\n",
       "      <td>0</td>\n",
       "      <td>0</td>\n",
       "      <td>0</td>\n",
       "      <td>0</td>\n",
       "      <td>0</td>\n",
       "      <td>0</td>\n",
       "      <td>0</td>\n",
       "      <td>0</td>\n",
       "      <td>0</td>\n",
       "      <td>0</td>\n",
       "      <td>1</td>\n",
       "    </tr>\n",
       "  </tbody>\n",
       "</table>\n",
       "</div>"
      ],
      "text/plain": [
       "                      Tile_name  LIVSM1  LIVSM2  \\\n",
       "ID                                                \n",
       "546  all_bands_merged_19_18.tif      99      99   \n",
       "547  all_bands_merged_19_19.tif      99      99   \n",
       "548  all_bands_merged_20_01.tif      99      99   \n",
       "549  all_bands_merged_20_02.tif      99      99   \n",
       "550  all_bands_merged_20_03.tif      99      99   \n",
       "\n",
       "                             mult_bin_labels  1  2  3  4  5  6  7  8  9  10  \\\n",
       "ID                                                                            \n",
       "546  [0, 0, 0, 0, 0, 0, 0, 0, 0, 0, 0, 0, 1]  0  0  0  0  0  0  0  0  0   0   \n",
       "547  [0, 0, 0, 0, 0, 0, 0, 0, 0, 0, 0, 0, 1]  0  0  0  0  0  0  0  0  0   0   \n",
       "548  [0, 0, 0, 0, 0, 0, 0, 0, 0, 0, 0, 0, 1]  0  0  0  0  0  0  0  0  0   0   \n",
       "549  [0, 0, 0, 0, 0, 0, 0, 0, 0, 0, 0, 0, 1]  0  0  0  0  0  0  0  0  0   0   \n",
       "550  [0, 0, 0, 0, 0, 0, 0, 0, 0, 0, 0, 0, 1]  0  0  0  0  0  0  0  0  0   0   \n",
       "\n",
       "     11  12  99  \n",
       "ID               \n",
       "546   0   0   1  \n",
       "547   0   0   1  \n",
       "548   0   0   1  \n",
       "549   0   0   1  \n",
       "550   0   0   1  "
      ]
     },
     "execution_count": 56,
     "metadata": {},
     "output_type": "execute_result"
    }
   ],
   "source": [
    "labeled_tiles_bin = pd.concat([labeled_tiles, binarized_labels_dataframe['mult_bin_labels'], labels_as_colums], axis=1)\n",
    "labeled_tiles_bin.tail()"
   ]
  },
  {
   "cell_type": "code",
   "execution_count": 57,
   "metadata": {},
   "outputs": [
    {
     "data": {
      "text/html": [
       "<div>\n",
       "<style scoped>\n",
       "    .dataframe tbody tr th:only-of-type {\n",
       "        vertical-align: middle;\n",
       "    }\n",
       "\n",
       "    .dataframe tbody tr th {\n",
       "        vertical-align: top;\n",
       "    }\n",
       "\n",
       "    .dataframe thead th {\n",
       "        text-align: right;\n",
       "    }\n",
       "</style>\n",
       "<table border=\"1\" class=\"dataframe\">\n",
       "  <thead>\n",
       "    <tr style=\"text-align: right;\">\n",
       "      <th></th>\n",
       "      <th>Tile_name</th>\n",
       "      <th>LIVSM1</th>\n",
       "      <th>LIVSM2</th>\n",
       "      <th>mult_bin_labels</th>\n",
       "      <th>1</th>\n",
       "      <th>2</th>\n",
       "      <th>3</th>\n",
       "      <th>4</th>\n",
       "      <th>5</th>\n",
       "      <th>6</th>\n",
       "      <th>7</th>\n",
       "      <th>8</th>\n",
       "      <th>9</th>\n",
       "      <th>10</th>\n",
       "      <th>11</th>\n",
       "      <th>12</th>\n",
       "      <th>99</th>\n",
       "    </tr>\n",
       "    <tr>\n",
       "      <th>ID</th>\n",
       "      <th></th>\n",
       "      <th></th>\n",
       "      <th></th>\n",
       "      <th></th>\n",
       "      <th></th>\n",
       "      <th></th>\n",
       "      <th></th>\n",
       "      <th></th>\n",
       "      <th></th>\n",
       "      <th></th>\n",
       "      <th></th>\n",
       "      <th></th>\n",
       "      <th></th>\n",
       "      <th></th>\n",
       "      <th></th>\n",
       "      <th></th>\n",
       "      <th></th>\n",
       "    </tr>\n",
       "  </thead>\n",
       "  <tbody>\n",
       "    <tr>\n",
       "      <th>0</th>\n",
       "      <td>all_bands_merged_01_31.tif</td>\n",
       "      <td>99</td>\n",
       "      <td>99</td>\n",
       "      <td>[0, 0, 0, 0, 0, 0, 0, 0, 0, 0, 0, 0, 1]</td>\n",
       "      <td>0</td>\n",
       "      <td>0</td>\n",
       "      <td>0</td>\n",
       "      <td>0</td>\n",
       "      <td>0</td>\n",
       "      <td>0</td>\n",
       "      <td>0</td>\n",
       "      <td>0</td>\n",
       "      <td>0</td>\n",
       "      <td>0</td>\n",
       "      <td>0</td>\n",
       "      <td>0</td>\n",
       "      <td>1</td>\n",
       "    </tr>\n",
       "    <tr>\n",
       "      <th>1</th>\n",
       "      <td>all_bands_merged_01_32.tif</td>\n",
       "      <td>99</td>\n",
       "      <td>99</td>\n",
       "      <td>[0, 0, 0, 0, 0, 0, 0, 0, 0, 0, 0, 0, 1]</td>\n",
       "      <td>0</td>\n",
       "      <td>0</td>\n",
       "      <td>0</td>\n",
       "      <td>0</td>\n",
       "      <td>0</td>\n",
       "      <td>0</td>\n",
       "      <td>0</td>\n",
       "      <td>0</td>\n",
       "      <td>0</td>\n",
       "      <td>0</td>\n",
       "      <td>0</td>\n",
       "      <td>0</td>\n",
       "      <td>1</td>\n",
       "    </tr>\n",
       "    <tr>\n",
       "      <th>2</th>\n",
       "      <td>all_bands_merged_01_33.tif</td>\n",
       "      <td>99</td>\n",
       "      <td>99</td>\n",
       "      <td>[0, 0, 0, 0, 0, 0, 0, 0, 0, 0, 0, 0, 1]</td>\n",
       "      <td>0</td>\n",
       "      <td>0</td>\n",
       "      <td>0</td>\n",
       "      <td>0</td>\n",
       "      <td>0</td>\n",
       "      <td>0</td>\n",
       "      <td>0</td>\n",
       "      <td>0</td>\n",
       "      <td>0</td>\n",
       "      <td>0</td>\n",
       "      <td>0</td>\n",
       "      <td>0</td>\n",
       "      <td>1</td>\n",
       "    </tr>\n",
       "    <tr>\n",
       "      <th>3</th>\n",
       "      <td>all_bands_merged_01_34.tif</td>\n",
       "      <td>99</td>\n",
       "      <td>99</td>\n",
       "      <td>[0, 0, 0, 0, 0, 0, 0, 0, 0, 0, 0, 0, 1]</td>\n",
       "      <td>0</td>\n",
       "      <td>0</td>\n",
       "      <td>0</td>\n",
       "      <td>0</td>\n",
       "      <td>0</td>\n",
       "      <td>0</td>\n",
       "      <td>0</td>\n",
       "      <td>0</td>\n",
       "      <td>0</td>\n",
       "      <td>0</td>\n",
       "      <td>0</td>\n",
       "      <td>0</td>\n",
       "      <td>1</td>\n",
       "    </tr>\n",
       "    <tr>\n",
       "      <th>4</th>\n",
       "      <td>all_bands_merged_01_35.tif</td>\n",
       "      <td>99</td>\n",
       "      <td>99</td>\n",
       "      <td>[0, 0, 0, 0, 0, 0, 0, 0, 0, 0, 0, 0, 1]</td>\n",
       "      <td>0</td>\n",
       "      <td>0</td>\n",
       "      <td>0</td>\n",
       "      <td>0</td>\n",
       "      <td>0</td>\n",
       "      <td>0</td>\n",
       "      <td>0</td>\n",
       "      <td>0</td>\n",
       "      <td>0</td>\n",
       "      <td>0</td>\n",
       "      <td>0</td>\n",
       "      <td>0</td>\n",
       "      <td>1</td>\n",
       "    </tr>\n",
       "  </tbody>\n",
       "</table>\n",
       "</div>"
      ],
      "text/plain": [
       "                     Tile_name  LIVSM1  LIVSM2  \\\n",
       "ID                                               \n",
       "0   all_bands_merged_01_31.tif      99      99   \n",
       "1   all_bands_merged_01_32.tif      99      99   \n",
       "2   all_bands_merged_01_33.tif      99      99   \n",
       "3   all_bands_merged_01_34.tif      99      99   \n",
       "4   all_bands_merged_01_35.tif      99      99   \n",
       "\n",
       "                            mult_bin_labels  1  2  3  4  5  6  7  8  9  10  \\\n",
       "ID                                                                           \n",
       "0   [0, 0, 0, 0, 0, 0, 0, 0, 0, 0, 0, 0, 1]  0  0  0  0  0  0  0  0  0   0   \n",
       "1   [0, 0, 0, 0, 0, 0, 0, 0, 0, 0, 0, 0, 1]  0  0  0  0  0  0  0  0  0   0   \n",
       "2   [0, 0, 0, 0, 0, 0, 0, 0, 0, 0, 0, 0, 1]  0  0  0  0  0  0  0  0  0   0   \n",
       "3   [0, 0, 0, 0, 0, 0, 0, 0, 0, 0, 0, 0, 1]  0  0  0  0  0  0  0  0  0   0   \n",
       "4   [0, 0, 0, 0, 0, 0, 0, 0, 0, 0, 0, 0, 1]  0  0  0  0  0  0  0  0  0   0   \n",
       "\n",
       "    11  12  99  \n",
       "ID              \n",
       "0    0   0   1  \n",
       "1    0   0   1  \n",
       "2    0   0   1  \n",
       "3    0   0   1  \n",
       "4    0   0   1  "
      ]
     },
     "execution_count": 57,
     "metadata": {},
     "output_type": "execute_result"
    }
   ],
   "source": [
    "# Save csv to file\n",
    "labeled_tiles_bin.to_csv('../Qgis/labeled_tiles.csv')\n",
    "\n",
    "labeled_tiles_bin.head()"
   ]
  },
  {
   "cell_type": "code",
   "execution_count": 68,
   "metadata": {},
   "outputs": [
    {
     "data": {
      "text/plain": [
       "0    540\n",
       "1     11\n",
       "Name: 5, dtype: int64"
      ]
     },
     "execution_count": 68,
     "metadata": {},
     "output_type": "execute_result"
    }
   ],
   "source": [
    "labeled_tiles_bin[5].value_counts()"
   ]
  },
  {
   "cell_type": "markdown",
   "metadata": {},
   "source": [
    "## Read images"
   ]
  },
  {
   "cell_type": "code",
   "execution_count": 12,
   "metadata": {},
   "outputs": [],
   "source": [
    "import imageio\n",
    "im = imageio.imread('../Sorted_tiles/1.jpg')\n",
    "\n",
    "import random\n",
    "import scipy.ndimage\n",
    "no = random.randrange(-180,180,30)\n",
    "flipped_patch = scipy.ndimage.interpolation.rotate(im, no,axes=(1, 0), reshape=False, output=None, order=3, mode='mirror', cval=0.0, prefilter=False)\n"
   ]
  },
  {
   "cell_type": "code",
   "execution_count": 13,
   "metadata": {},
   "outputs": [
    {
     "data": {
      "text/plain": [
       "(183, 275, 3)"
      ]
     },
     "execution_count": 13,
     "metadata": {},
     "output_type": "execute_result"
    }
   ],
   "source": [
    "flipped_patch.shape"
   ]
  },
  {
   "cell_type": "code",
   "execution_count": 14,
   "metadata": {},
   "outputs": [
    {
     "data": {
      "text/plain": [
       "array([48, 56, 54], dtype=uint8)"
      ]
     },
     "execution_count": 14,
     "metadata": {},
     "output_type": "execute_result"
    }
   ],
   "source": [
    "flipped_patch[0][0]"
   ]
  },
  {
   "cell_type": "code",
   "execution_count": 15,
   "metadata": {},
   "outputs": [
    {
     "data": {
      "text/plain": [
       "<matplotlib.image.AxesImage at 0x7fef5c59c5c0>"
      ]
     },
     "execution_count": 15,
     "metadata": {},
     "output_type": "execute_result"
    },
    {
     "data": {
      "image/png": "[encoded data removed]",
      "text/plain": [
       "<Figure size 432x288 with 1 Axes>"
      ]
     },
     "metadata": {
      "needs_background": "light"
     },
     "output_type": "display_data"
    }
   ],
   "source": [
    "plt.imshow(flipped_patch)"
   ]
  },
  {
   "cell_type": "code",
   "execution_count": 11,
   "metadata": {},
   "outputs": [
    {
     "data": {
      "text/plain": [
       "(183, 275, 3)"
      ]
     },
     "execution_count": 11,
     "metadata": {},
     "output_type": "execute_result"
    }
   ],
   "source": [
    "im.shape"
   ]
  },
  {
   "cell_type": "code",
   "execution_count": 112,
   "metadata": {},
   "outputs": [
    {
     "data": {
      "text/plain": [
       "<matplotlib.image.AxesImage at 0x7ff166d599b0>"
      ]
     },
     "execution_count": 112,
     "metadata": {},
     "output_type": "execute_result"
    },
    {
     "data": {
      "image/png": "[encoded data removed]",
      "text/plain": [
       "<Figure size 432x288 with 1 Axes>"
      ]
     },
     "metadata": {
      "needs_background": "light"
     },
     "output_type": "display_data"
    }
   ],
   "source": [
    "import matplotlib.pyplot as plt\n",
    "plt.imshow(im)"
   ]
  },
  {
   "cell_type": "code",
   "execution_count": 213,
   "metadata": {},
   "outputs": [
    {
     "data": {
      "text/plain": [
       "<matplotlib.image.AxesImage at 0x7ff164321550>"
      ]
     },
     "execution_count": 213,
     "metadata": {},
     "output_type": "execute_result"
    },
    {
     "data": {
      "image/png": "[encoded data removed]",
      "text/plain": [
       "<Figure size 432x288 with 1 Axes>"
      ]
     },
     "metadata": {
      "needs_background": "light"
     },
     "output_type": "display_data"
    }
   ],
   "source": [
    "from sklearn.decomposition import PCA\n",
    "pca = PCA(.95)\n",
    "X = im.reshape(-1, 3)\n",
    "pca.fit(X)\n",
    "pca.explained_variance_ratio_\n",
    "\n",
    "\n",
    "img_transformed = pca.transform(X)\n",
    "\n",
    "plt.imshow(img_transformed)"
   ]
  },
  {
   "cell_type": "code",
   "execution_count": 13,
   "metadata": {},
   "outputs": [],
   "source": [
    "from PIL import ImageEnhance\n",
    "from PIL import Image\n",
    "import numpy as np\n",
    "\n",
    "im = Image.open('../Sorted_tiles/1.jpg')\n",
    "im2 = imageio.imread('../Sorted_tiles/1.jpg')\n"
   ]
  },
  {
   "cell_type": "code",
   "execution_count": 16,
   "metadata": {},
   "outputs": [
    {
     "name": "stdout",
     "output_type": "stream",
     "text": [
      "(183, 275, 3)\n",
      "(183, 275, 3)\n",
      "[[[0 0 0]\n",
      "  [0 0 0]\n",
      "  [0 0 0]\n",
      "  ...\n",
      "  [0 0 0]\n",
      "  [0 0 0]\n",
      "  [0 0 0]]\n",
      "\n",
      " [[0 0 0]\n",
      "  [0 0 0]\n",
      "  [0 0 0]\n",
      "  ...\n",
      "  [0 0 0]\n",
      "  [0 0 0]\n",
      "  [0 0 0]]\n",
      "\n",
      " [[0 0 0]\n",
      "  [0 0 0]\n",
      "  [0 0 0]\n",
      "  ...\n",
      "  [0 0 0]\n",
      "  [0 0 0]\n",
      "  [0 0 0]]\n",
      "\n",
      " ...\n",
      "\n",
      " [[0 0 0]\n",
      "  [0 0 0]\n",
      "  [0 0 0]\n",
      "  ...\n",
      "  [0 0 0]\n",
      "  [0 0 0]\n",
      "  [0 0 0]]\n",
      "\n",
      " [[0 0 0]\n",
      "  [0 0 0]\n",
      "  [0 0 0]\n",
      "  ...\n",
      "  [0 0 0]\n",
      "  [0 0 0]\n",
      "  [0 0 0]]\n",
      "\n",
      " [[0 0 0]\n",
      "  [0 0 0]\n",
      "  [0 0 0]\n",
      "  ...\n",
      "  [0 0 0]\n",
      "  [0 0 0]\n",
      "  [0 0 0]]]\n"
     ]
    }
   ],
   "source": [
    "print(np.array(im).shape)\n",
    "print(im2.shape)\n",
    "print(im-im2)"
   ]
  },
  {
   "cell_type": "code",
   "execution_count": null,
   "metadata": {},
   "outputs": [],
   "source": []
  }
 ],
 "metadata": {
  "kernelspec": {
   "display_name": "Python 3",
   "language": "python",
   "name": "python3"
  },
  "language_info": {
   "codemirror_mode": {
    "name": "ipython",
    "version": 3
   },
   "file_extension": ".py",
   "mimetype": "text/x-python",
   "name": "python",
   "nbconvert_exporter": "python",
   "pygments_lexer": "ipython3",
   "version": "3.6.7"
  }
 },
 "nbformat": 4,
 "nbformat_minor": 2
}
