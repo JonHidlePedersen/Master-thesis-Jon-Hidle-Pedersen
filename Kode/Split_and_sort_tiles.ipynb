{
 "cells": [
  {
   "cell_type": "markdown",
   "metadata": {},
   "source": [
    "https://www.gdal.org/gdal_retile.html\n",
    "\n"
   ]
  },
  {
   "cell_type": "markdown",
   "metadata": {},
   "source": [
    "## Import"
   ]
  },
  {
   "cell_type": "code",
   "execution_count": 1,
   "metadata": {},
   "outputs": [],
   "source": [
    "import glob\n",
    "import os\n",
    "import shutil  # Kopiering av filer\n",
    "\n",
    "import imageio\n",
    "import matplotlib.pyplot as plt\n",
    "import numpy as np\n",
    "import pandas as pd\n",
    "from osgeo import gdal, ogr  # GDAL\n",
    "\n",
    "import gdal_merge\n",
    "\n",
    "# Python kode som delar opp bildet.\n",
    "import gdal_retile\n",
    "import geopandas  # http://geopandas.org/reference.html"
   ]
  },
  {
   "cell_type": "code",
   "execution_count": 2,
   "metadata": {},
   "outputs": [
    {
     "name": "stdout",
     "output_type": "stream",
     "text": [
      "20180705-biri_02_SWIR_384me_SN3126_raw_rad_bsq_float32_geo.dat\n",
      "20180705-biri_02_SWIR_384me_SN3126_raw_rad_bsq_float32_geo.dat.aux.xml\n",
      "20180705-biri_02_SWIR_384me_SN3126_raw_rad_bsq_float32_geo.hdr\n",
      "20180705-biri_02_SWIR_384me_SN3126_raw_rad_bsq_float32_geo.zip\n",
      "20180705-biri_02_VNIR_1800_SN00827_raw_rad_bsq_float32_geo.dat\n",
      "20180705-biri_02_VNIR_1800_SN00827_raw_rad_bsq_float32_geo.dat.aux.xml\n",
      "20180705-biri_02_VNIR_1800_SN00827_raw_rad_bsq_float32_geo.hdr\n",
      "20180705-biri_02_VNIR_1800_SN00827_raw_rad_bsq_float32_geo.zip\n"
     ]
    }
   ],
   "source": [
    "# Check that unpacked files are there. Unpack them?\n",
    "!ls ../Raw_data"
   ]
  },
  {
   "cell_type": "code",
   "execution_count": 3,
   "metadata": {},
   "outputs": [],
   "source": [
    "# Global variables:\n",
    "imagestripes_names = glob.glob(\"../Raw_data/*.dat\")  # Lists every imagestripe\n",
    "imagestripes_out_dir = \"../Merged_image_stripes/\"\n",
    "\n",
    "\n",
    "name_imagefiles = glob.glob(\"../Merged_image_stripes/*.tif\")  # Lists every imagefile\n",
    "# ame_shapefile = \"shapefile/utsnit.shp\"\n",
    "name_csv = \"tile_envelope_coordinates.csv\"\n",
    "in_directory = \"../Sorted_tiles\"\n",
    "out_directory = \"../Sorted_tiles/mis_tiles\"\n",
    "\n",
    "# Size of output tile\n",
    "tile_with = \"50\"\n",
    "tile_heigth = \"50\""
   ]
  },
  {
   "cell_type": "markdown",
   "metadata": {},
   "source": [
    "## Merge bands"
   ]
  },
  {
   "cell_type": "code",
   "execution_count": null,
   "metadata": {},
   "outputs": [],
   "source": [
    "imagestripes_names"
   ]
  },
  {
   "cell_type": "code",
   "execution_count": null,
   "metadata": {},
   "outputs": [],
   "source": [
    "%time\n",
    "# Run merge function for each set of VNIR and SWNIR stripes\n",
    "for i, k in enumerate(imagestripes_names[::2]):\n",
    "    print(f'Prossesing stripe {i+1} of {len(imagestripes_names)}')\n",
    "    print(f'Merging {imagestripes_names[1]} and {imagestripes_names[0]}')\n",
    "\n",
    "    \n",
    "    # The highes resolution image as fist input. In this case VNIR before Swnir.\n",
    "    cmd = 'gdal_merge.py -o '+ imagestripes_out_dir +'stripe_merged_'+ str(2+i) +'.tif -separate -v -ot Float32 -of GTiff '+ imagestripes_names[i+1] +' '+ imagestripes_names[i]\n",
    "    \n",
    "    os.system(cmd)"
   ]
  },
  {
   "cell_type": "code",
   "execution_count": null,
   "metadata": {},
   "outputs": [],
   "source": [
    "cmd"
   ]
  },
  {
   "cell_type": "markdown",
   "metadata": {},
   "source": [
    "## Make tiles"
   ]
  },
  {
   "cell_type": "code",
   "execution_count": null,
   "metadata": {},
   "outputs": [],
   "source": [
    "name_imagefiles = glob.glob(\"../Merged_image_stripes/*.tif\")  # Lists every imagefile"
   ]
  },
  {
   "cell_type": "code",
   "execution_count": null,
   "metadata": {},
   "outputs": [],
   "source": [
    "%time\n",
    "# Run retilefunction for each image\n",
    "for i, image_name in enumerate(name_imagefiles):\n",
    "    print(f'Prossesing image {i+1} of {len(name_tiles)}')\n",
    "    \n",
    "    cmd = 'gdal_retile.py -ps ' + tile_with +' '+ tile_heigth + ' -overlap 0 -levels 1 -r near -ot Float32 -csv '+ str(i) + name_csv + ' -csvDelim \",\" -targetDir '+'\\''+in_directory+'\\''+ ' ' +'\\''+image_name+'\\''\n",
    "    #print(cmd)\n",
    "    os.system(cmd)"
   ]
  },
  {
   "cell_type": "markdown",
   "metadata": {},
   "source": [
    "### Delete empyt tiles or tiles with irregular shape "
   ]
  },
  {
   "cell_type": "code",
   "execution_count": null,
   "metadata": {},
   "outputs": [],
   "source": [
    "list_tiles = glob.glob(\"../Sorted_tiles/*.tif\")\n",
    "tiles_to_be_removed = []"
   ]
  },
  {
   "cell_type": "code",
   "execution_count": null,
   "metadata": {},
   "outputs": [],
   "source": [
    "def get_input(path):\n",
    "\n",
    "    img = imageio.imread(path)\n",
    "\n",
    "    return img"
   ]
  },
  {
   "cell_type": "code",
   "execution_count": null,
   "metadata": {},
   "outputs": [],
   "source": [
    "# Checks tiles and delete the irregular ones.\n",
    "for tile_path in list_tiles:\n",
    "    image = get_input(tile_path)\n",
    "\n",
    "    if not image.any():  # Checks if image is only zeroes, no data.\n",
    "        tiles_to_be_removed.append(os.path.basename(tile_path))\n",
    "        # os.remove(tile_path)\n",
    "\n",
    "    elif image.shape != (\n",
    "        int(tile_with),\n",
    "        int(tile_heigth),\n",
    "        474,\n",
    "    ):  # Checks if image is correctly shaped\n",
    "        tiles_to_be_removed.append(os.path.basename(tile_path))\n",
    "        # os.remove(tile_path)"
   ]
  },
  {
   "cell_type": "code",
   "execution_count": null,
   "metadata": {},
   "outputs": [],
   "source": [
    "print(f\"{len(tiles_to_be_removed)} tiles was deleted.\")"
   ]
  },
  {
   "cell_type": "markdown",
   "metadata": {},
   "source": [
    "## Find categories\n",
    "Label 99 means that the tile contains no MIS-label."
   ]
  },
  {
   "cell_type": "code",
   "execution_count": null,
   "metadata": {},
   "outputs": [],
   "source": [
    "MIS_code_key = pd.read_excel(\n",
    "    io=\"../Prosjekt_Honne_data_Landbruksdirektoratet/Koder Mis-nin i shape pilot 2.0.xlsx\",\n",
    "    sheet_name=\"LM.kode\",\n",
    ")\n",
    "MIS_code_key"
   ]
  },
  {
   "cell_type": "code",
   "execution_count": null,
   "metadata": {},
   "outputs": [],
   "source": [
    "# Read mis-polygons\n",
    "mis_geometry_mjosen = geopandas.read_file(\n",
    "    \"../Prosjekt_Honne_data_Landbruksdirektoratet/Leveranse_MiS_201017_Mjosen/MiS_NiN_Biri_Mjosen_2017.shp\"\n",
    ")\n",
    "\n",
    "mis_geometry_mjosen.head()"
   ]
  },
  {
   "cell_type": "code",
   "execution_count": null,
   "metadata": {},
   "outputs": [],
   "source": [
    "# Plot mis-polygons\n",
    "plt.figure()\n",
    "mis_geometry_mjosen.plot()\n",
    "plt.show()"
   ]
  },
  {
   "cell_type": "markdown",
   "metadata": {},
   "source": [
    "### Test polygon"
   ]
  },
  {
   "cell_type": "code",
   "execution_count": null,
   "metadata": {},
   "outputs": [],
   "source": [
    "mis_geometry_test = geopandas.read_file(\n",
    "    \"../Qgis/test_polygon/testpolygon_rett_epsg.shp\"\n",
    ")\n",
    "mis_geometry_test.head()"
   ]
  },
  {
   "cell_type": "code",
   "execution_count": null,
   "metadata": {},
   "outputs": [],
   "source": [
    "# Plot mis-polygons\n",
    "plt.figure()\n",
    "mis_geometry_test.plot()\n",
    "plt.show()"
   ]
  },
  {
   "cell_type": "markdown",
   "metadata": {},
   "source": [
    "## Sort tiles"
   ]
  },
  {
   "cell_type": "code",
   "execution_count": null,
   "metadata": {},
   "outputs": [],
   "source": [
    "# Merge all csv files to one big\n",
    "all_files = glob.glob(\n",
    "    os.path.join(in_directory, \"*.csv\")\n",
    ")  # advisable to use os.path.join as this makes concatenation OS independent\n",
    "\n",
    "df_from_each_file = (\n",
    "    pd.read_csv(f, names=[\"Tile_name\", \"X_ul\", \"X_lr\", \"Y_ul\", \"Y_lr\"])\n",
    "    for f in all_files\n",
    ")\n",
    "concatenated_df = pd.concat(df_from_each_file, ignore_index=True)"
   ]
  },
  {
   "cell_type": "code",
   "execution_count": null,
   "metadata": {},
   "outputs": [],
   "source": [
    "concatenated_df.count()"
   ]
  },
  {
   "cell_type": "code",
   "execution_count": null,
   "metadata": {},
   "outputs": [],
   "source": [
    "concatenated_df.head()"
   ]
  },
  {
   "cell_type": "code",
   "execution_count": null,
   "metadata": {},
   "outputs": [],
   "source": [
    "# Remove tiles found to be irregular or not wanted\n",
    "concatenated_df = concatenated_df[\n",
    "    ~concatenated_df[\"Tile_name\"].isin(tiles_to_be_removed)\n",
    "]\n",
    "concatenated_df.reset_index(drop=True, inplace=True)\n",
    "concatenated_df.head()"
   ]
  },
  {
   "cell_type": "code",
   "execution_count": null,
   "metadata": {},
   "outputs": [],
   "source": [
    "concatenated_df.count()"
   ]
  },
  {
   "cell_type": "code",
   "execution_count": null,
   "metadata": {},
   "outputs": [],
   "source": [
    "# Create a geometry of every tile (bounding box)\n",
    "# https://gis.stackexchange.com/questions/285336/convert-polygon-bounding-box-to-geodataframe\n",
    "b = [\n",
    "    geopandas.base.box(l, b, r, t)\n",
    "    for l, b, r, t in zip(\n",
    "        concatenated_df.X_ul,\n",
    "        concatenated_df.Y_lr,\n",
    "        concatenated_df.X_lr,\n",
    "        concatenated_df.Y_ul,\n",
    "    )\n",
    "]\n",
    "\n",
    "gdf = geopandas.GeoDataFrame(concatenated_df, geometry=b)\n",
    "\n",
    "# Create dataframe to save labels\n",
    "labeled_tiles = pd.DataFrame(gdf[\"Tile_name\"])\n",
    "labeled_tiles.index.name = \"ID\"\n",
    "\n",
    "# Create label collum, label 99 means no \"no MIS label\"\n",
    "labeled_tiles[\"LIVSM1\"] = int(99)\n",
    "labeled_tiles[\"LIVSM2\"] = int(99)"
   ]
  },
  {
   "cell_type": "code",
   "execution_count": null,
   "metadata": {},
   "outputs": [],
   "source": [
    "labeled_tiles.head()"
   ]
  },
  {
   "cell_type": "code",
   "execution_count": null,
   "metadata": {},
   "outputs": [],
   "source": [
    "# Modifisert\n",
    "# Bruk informasjonen i mis_geometry.LIVSM_XXX for å tilegne klasse i sorteringa. Lagre dette i csv-fil eller inn i\n",
    "# concatenated_df. Då kan ein lese navn på flisa og i same slengen også leggje til miskoden inn i generatoren. Altså\n",
    "# både x (imageread(filnamn)) og y (klassekoden).\n",
    "# Check if a tile is inside a mis-polygon. Sorts tiles.\n",
    "for mis_geom_num, mis_geom_row in mis_geometry_mjosen.iterrows():\n",
    "    print(f\"Checking polygon {mis_geom_num + 1} of {len(mis_geometry_mjosen)}\")\n",
    "\n",
    "    # Check if tile geometries is inside a mis-polygon\n",
    "    for index, row in gdf.iterrows():\n",
    "        # If tile is inside, sort it into folder\n",
    "        if mis_geom_row[\"geometry\"].contains(row[\"geometry\"]):\n",
    "            # shutil.move(in_directory + '/' + row['Tile_name'], out_directory + '/' + row['Tile_name'])\n",
    "            labeled_tiles.loc[labeled_tiles.index[index], \"LIVSM1\"] = int(\n",
    "                mis_geom_row[\"LIVSM1\"]\n",
    "            )\n",
    "            labeled_tiles.loc[labeled_tiles.index[index], \"LIVSM2\"] = int(\n",
    "                mis_geom_row[\"LIVSM2\"]\n",
    "            )\n",
    "\n",
    "            # print(f'Label {gdf[\"mis_label\"][index]} given tile {row[\"Tile_name\"]}')\n",
    "            print(\n",
    "                \"Label LIVSM1 {0} LIVSM2 {1} given tile {2}\".format(\n",
    "                    labeled_tiles[\"LIVSM1\"][index],\n",
    "                    labeled_tiles[\"LIVSM2\"][index],\n",
    "                    row[\"Tile_name\"],\n",
    "                )\n",
    "            )"
   ]
  },
  {
   "cell_type": "markdown",
   "metadata": {},
   "source": [
    "### Test polygon"
   ]
  },
  {
   "cell_type": "code",
   "execution_count": null,
   "metadata": {},
   "outputs": [],
   "source": [
    "# Modifisert\n",
    "# Bruk informasjonen i mis_geometry.LIVSM_XXX for å tilegne klasse i sorteringa. Lagre dette i csv-fil eller inn i\n",
    "# concatenated_df. Då kan ein lese navn på flisa og i same slengen også leggje til miskoden inn i generatoren. Altså\n",
    "# både x (imageread(filnamn)) og y (klassekoden).\n",
    "# Check if a tile is inside a mis-polygon. Sorts tiles.\n",
    "for mis_geom_num, mis_geom_row in mis_geometry_test.iterrows():\n",
    "    print(f\"Checking polygon {mis_geom_num + 1} of {len(mis_geometry_test)}\")\n",
    "\n",
    "    # Check if tile geometries is inside a mis-polygon\n",
    "    for index, row in gdf.iterrows():\n",
    "        # If tile is inside, sort it into folder\n",
    "        if mis_geom_row[\"geometry\"].contains(row[\"geometry\"]):\n",
    "            # shutil.move(in_directory + '/' + row['Tile_name'], out_directory + '/' + row['Tile_name'])\n",
    "            labeled_tiles.loc[labeled_tiles.index[index], \"LIVSM1\"] = int(\n",
    "                mis_geom_row[\"LIVSM1\"]\n",
    "            )\n",
    "            labeled_tiles.loc[labeled_tiles.index[index], \"LIVSM2\"] = int(\n",
    "                mis_geom_row[\"LIVSM2\"]\n",
    "            )\n",
    "\n",
    "            # print(f'Label {gdf[\"mis_label\"][index]} given tile {row[\"Tile_name\"]}')\n",
    "            print(\n",
    "                \"Label LIVSM1 {0} LIVSM2 {1} given tile {2}\".format(\n",
    "                    labeled_tiles[\"LIVSM1\"][index],\n",
    "                    labeled_tiles[\"LIVSM2\"][index],\n",
    "                    row[\"Tile_name\"],\n",
    "                )\n",
    "            )"
   ]
  },
  {
   "cell_type": "markdown",
   "metadata": {},
   "source": [
    "MultiLabelBinarizer is used to make a multilabel binary label. This labelvector is used by the model."
   ]
  },
  {
   "cell_type": "code",
   "execution_count": null,
   "metadata": {},
   "outputs": [],
   "source": [
    "from sklearn.preprocessing import MultiLabelBinarizer\n",
    "\n",
    "mergedlabels = [\n",
    "    list(pair)\n",
    "    for pair in zip(labeled_tiles[\"LIVSM1\"].values, labeled_tiles[\"LIVSM2\"].values)\n",
    "]\n",
    "\n",
    "# If the tile only have one label, only one label is given. 0 is ignored == no label.\n",
    "mlb = MultiLabelBinarizer(classes=[1, 2, 3, 4, 5, 6, 7, 8, 9, 10, 11, 12, 99])\n",
    "binarized_labels = mlb.fit_transform(mergedlabels)"
   ]
  },
  {
   "cell_type": "code",
   "execution_count": null,
   "metadata": {},
   "outputs": [],
   "source": [
    "labels_as_colums = pd.DataFrame(binarized_labels, columns=mlb.classes)\n",
    "labels_as_colums.head()"
   ]
  },
  {
   "cell_type": "code",
   "execution_count": null,
   "metadata": {},
   "outputs": [],
   "source": [
    "# Convert binarized_labels to dataframe\n",
    "bin_labels_dict = {\n",
    "    \"index\": list(range(len(binarized_labels))),\n",
    "    \"mult_bin_labels\": binarized_labels.tolist(),\n",
    "}\n",
    "binarized_labels_dataframe = pd.DataFrame(\n",
    "    bin_labels_dict, columns=[\"index\", \"mult_bin_labels\"]\n",
    ")\n",
    "\n",
    "# view the dataset\n",
    "binarized_labels_dataframe.head()"
   ]
  },
  {
   "cell_type": "code",
   "execution_count": null,
   "metadata": {},
   "outputs": [],
   "source": [
    "labeled_tiles_bin = pd.concat(\n",
    "    [labeled_tiles, binarized_labels_dataframe[\"mult_bin_labels\"], labels_as_colums],\n",
    "    axis=1,\n",
    ")\n",
    "labeled_tiles_bin.tail()"
   ]
  },
  {
   "cell_type": "code",
   "execution_count": null,
   "metadata": {},
   "outputs": [],
   "source": [
    "# Save csv to file\n",
    "labeled_tiles_bin.to_csv(\"../Qgis/labeled_tiles.csv\")\n",
    "\n",
    "labeled_tiles_bin.head()"
   ]
  },
  {
   "cell_type": "code",
   "execution_count": null,
   "metadata": {},
   "outputs": [],
   "source": [
    "labeled_tiles_bin[5].value_counts()"
   ]
  },
  {
   "cell_type": "markdown",
   "metadata": {},
   "source": [
    "## Read images"
   ]
  },
  {
   "cell_type": "code",
   "execution_count": null,
   "metadata": {},
   "outputs": [],
   "source": [
    "import random\n",
    "\n",
    "import imageio\n",
    "import scipy.ndimage\n",
    "\n",
    "im = imageio.imread(\"../Sorted_tiles/stripe_merged_2_03_30.tif\")\n",
    "\n",
    "# no = random.randrange(-180,180,30)\n",
    "# flipped_patch = scipy.ndimage.interpolation.rotate(im, no,axes=(1, 0), reshape=False, output=None, order=3, mode='mirror', cval=0.0, prefilter=False)"
   ]
  },
  {
   "cell_type": "code",
   "execution_count": null,
   "metadata": {},
   "outputs": [],
   "source": [
    "flipped_patch.shape"
   ]
  },
  {
   "cell_type": "code",
   "execution_count": null,
   "metadata": {},
   "outputs": [],
   "source": [
    "flipped_patch[0][0]"
   ]
  },
  {
   "cell_type": "code",
   "execution_count": null,
   "metadata": {},
   "outputs": [],
   "source": [
    "im.shape"
   ]
  },
  {
   "cell_type": "code",
   "execution_count": null,
   "metadata": {},
   "outputs": [],
   "source": [
    "kk = im.flatten()\n",
    "kk.shape"
   ]
  },
  {
   "cell_type": "code",
   "execution_count": null,
   "metadata": {},
   "outputs": [],
   "source": [
    "kk = np.atleast_3d(im.flatten())\n",
    "kk.shape"
   ]
  },
  {
   "cell_type": "code",
   "execution_count": null,
   "metadata": {},
   "outputs": [],
   "source": [
    "kks = im.reshape(632, 625, 3)\n",
    "kks.shape"
   ]
  },
  {
   "cell_type": "code",
   "execution_count": null,
   "metadata": {},
   "outputs": [],
   "source": [
    "kk = np.reshape(im, (625, 632, 3))\n",
    "kk.shape"
   ]
  },
  {
   "cell_type": "code",
   "execution_count": null,
   "metadata": {},
   "outputs": [],
   "source": [
    "395000"
   ]
  },
  {
   "cell_type": "code",
   "execution_count": null,
   "metadata": {},
   "outputs": [],
   "source": [
    "for i in reversed(range(200, 900)):\n",
    "    for j in range(200, 900):\n",
    "        if i * j == 155000:\n",
    "            print(i)\n",
    "            print(j)"
   ]
  },
  {
   "cell_type": "code",
   "execution_count": null,
   "metadata": {},
   "outputs": [],
   "source": [
    "im = imageio.imread(\"../Sorted_tiles/stripe_merged_2_04_30.tif\")\n",
    "\n",
    "standard_image = im\n",
    "\n",
    "pca_standard = PCA(30)\n",
    "pca_reshape = im.reshape(-1, 474)\n",
    "standard_pca_image = pca_standard.fit_transform(pca_reshape)\n",
    "standard_pca_image = standard_pca_image.reshape(50, 50, 30)\n",
    "print(pca_standard.explained_variance_ratio_)\n",
    "\n",
    "\n",
    "# Equalization\n",
    "img_eq = exposure.equalize_hist(im)\n",
    "\n",
    "pca_eq = PCA(30)\n",
    "pca_reshape = img_eq.reshape(-1, 474)\n",
    "eq_pca = pca_eq.fit_transform(pca_reshape)\n",
    "eq_pca = eq_pca.reshape(50, 50, 30)\n",
    "\n",
    "print(pca_eq.explained_variance_ratio_)\n",
    "\n",
    "\n",
    "# Contrast stretching\n",
    "p2, p98 = np.percentile(im, (2, 98))\n",
    "img_rescale = exposure.rescale_intensity(im, in_range=(p2, p98))\n",
    "# plt.imshow(img_rescale[:,:,0])\n",
    "\n",
    "pca_stretch = PCA(30)\n",
    "pca_reshape = img_rescale.reshape(-1, 474)\n",
    "stretch_pca = pca_stretch.fit_transform(pca_reshape)\n",
    "stretch_pca = stretch_pca.reshape(50, 50, 30)\n",
    "\n",
    "print(pca_stretch.explained_variance_ratio_)"
   ]
  },
  {
   "cell_type": "code",
   "execution_count": null,
   "metadata": {},
   "outputs": [],
   "source": [
    "plt.subplot(321)\n",
    "plt.imshow(standard_image[:, :, 0])\n",
    "\n",
    "plt.subplot(322)\n",
    "plt.imshow(standard_pca_image[:, :, 0])\n",
    "\n",
    "plt.subplot(323)\n",
    "plt.imshow(img_eq[:, :, 0])\n",
    "\n",
    "plt.subplot(324)\n",
    "plt.imshow(eq_pca[:, :, 0])\n",
    "\n",
    "plt.subplot(325)\n",
    "plt.imshow(img_rescale[:, :, 0])\n",
    "\n",
    "plt.subplot(326)\n",
    "plt.imshow(stretch_pca[:, :, 0])\n",
    "\n",
    "plt.show()"
   ]
  },
  {
   "cell_type": "code",
   "execution_count": null,
   "metadata": {},
   "outputs": [],
   "source": [
    "img_rescale2 = img_rescale.reshape(625, 632, 3)\n",
    "\n",
    "\n",
    "plt.imshow(img_rescale2[:, :, 0])"
   ]
  },
  {
   "cell_type": "code",
   "execution_count": null,
   "metadata": {},
   "outputs": [],
   "source": [
    "ss = im[:, :, 80]\n",
    "ss.shape"
   ]
  },
  {
   "cell_type": "code",
   "execution_count": null,
   "metadata": {},
   "outputs": [],
   "source": [
    "import matplotlib.pyplot as plt\n",
    "\n",
    "plt.imshow(ss)"
   ]
  },
  {
   "cell_type": "code",
   "execution_count": null,
   "metadata": {},
   "outputs": [],
   "source": [
    "import matplotlib.pyplot as plt\n",
    "\n",
    "plt.imshow(kk[:, :, 0])"
   ]
  },
  {
   "cell_type": "code",
   "execution_count": null,
   "metadata": {},
   "outputs": [],
   "source": [
    "import matplotlib.pyplot as plt\n",
    "\n",
    "plt.imshow(kks[:, :, 0])"
   ]
  },
  {
   "cell_type": "code",
   "execution_count": null,
   "metadata": {},
   "outputs": [],
   "source": [
    "from sklearn.decomposition import PCA\n",
    "\n",
    "pca = PCA(3)\n",
    "X = im.reshape(-1, 474)\n",
    "\n",
    "pca.fit(X)\n",
    "uu = pca.transform(X)\n",
    "pca.explained_variance_ratio_"
   ]
  },
  {
   "cell_type": "code",
   "execution_count": null,
   "metadata": {},
   "outputs": [],
   "source": [
    "uu = uu.reshape(50, 50, 3)\n",
    "uu.shape\n",
    "plt.imshow(uu[:, :, 0])"
   ]
  },
  {
   "cell_type": "code",
   "execution_count": null,
   "metadata": {},
   "outputs": [],
   "source": [
    "from skimage import exposure\n",
    "\n",
    "# Equalization\n",
    "img_eq = exposure.equalize_hist(im)\n",
    "img_eq.shape"
   ]
  },
  {
   "cell_type": "code",
   "execution_count": null,
   "metadata": {},
   "outputs": [],
   "source": [
    "plt.imshow(img_eq[:, :, 0])"
   ]
  },
  {
   "cell_type": "code",
   "execution_count": null,
   "metadata": {},
   "outputs": [],
   "source": [
    "pca = PCA(30)\n",
    "Xx = img_eq.reshape(-1, 474)\n",
    "\n",
    "pca.fit(Xx)\n",
    "ulu = pca.transform(Xx)\n",
    "pca.explained_variance_ratio_"
   ]
  },
  {
   "cell_type": "code",
   "execution_count": null,
   "metadata": {},
   "outputs": [],
   "source": [
    "ulu = ulu.reshape(50, 50, 30)\n",
    "ulu.shape\n",
    "plt.imshow(ulu[:, :, 9])"
   ]
  },
  {
   "cell_type": "code",
   "execution_count": null,
   "metadata": {},
   "outputs": [],
   "source": [
    "# Contrast stretching\n",
    "p2, p98 = np.percentile(im, (2, 98))\n",
    "img_rescale = exposure.rescale_intensity(im, in_range=(p2, p98))\n",
    "plt.imshow(img_rescale[:, :, 0])"
   ]
  },
  {
   "cell_type": "code",
   "execution_count": null,
   "metadata": {},
   "outputs": [],
   "source": [
    "pca = PCA(30)\n",
    "Xxx = img_rescale.reshape(-1, 474)\n",
    "\n",
    "pca.fit(Xxx)\n",
    "ulssu = pca.transform(Xxx)\n",
    "pca.explained_variance_ratio_"
   ]
  },
  {
   "cell_type": "code",
   "execution_count": null,
   "metadata": {},
   "outputs": [],
   "source": [
    "ulssu = ulssu.reshape(50, 50, 30)\n",
    "ulssu.shape\n",
    "plt.imshow(ulssu[:, :, 0])"
   ]
  },
  {
   "cell_type": "code",
   "execution_count": null,
   "metadata": {},
   "outputs": [],
   "source": [
    "import numpy as np\n",
    "from PIL import Image, ImageEnhance\n",
    "\n",
    "im = Image.open(\"../Sorted_tiles/1.jpg\")\n",
    "im2 = imageio.imread(\"../Sorted_tiles/1.jpg\")"
   ]
  },
  {
   "cell_type": "code",
   "execution_count": null,
   "metadata": {},
   "outputs": [],
   "source": [
    "print(np.array(im).shape)\n",
    "print(im2.shape)\n",
    "print(im - im2)"
   ]
  },
  {
   "cell_type": "code",
   "execution_count": null,
   "metadata": {},
   "outputs": [],
   "source": [
    "import imageio\n",
    "import numpy as np\n",
    "\n",
    "im = imageio.imread(\"../Sorted_tiles/stripe_merged_2_11_18.tif\")\n",
    "np.shape(im)"
   ]
  },
  {
   "cell_type": "code",
   "execution_count": null,
   "metadata": {},
   "outputs": [],
   "source": [
    "im2 = im[:, :, :10]\n",
    "np.shape(im2)"
   ]
  },
  {
   "cell_type": "code",
   "execution_count": null,
   "metadata": {},
   "outputs": [],
   "source": [
    "import matplotlib as mpl\n",
    "import matplotlib.pyplot as plt\n",
    "import numpy as np\n",
    "from mpl_toolkits.mplot3d import Axes3D\n",
    "\n",
    "# Make this bigger to generate a dense grid.\n",
    "N = 4\n",
    "\n",
    "# Create some random data.\n",
    "volume = np.random.rand(N, N, N)\n",
    "volume = im2\n",
    "\n",
    "# Create the x, y, and z coordinate arrays.  We use\n",
    "# numpy's broadcasting to do all the hard work for us.\n",
    "# We could shorten this even more by using np.meshgrid.\n",
    "x = np.arange(volume.shape[0])[:, None, None]\n",
    "y = np.arange(volume.shape[1])[None, :, None]\n",
    "z = np.arange(volume.shape[2])[None, None, :]\n",
    "x, y, z = np.broadcast_arrays(x, y, z)\n",
    "\n",
    "# Turn the volumetric data into an RGB array that's\n",
    "# just grayscale.  There might be better ways to make\n",
    "# ax.scatter happy.\n",
    "c = np.tile(volume.ravel()[:, None], [1, 3])\n",
    "\n",
    "# Do the plotting in a single call.\n",
    "fig = plt.figure()\n",
    "ax = fig.gca(projection=\"3d\")\n",
    "ax.scatter(x.ravel(), y.ravel(), z.ravel(), c=c)"
   ]
  },
  {
   "cell_type": "markdown",
   "metadata": {},
   "source": [
    "## Images to dataframe"
   ]
  },
  {
   "cell_type": "code",
   "execution_count": 63,
   "metadata": {},
   "outputs": [],
   "source": [
    "import imageio\n",
    "import pandas as pd\n",
    "\n",
    "image_dataframe = pd.DataFrame(data=None, columns=[\"Name\",\"target\"])\n",
    "\n",
    "image_dir_path = \"../Sorted_tiles/\"  # Path to images"
   ]
  },
  {
   "cell_type": "code",
   "execution_count": 64,
   "metadata": {},
   "outputs": [
    {
     "data": {
      "text/html": [
       "<div>\n",
       "<style scoped>\n",
       "    .dataframe tbody tr th:only-of-type {\n",
       "        vertical-align: middle;\n",
       "    }\n",
       "\n",
       "    .dataframe tbody tr th {\n",
       "        vertical-align: top;\n",
       "    }\n",
       "\n",
       "    .dataframe thead th {\n",
       "        text-align: right;\n",
       "    }\n",
       "</style>\n",
       "<table border=\"1\" class=\"dataframe\">\n",
       "  <thead>\n",
       "    <tr style=\"text-align: right;\">\n",
       "      <th></th>\n",
       "      <th>ID</th>\n",
       "      <th>Tile_name</th>\n",
       "      <th>LIVSM1</th>\n",
       "      <th>LIVSM2</th>\n",
       "      <th>mult_bin_labels</th>\n",
       "      <th>1</th>\n",
       "      <th>2</th>\n",
       "      <th>3</th>\n",
       "      <th>4</th>\n",
       "      <th>5</th>\n",
       "      <th>6</th>\n",
       "      <th>7</th>\n",
       "      <th>8</th>\n",
       "      <th>9</th>\n",
       "      <th>10</th>\n",
       "      <th>11</th>\n",
       "      <th>12</th>\n",
       "      <th>99</th>\n",
       "    </tr>\n",
       "  </thead>\n",
       "  <tbody>\n",
       "    <tr>\n",
       "      <th>0</th>\n",
       "      <td>0</td>\n",
       "      <td>stripe_merged_2_01_31.tif</td>\n",
       "      <td>99</td>\n",
       "      <td>99</td>\n",
       "      <td>[0, 0, 0, 0, 0, 0, 0, 0, 0, 0, 0, 0, 1]</td>\n",
       "      <td>0</td>\n",
       "      <td>0</td>\n",
       "      <td>0</td>\n",
       "      <td>0</td>\n",
       "      <td>0</td>\n",
       "      <td>0</td>\n",
       "      <td>0</td>\n",
       "      <td>0</td>\n",
       "      <td>0</td>\n",
       "      <td>0</td>\n",
       "      <td>0</td>\n",
       "      <td>0</td>\n",
       "      <td>1</td>\n",
       "    </tr>\n",
       "    <tr>\n",
       "      <th>1</th>\n",
       "      <td>1</td>\n",
       "      <td>stripe_merged_2_01_32.tif</td>\n",
       "      <td>99</td>\n",
       "      <td>99</td>\n",
       "      <td>[0, 0, 0, 0, 0, 0, 0, 0, 0, 0, 0, 0, 1]</td>\n",
       "      <td>0</td>\n",
       "      <td>0</td>\n",
       "      <td>0</td>\n",
       "      <td>0</td>\n",
       "      <td>0</td>\n",
       "      <td>0</td>\n",
       "      <td>0</td>\n",
       "      <td>0</td>\n",
       "      <td>0</td>\n",
       "      <td>0</td>\n",
       "      <td>0</td>\n",
       "      <td>0</td>\n",
       "      <td>1</td>\n",
       "    </tr>\n",
       "    <tr>\n",
       "      <th>2</th>\n",
       "      <td>2</td>\n",
       "      <td>stripe_merged_2_01_33.tif</td>\n",
       "      <td>99</td>\n",
       "      <td>99</td>\n",
       "      <td>[0, 0, 0, 0, 0, 0, 0, 0, 0, 0, 0, 0, 1]</td>\n",
       "      <td>0</td>\n",
       "      <td>0</td>\n",
       "      <td>0</td>\n",
       "      <td>0</td>\n",
       "      <td>0</td>\n",
       "      <td>0</td>\n",
       "      <td>0</td>\n",
       "      <td>0</td>\n",
       "      <td>0</td>\n",
       "      <td>0</td>\n",
       "      <td>0</td>\n",
       "      <td>0</td>\n",
       "      <td>1</td>\n",
       "    </tr>\n",
       "    <tr>\n",
       "      <th>3</th>\n",
       "      <td>3</td>\n",
       "      <td>stripe_merged_2_01_34.tif</td>\n",
       "      <td>99</td>\n",
       "      <td>99</td>\n",
       "      <td>[0, 0, 0, 0, 0, 0, 0, 0, 0, 0, 0, 0, 1]</td>\n",
       "      <td>0</td>\n",
       "      <td>0</td>\n",
       "      <td>0</td>\n",
       "      <td>0</td>\n",
       "      <td>0</td>\n",
       "      <td>0</td>\n",
       "      <td>0</td>\n",
       "      <td>0</td>\n",
       "      <td>0</td>\n",
       "      <td>0</td>\n",
       "      <td>0</td>\n",
       "      <td>0</td>\n",
       "      <td>1</td>\n",
       "    </tr>\n",
       "    <tr>\n",
       "      <th>4</th>\n",
       "      <td>4</td>\n",
       "      <td>stripe_merged_2_01_35.tif</td>\n",
       "      <td>99</td>\n",
       "      <td>99</td>\n",
       "      <td>[0, 0, 0, 0, 0, 0, 0, 0, 0, 0, 0, 0, 1]</td>\n",
       "      <td>0</td>\n",
       "      <td>0</td>\n",
       "      <td>0</td>\n",
       "      <td>0</td>\n",
       "      <td>0</td>\n",
       "      <td>0</td>\n",
       "      <td>0</td>\n",
       "      <td>0</td>\n",
       "      <td>0</td>\n",
       "      <td>0</td>\n",
       "      <td>0</td>\n",
       "      <td>0</td>\n",
       "      <td>1</td>\n",
       "    </tr>\n",
       "  </tbody>\n",
       "</table>\n",
       "</div>"
      ],
      "text/plain": [
       "   ID                  Tile_name  LIVSM1  LIVSM2  \\\n",
       "0   0  stripe_merged_2_01_31.tif      99      99   \n",
       "1   1  stripe_merged_2_01_32.tif      99      99   \n",
       "2   2  stripe_merged_2_01_33.tif      99      99   \n",
       "3   3  stripe_merged_2_01_34.tif      99      99   \n",
       "4   4  stripe_merged_2_01_35.tif      99      99   \n",
       "\n",
       "                           mult_bin_labels  1  2  3  4  5  6  7  8  9  10  11  \\\n",
       "0  [0, 0, 0, 0, 0, 0, 0, 0, 0, 0, 0, 0, 1]  0  0  0  0  0  0  0  0  0   0   0   \n",
       "1  [0, 0, 0, 0, 0, 0, 0, 0, 0, 0, 0, 0, 1]  0  0  0  0  0  0  0  0  0   0   0   \n",
       "2  [0, 0, 0, 0, 0, 0, 0, 0, 0, 0, 0, 0, 1]  0  0  0  0  0  0  0  0  0   0   0   \n",
       "3  [0, 0, 0, 0, 0, 0, 0, 0, 0, 0, 0, 0, 1]  0  0  0  0  0  0  0  0  0   0   0   \n",
       "4  [0, 0, 0, 0, 0, 0, 0, 0, 0, 0, 0, 0, 1]  0  0  0  0  0  0  0  0  0   0   0   \n",
       "\n",
       "   12  99  \n",
       "0   0   1  \n",
       "1   0   1  \n",
       "2   0   1  \n",
       "3   0   1  \n",
       "4   0   1  "
      ]
     },
     "execution_count": 64,
     "metadata": {},
     "output_type": "execute_result"
    }
   ],
   "source": [
    "import pandas as pd\n",
    "\n",
    "labelfile = pd.read_csv(\"../Qgis/labeled_tiles.csv\")\n",
    "labelfile.head()"
   ]
  },
  {
   "cell_type": "code",
   "execution_count": 65,
   "metadata": {},
   "outputs": [
    {
     "data": {
      "text/html": [
       "<div>\n",
       "<style scoped>\n",
       "    .dataframe tbody tr th:only-of-type {\n",
       "        vertical-align: middle;\n",
       "    }\n",
       "\n",
       "    .dataframe tbody tr th {\n",
       "        vertical-align: top;\n",
       "    }\n",
       "\n",
       "    .dataframe thead th {\n",
       "        text-align: right;\n",
       "    }\n",
       "</style>\n",
       "<table border=\"1\" class=\"dataframe\">\n",
       "  <thead>\n",
       "    <tr style=\"text-align: right;\">\n",
       "      <th></th>\n",
       "      <th>ID</th>\n",
       "      <th>Tile_name</th>\n",
       "      <th>LIVSM1</th>\n",
       "      <th>LIVSM2</th>\n",
       "      <th>mult_bin_labels</th>\n",
       "      <th>1</th>\n",
       "      <th>2</th>\n",
       "      <th>3</th>\n",
       "      <th>4</th>\n",
       "      <th>5</th>\n",
       "      <th>6</th>\n",
       "      <th>7</th>\n",
       "      <th>8</th>\n",
       "      <th>9</th>\n",
       "      <th>10</th>\n",
       "      <th>11</th>\n",
       "      <th>12</th>\n",
       "      <th>99</th>\n",
       "    </tr>\n",
       "  </thead>\n",
       "  <tbody>\n",
       "    <tr>\n",
       "      <th>0</th>\n",
       "      <td>270</td>\n",
       "      <td>stripe_merged_2_12_22.tif</td>\n",
       "      <td>1</td>\n",
       "      <td>2</td>\n",
       "      <td>[1, 1, 0, 0, 0, 0, 0, 0, 0, 0, 0, 0, 0]</td>\n",
       "      <td>1</td>\n",
       "      <td>1</td>\n",
       "      <td>0</td>\n",
       "      <td>0</td>\n",
       "      <td>0</td>\n",
       "      <td>0</td>\n",
       "      <td>0</td>\n",
       "      <td>0</td>\n",
       "      <td>0</td>\n",
       "      <td>0</td>\n",
       "      <td>0</td>\n",
       "      <td>0</td>\n",
       "      <td>0</td>\n",
       "    </tr>\n",
       "    <tr>\n",
       "      <th>1</th>\n",
       "      <td>403</td>\n",
       "      <td>stripe_merged_2_15_46.tif</td>\n",
       "      <td>1</td>\n",
       "      <td>2</td>\n",
       "      <td>[1, 1, 0, 0, 0, 0, 0, 0, 0, 0, 0, 0, 0]</td>\n",
       "      <td>1</td>\n",
       "      <td>1</td>\n",
       "      <td>0</td>\n",
       "      <td>0</td>\n",
       "      <td>0</td>\n",
       "      <td>0</td>\n",
       "      <td>0</td>\n",
       "      <td>0</td>\n",
       "      <td>0</td>\n",
       "      <td>0</td>\n",
       "      <td>0</td>\n",
       "      <td>0</td>\n",
       "      <td>0</td>\n",
       "    </tr>\n",
       "    <tr>\n",
       "      <th>2</th>\n",
       "      <td>305</td>\n",
       "      <td>stripe_merged_2_13_22.tif</td>\n",
       "      <td>1</td>\n",
       "      <td>2</td>\n",
       "      <td>[1, 1, 0, 0, 0, 0, 0, 0, 0, 0, 0, 0, 0]</td>\n",
       "      <td>1</td>\n",
       "      <td>1</td>\n",
       "      <td>0</td>\n",
       "      <td>0</td>\n",
       "      <td>0</td>\n",
       "      <td>0</td>\n",
       "      <td>0</td>\n",
       "      <td>0</td>\n",
       "      <td>0</td>\n",
       "      <td>0</td>\n",
       "      <td>0</td>\n",
       "      <td>0</td>\n",
       "      <td>0</td>\n",
       "    </tr>\n",
       "    <tr>\n",
       "      <th>3</th>\n",
       "      <td>306</td>\n",
       "      <td>stripe_merged_2_13_23.tif</td>\n",
       "      <td>1</td>\n",
       "      <td>2</td>\n",
       "      <td>[1, 1, 0, 0, 0, 0, 0, 0, 0, 0, 0, 0, 0]</td>\n",
       "      <td>1</td>\n",
       "      <td>1</td>\n",
       "      <td>0</td>\n",
       "      <td>0</td>\n",
       "      <td>0</td>\n",
       "      <td>0</td>\n",
       "      <td>0</td>\n",
       "      <td>0</td>\n",
       "      <td>0</td>\n",
       "      <td>0</td>\n",
       "      <td>0</td>\n",
       "      <td>0</td>\n",
       "      <td>0</td>\n",
       "    </tr>\n",
       "    <tr>\n",
       "      <th>4</th>\n",
       "      <td>60</td>\n",
       "      <td>stripe_merged_2_05_30.tif</td>\n",
       "      <td>5</td>\n",
       "      <td>6</td>\n",
       "      <td>[0, 0, 0, 0, 1, 1, 0, 0, 0, 0, 0, 0, 0]</td>\n",
       "      <td>0</td>\n",
       "      <td>0</td>\n",
       "      <td>0</td>\n",
       "      <td>0</td>\n",
       "      <td>1</td>\n",
       "      <td>1</td>\n",
       "      <td>0</td>\n",
       "      <td>0</td>\n",
       "      <td>0</td>\n",
       "      <td>0</td>\n",
       "      <td>0</td>\n",
       "      <td>0</td>\n",
       "      <td>0</td>\n",
       "    </tr>\n",
       "  </tbody>\n",
       "</table>\n",
       "</div>"
      ],
      "text/plain": [
       "    ID                  Tile_name  LIVSM1  LIVSM2  \\\n",
       "0  270  stripe_merged_2_12_22.tif       1       2   \n",
       "1  403  stripe_merged_2_15_46.tif       1       2   \n",
       "2  305  stripe_merged_2_13_22.tif       1       2   \n",
       "3  306  stripe_merged_2_13_23.tif       1       2   \n",
       "4   60  stripe_merged_2_05_30.tif       5       6   \n",
       "\n",
       "                           mult_bin_labels  1  2  3  4  5  6  7  8  9  10  11  \\\n",
       "0  [1, 1, 0, 0, 0, 0, 0, 0, 0, 0, 0, 0, 0]  1  1  0  0  0  0  0  0  0   0   0   \n",
       "1  [1, 1, 0, 0, 0, 0, 0, 0, 0, 0, 0, 0, 0]  1  1  0  0  0  0  0  0  0   0   0   \n",
       "2  [1, 1, 0, 0, 0, 0, 0, 0, 0, 0, 0, 0, 0]  1  1  0  0  0  0  0  0  0   0   0   \n",
       "3  [1, 1, 0, 0, 0, 0, 0, 0, 0, 0, 0, 0, 0]  1  1  0  0  0  0  0  0  0   0   0   \n",
       "4  [0, 0, 0, 0, 1, 1, 0, 0, 0, 0, 0, 0, 0]  0  0  0  0  1  1  0  0  0   0   0   \n",
       "\n",
       "   12  99  \n",
       "0   0   0  \n",
       "1   0   0  \n",
       "2   0   0  \n",
       "3   0   0  \n",
       "4   0   0  "
      ]
     },
     "execution_count": 65,
     "metadata": {},
     "output_type": "execute_result"
    }
   ],
   "source": [
    "# Stratified sample of the classes to get a balanced dataset with the same number of classes to train on.\n",
    "# https://machinelearningmastery.com/tactics-to-combat-imbalanced-classes-in-your-machine-learning-dataset/\n",
    "# https://stackoverflow.com/questions/44114463/stratified-sampling-in-pandas\n",
    "\n",
    "# Maximum number of elements in each class. If the classe have less than max every sample is included.\n",
    "clasnumber_of_samples = 40\n",
    "\n",
    "labelfile_balanced = (\n",
    "    labelfile.groupby([\"99\"], group_keys=False)\n",
    "    .apply(lambda x: x.sample(min(len(x), clasnumber_of_samples)))\n",
    "    .reset_index(drop=True)\n",
    ")\n",
    "labelfile_balanced.head()"
   ]
  },
  {
   "cell_type": "code",
   "execution_count": 66,
   "metadata": {},
   "outputs": [
    {
     "data": {
      "text/plain": [
       "mult_bin_labels\n",
       "[0, 0, 0, 0, 0, 0, 0, 0, 0, 0, 0, 0, 1]    40\n",
       "[0, 0, 0, 0, 1, 1, 0, 0, 0, 0, 0, 0, 0]    28\n",
       "[1, 1, 0, 0, 0, 0, 0, 0, 0, 0, 0, 0, 0]    12\n",
       "Name: ID, dtype: int64"
      ]
     },
     "execution_count": 66,
     "metadata": {},
     "output_type": "execute_result"
    }
   ],
   "source": [
    "# Size of classes\n",
    "labelfile_balanced_counted = labelfile_balanced.groupby(\"mult_bin_labels\")[\n",
    "    \"ID\"\n",
    "].nunique()\n",
    "labelfile_balanced_counted"
   ]
  },
  {
   "cell_type": "code",
   "execution_count": 77,
   "metadata": {},
   "outputs": [
    {
     "ename": "KeyboardInterrupt",
     "evalue": "",
     "output_type": "error",
     "traceback": [
      "\u001b[0;31m---------------------------------------------------------------------------\u001b[0m",
      "\u001b[0;31mKeyboardInterrupt\u001b[0m                         Traceback (most recent call last)",
      "\u001b[0;32m<ipython-input-77-25b25802910f>\u001b[0m in \u001b[0;36m<module>\u001b[0;34m\u001b[0m\n\u001b[1;32m      5\u001b[0m     \u001b[0;32mreturn\u001b[0m \u001b[0mimg\u001b[0m\u001b[0;34m\u001b[0m\u001b[0;34m\u001b[0m\u001b[0m\n\u001b[1;32m      6\u001b[0m \u001b[0;34m\u001b[0m\u001b[0m\n\u001b[0;32m----> 7\u001b[0;31m \u001b[0mdata_dataframe\u001b[0m \u001b[0;34m=\u001b[0m \u001b[0mpd\u001b[0m\u001b[0;34m.\u001b[0m\u001b[0mDataFrame\u001b[0m\u001b[0;34m(\u001b[0m\u001b[0mdata\u001b[0m\u001b[0;34m=\u001b[0m\u001b[0;32mNone\u001b[0m\u001b[0;34m,\u001b[0m \u001b[0mcolumns\u001b[0m\u001b[0;34m=\u001b[0m\u001b[0mrange\u001b[0m\u001b[0;34m(\u001b[0m\u001b[0;36m1185000\u001b[0m\u001b[0;34m)\u001b[0m\u001b[0;34m)\u001b[0m\u001b[0;34m\u001b[0m\u001b[0;34m\u001b[0m\u001b[0m\n\u001b[0m\u001b[1;32m      8\u001b[0m \u001b[0;34m\u001b[0m\u001b[0m\n\u001b[1;32m      9\u001b[0m \u001b[0;34m\u001b[0m\u001b[0m\n",
      "\u001b[0;32m~/anaconda3/envs/master2018/lib/python3.6/site-packages/pandas/core/frame.py\u001b[0m in \u001b[0;36m__init__\u001b[0;34m(self, data, index, columns, dtype, copy)\u001b[0m\n\u001b[1;32m    346\u001b[0m                                  dtype=dtype, copy=copy)\n\u001b[1;32m    347\u001b[0m         \u001b[0;32melif\u001b[0m \u001b[0misinstance\u001b[0m\u001b[0;34m(\u001b[0m\u001b[0mdata\u001b[0m\u001b[0;34m,\u001b[0m \u001b[0mdict\u001b[0m\u001b[0;34m)\u001b[0m\u001b[0;34m:\u001b[0m\u001b[0;34m\u001b[0m\u001b[0;34m\u001b[0m\u001b[0m\n\u001b[0;32m--> 348\u001b[0;31m             \u001b[0mmgr\u001b[0m \u001b[0;34m=\u001b[0m \u001b[0mself\u001b[0m\u001b[0;34m.\u001b[0m\u001b[0m_init_dict\u001b[0m\u001b[0;34m(\u001b[0m\u001b[0mdata\u001b[0m\u001b[0;34m,\u001b[0m \u001b[0mindex\u001b[0m\u001b[0;34m,\u001b[0m \u001b[0mcolumns\u001b[0m\u001b[0;34m,\u001b[0m \u001b[0mdtype\u001b[0m\u001b[0;34m=\u001b[0m\u001b[0mdtype\u001b[0m\u001b[0;34m)\u001b[0m\u001b[0;34m\u001b[0m\u001b[0;34m\u001b[0m\u001b[0m\n\u001b[0m\u001b[1;32m    349\u001b[0m         \u001b[0;32melif\u001b[0m \u001b[0misinstance\u001b[0m\u001b[0;34m(\u001b[0m\u001b[0mdata\u001b[0m\u001b[0;34m,\u001b[0m \u001b[0mma\u001b[0m\u001b[0;34m.\u001b[0m\u001b[0mMaskedArray\u001b[0m\u001b[0;34m)\u001b[0m\u001b[0;34m:\u001b[0m\u001b[0;34m\u001b[0m\u001b[0;34m\u001b[0m\u001b[0m\n\u001b[1;32m    350\u001b[0m             \u001b[0;32mimport\u001b[0m \u001b[0mnumpy\u001b[0m\u001b[0;34m.\u001b[0m\u001b[0mma\u001b[0m\u001b[0;34m.\u001b[0m\u001b[0mmrecords\u001b[0m \u001b[0;32mas\u001b[0m \u001b[0mmrecords\u001b[0m\u001b[0;34m\u001b[0m\u001b[0;34m\u001b[0m\u001b[0m\n",
      "\u001b[0;32m~/anaconda3/envs/master2018/lib/python3.6/site-packages/pandas/core/frame.py\u001b[0m in \u001b[0;36m_init_dict\u001b[0;34m(self, data, index, columns, dtype)\u001b[0m\n\u001b[1;32m    457\u001b[0m             \u001b[0marrays\u001b[0m \u001b[0;34m=\u001b[0m \u001b[0;34m[\u001b[0m\u001b[0mdata\u001b[0m\u001b[0;34m[\u001b[0m\u001b[0mk\u001b[0m\u001b[0;34m]\u001b[0m \u001b[0;32mfor\u001b[0m \u001b[0mk\u001b[0m \u001b[0;32min\u001b[0m \u001b[0mkeys\u001b[0m\u001b[0;34m]\u001b[0m\u001b[0;34m\u001b[0m\u001b[0;34m\u001b[0m\u001b[0m\n\u001b[1;32m    458\u001b[0m \u001b[0;34m\u001b[0m\u001b[0m\n\u001b[0;32m--> 459\u001b[0;31m         \u001b[0;32mreturn\u001b[0m \u001b[0m_arrays_to_mgr\u001b[0m\u001b[0;34m(\u001b[0m\u001b[0marrays\u001b[0m\u001b[0;34m,\u001b[0m \u001b[0mdata_names\u001b[0m\u001b[0;34m,\u001b[0m \u001b[0mindex\u001b[0m\u001b[0;34m,\u001b[0m \u001b[0mcolumns\u001b[0m\u001b[0;34m,\u001b[0m \u001b[0mdtype\u001b[0m\u001b[0;34m=\u001b[0m\u001b[0mdtype\u001b[0m\u001b[0;34m)\u001b[0m\u001b[0;34m\u001b[0m\u001b[0;34m\u001b[0m\u001b[0m\n\u001b[0m\u001b[1;32m    460\u001b[0m \u001b[0;34m\u001b[0m\u001b[0m\n\u001b[1;32m    461\u001b[0m     \u001b[0;32mdef\u001b[0m \u001b[0m_init_ndarray\u001b[0m\u001b[0;34m(\u001b[0m\u001b[0mself\u001b[0m\u001b[0;34m,\u001b[0m \u001b[0mvalues\u001b[0m\u001b[0;34m,\u001b[0m \u001b[0mindex\u001b[0m\u001b[0;34m,\u001b[0m \u001b[0mcolumns\u001b[0m\u001b[0;34m,\u001b[0m \u001b[0mdtype\u001b[0m\u001b[0;34m=\u001b[0m\u001b[0;32mNone\u001b[0m\u001b[0;34m,\u001b[0m \u001b[0mcopy\u001b[0m\u001b[0;34m=\u001b[0m\u001b[0;32mFalse\u001b[0m\u001b[0;34m)\u001b[0m\u001b[0;34m:\u001b[0m\u001b[0;34m\u001b[0m\u001b[0;34m\u001b[0m\u001b[0m\n",
      "\u001b[0;32m~/anaconda3/envs/master2018/lib/python3.6/site-packages/pandas/core/frame.py\u001b[0m in \u001b[0;36m_arrays_to_mgr\u001b[0;34m(arrays, arr_names, index, columns, dtype)\u001b[0m\n\u001b[1;32m   7362\u001b[0m     \u001b[0maxes\u001b[0m \u001b[0;34m=\u001b[0m \u001b[0;34m[\u001b[0m\u001b[0m_ensure_index\u001b[0m\u001b[0;34m(\u001b[0m\u001b[0mcolumns\u001b[0m\u001b[0;34m)\u001b[0m\u001b[0;34m,\u001b[0m \u001b[0m_ensure_index\u001b[0m\u001b[0;34m(\u001b[0m\u001b[0mindex\u001b[0m\u001b[0;34m)\u001b[0m\u001b[0;34m]\u001b[0m\u001b[0;34m\u001b[0m\u001b[0;34m\u001b[0m\u001b[0m\n\u001b[1;32m   7363\u001b[0m \u001b[0;34m\u001b[0m\u001b[0m\n\u001b[0;32m-> 7364\u001b[0;31m     \u001b[0;32mreturn\u001b[0m \u001b[0mcreate_block_manager_from_arrays\u001b[0m\u001b[0;34m(\u001b[0m\u001b[0marrays\u001b[0m\u001b[0;34m,\u001b[0m \u001b[0marr_names\u001b[0m\u001b[0;34m,\u001b[0m \u001b[0maxes\u001b[0m\u001b[0;34m)\u001b[0m\u001b[0;34m\u001b[0m\u001b[0;34m\u001b[0m\u001b[0m\n\u001b[0m\u001b[1;32m   7365\u001b[0m \u001b[0;34m\u001b[0m\u001b[0m\n\u001b[1;32m   7366\u001b[0m \u001b[0;34m\u001b[0m\u001b[0m\n",
      "\u001b[0;32m~/anaconda3/envs/master2018/lib/python3.6/site-packages/pandas/core/internals.py\u001b[0m in \u001b[0;36mcreate_block_manager_from_arrays\u001b[0;34m(arrays, names, axes)\u001b[0m\n\u001b[1;32m   4870\u001b[0m \u001b[0;34m\u001b[0m\u001b[0m\n\u001b[1;32m   4871\u001b[0m     \u001b[0;32mtry\u001b[0m\u001b[0;34m:\u001b[0m\u001b[0;34m\u001b[0m\u001b[0;34m\u001b[0m\u001b[0m\n\u001b[0;32m-> 4872\u001b[0;31m         \u001b[0mblocks\u001b[0m \u001b[0;34m=\u001b[0m \u001b[0mform_blocks\u001b[0m\u001b[0;34m(\u001b[0m\u001b[0marrays\u001b[0m\u001b[0;34m,\u001b[0m \u001b[0mnames\u001b[0m\u001b[0;34m,\u001b[0m \u001b[0maxes\u001b[0m\u001b[0;34m)\u001b[0m\u001b[0;34m\u001b[0m\u001b[0;34m\u001b[0m\u001b[0m\n\u001b[0m\u001b[1;32m   4873\u001b[0m         \u001b[0mmgr\u001b[0m \u001b[0;34m=\u001b[0m \u001b[0mBlockManager\u001b[0m\u001b[0;34m(\u001b[0m\u001b[0mblocks\u001b[0m\u001b[0;34m,\u001b[0m \u001b[0maxes\u001b[0m\u001b[0;34m)\u001b[0m\u001b[0;34m\u001b[0m\u001b[0;34m\u001b[0m\u001b[0m\n\u001b[1;32m   4874\u001b[0m         \u001b[0mmgr\u001b[0m\u001b[0;34m.\u001b[0m\u001b[0m_consolidate_inplace\u001b[0m\u001b[0;34m(\u001b[0m\u001b[0;34m)\u001b[0m\u001b[0;34m\u001b[0m\u001b[0;34m\u001b[0m\u001b[0m\n",
      "\u001b[0;32m~/anaconda3/envs/master2018/lib/python3.6/site-packages/pandas/core/internals.py\u001b[0m in \u001b[0;36mform_blocks\u001b[0;34m(arrays, names, axes)\u001b[0m\n\u001b[1;32m   4899\u001b[0m         \u001b[0mv\u001b[0m \u001b[0;34m=\u001b[0m \u001b[0marrays\u001b[0m\u001b[0;34m[\u001b[0m\u001b[0mname_idx\u001b[0m\u001b[0;34m]\u001b[0m\u001b[0;34m\u001b[0m\u001b[0;34m\u001b[0m\u001b[0m\n\u001b[1;32m   4900\u001b[0m \u001b[0;34m\u001b[0m\u001b[0m\n\u001b[0;32m-> 4901\u001b[0;31m         \u001b[0mblock_type\u001b[0m \u001b[0;34m=\u001b[0m \u001b[0mget_block_type\u001b[0m\u001b[0;34m(\u001b[0m\u001b[0mv\u001b[0m\u001b[0;34m)\u001b[0m\u001b[0;34m\u001b[0m\u001b[0;34m\u001b[0m\u001b[0m\n\u001b[0m\u001b[1;32m   4902\u001b[0m         \u001b[0mitems_dict\u001b[0m\u001b[0;34m[\u001b[0m\u001b[0mblock_type\u001b[0m\u001b[0;34m.\u001b[0m\u001b[0m__name__\u001b[0m\u001b[0;34m]\u001b[0m\u001b[0;34m.\u001b[0m\u001b[0mappend\u001b[0m\u001b[0;34m(\u001b[0m\u001b[0;34m(\u001b[0m\u001b[0mi\u001b[0m\u001b[0;34m,\u001b[0m \u001b[0mk\u001b[0m\u001b[0;34m,\u001b[0m \u001b[0mv\u001b[0m\u001b[0;34m)\u001b[0m\u001b[0;34m)\u001b[0m\u001b[0;34m\u001b[0m\u001b[0;34m\u001b[0m\u001b[0m\n\u001b[1;32m   4903\u001b[0m \u001b[0;34m\u001b[0m\u001b[0m\n",
      "\u001b[0;32m~/anaconda3/envs/master2018/lib/python3.6/site-packages/pandas/core/internals.py\u001b[0m in \u001b[0;36mget_block_type\u001b[0;34m(values, dtype)\u001b[0m\n\u001b[1;32m   3180\u001b[0m     \u001b[0;32melif\u001b[0m \u001b[0mdtype\u001b[0m \u001b[0;34m==\u001b[0m \u001b[0mnp\u001b[0m\u001b[0;34m.\u001b[0m\u001b[0mbool_\u001b[0m\u001b[0;34m:\u001b[0m\u001b[0;34m\u001b[0m\u001b[0;34m\u001b[0m\u001b[0m\n\u001b[1;32m   3181\u001b[0m         \u001b[0mcls\u001b[0m \u001b[0;34m=\u001b[0m \u001b[0mBoolBlock\u001b[0m\u001b[0;34m\u001b[0m\u001b[0;34m\u001b[0m\u001b[0m\n\u001b[0;32m-> 3182\u001b[0;31m     \u001b[0;32melif\u001b[0m \u001b[0mis_categorical\u001b[0m\u001b[0;34m(\u001b[0m\u001b[0mvalues\u001b[0m\u001b[0;34m)\u001b[0m\u001b[0;34m:\u001b[0m\u001b[0;34m\u001b[0m\u001b[0;34m\u001b[0m\u001b[0m\n\u001b[0m\u001b[1;32m   3183\u001b[0m         \u001b[0mcls\u001b[0m \u001b[0;34m=\u001b[0m \u001b[0mCategoricalBlock\u001b[0m\u001b[0;34m\u001b[0m\u001b[0;34m\u001b[0m\u001b[0m\n\u001b[1;32m   3184\u001b[0m     \u001b[0;32melif\u001b[0m \u001b[0mis_extension_array_dtype\u001b[0m\u001b[0;34m(\u001b[0m\u001b[0mvalues\u001b[0m\u001b[0;34m)\u001b[0m\u001b[0;34m:\u001b[0m\u001b[0;34m\u001b[0m\u001b[0;34m\u001b[0m\u001b[0m\n",
      "\u001b[0;32m~/anaconda3/envs/master2018/lib/python3.6/site-packages/pandas/core/dtypes/common.py\u001b[0m in \u001b[0;36mis_categorical\u001b[0;34m(arr)\u001b[0m\n\u001b[1;32m    222\u001b[0m     \"\"\"\n\u001b[1;32m    223\u001b[0m \u001b[0;34m\u001b[0m\u001b[0m\n\u001b[0;32m--> 224\u001b[0;31m     \u001b[0;32mreturn\u001b[0m \u001b[0misinstance\u001b[0m\u001b[0;34m(\u001b[0m\u001b[0marr\u001b[0m\u001b[0;34m,\u001b[0m \u001b[0mABCCategorical\u001b[0m\u001b[0;34m)\u001b[0m \u001b[0;32mor\u001b[0m \u001b[0mis_categorical_dtype\u001b[0m\u001b[0;34m(\u001b[0m\u001b[0marr\u001b[0m\u001b[0;34m)\u001b[0m\u001b[0;34m\u001b[0m\u001b[0;34m\u001b[0m\u001b[0m\n\u001b[0m\u001b[1;32m    225\u001b[0m \u001b[0;34m\u001b[0m\u001b[0m\n\u001b[1;32m    226\u001b[0m \u001b[0;34m\u001b[0m\u001b[0m\n",
      "\u001b[0;31mKeyboardInterrupt\u001b[0m: "
     ]
    }
   ],
   "source": [
    "def get_input(path):\n",
    "\n",
    "    img = imageio.imread(path)\n",
    "\n",
    "    return img\n",
    "\n",
    "data_dataframe = pd.DataFrame(data=None, columns=range(1185000))\n",
    "\n",
    "\n",
    "for _, sample_image in labelfile_balanced.iterrows():\n",
    "\n",
    "    # Creates the file paths for the image\n",
    "    image_sample_path = image_dir_path + sample_image[\"Tile_name\"]\n",
    "\n",
    "    # Reads in each image as array, performs argumentation on each image\n",
    "    input_raw = get_input(image_sample_path)\n",
    "\n",
    "    # Flatten image array\n",
    "    image_flattened = input_raw.flatten()\n",
    "\n",
    "    data = image_flattened.reshape(1,1185000)\n",
    "    data_dataframe = data_dataframe.append(data)\n",
    "    \n",
    "    image_dataframe = image_dataframe.append(\n",
    "        {\n",
    "            \"Name\": sample_image[\"Tile_name\"],\n",
    "            \"target\": sample_image[\"99\"],\n",
    "        },\n",
    "        ignore_index=True,\n",
    "    )"
   ]
  },
  {
   "cell_type": "code",
   "execution_count": 68,
   "metadata": {},
   "outputs": [
    {
     "data": {
      "text/plain": [
       "Array([[2.6214754e-02, 2.7319100e-02, 2.8618366e-02, ..., 0.0000000e+00,\n",
       "        0.0000000e+00, 2.1278711e-05]], dtype=float32)"
      ]
     },
     "execution_count": 68,
     "metadata": {},
     "output_type": "execute_result"
    }
   ],
   "source": [
    "ss = image_flattened.reshape(1,1185000)\n",
    "ss"
   ]
  },
  {
   "cell_type": "code",
   "execution_count": null,
   "metadata": {},
   "outputs": [],
   "source": [
    "data_dataframe.head()"
   ]
  },
  {
   "cell_type": "code",
   "execution_count": 69,
   "metadata": {},
   "outputs": [
    {
     "data": {
      "text/html": [
       "<div>\n",
       "<style scoped>\n",
       "    .dataframe tbody tr th:only-of-type {\n",
       "        vertical-align: middle;\n",
       "    }\n",
       "\n",
       "    .dataframe tbody tr th {\n",
       "        vertical-align: top;\n",
       "    }\n",
       "\n",
       "    .dataframe thead th {\n",
       "        text-align: right;\n",
       "    }\n",
       "</style>\n",
       "<table border=\"1\" class=\"dataframe\">\n",
       "  <thead>\n",
       "    <tr style=\"text-align: right;\">\n",
       "      <th></th>\n",
       "      <th>Name</th>\n",
       "      <th>target</th>\n",
       "    </tr>\n",
       "  </thead>\n",
       "  <tbody>\n",
       "    <tr>\n",
       "      <th>0</th>\n",
       "      <td>stripe_merged_2_12_22.tif</td>\n",
       "      <td>0</td>\n",
       "    </tr>\n",
       "    <tr>\n",
       "      <th>1</th>\n",
       "      <td>stripe_merged_2_15_46.tif</td>\n",
       "      <td>0</td>\n",
       "    </tr>\n",
       "    <tr>\n",
       "      <th>2</th>\n",
       "      <td>stripe_merged_2_13_22.tif</td>\n",
       "      <td>0</td>\n",
       "    </tr>\n",
       "    <tr>\n",
       "      <th>3</th>\n",
       "      <td>stripe_merged_2_13_23.tif</td>\n",
       "      <td>0</td>\n",
       "    </tr>\n",
       "    <tr>\n",
       "      <th>4</th>\n",
       "      <td>stripe_merged_2_05_30.tif</td>\n",
       "      <td>0</td>\n",
       "    </tr>\n",
       "  </tbody>\n",
       "</table>\n",
       "</div>"
      ],
      "text/plain": [
       "                        Name target\n",
       "0  stripe_merged_2_12_22.tif      0\n",
       "1  stripe_merged_2_15_46.tif      0\n",
       "2  stripe_merged_2_13_22.tif      0\n",
       "3  stripe_merged_2_13_23.tif      0\n",
       "4  stripe_merged_2_05_30.tif      0"
      ]
     },
     "execution_count": 69,
     "metadata": {},
     "output_type": "execute_result"
    }
   ],
   "source": [
    "image_dataframe.head()"
   ]
  },
  {
   "cell_type": "code",
   "execution_count": 70,
   "metadata": {},
   "outputs": [],
   "source": [
    "image_dataframe.to_csv(\"test.csv\")"
   ]
  },
  {
   "cell_type": "code",
   "execution_count": null,
   "metadata": {},
   "outputs": [],
   "source": [
    "from sklearn.ensemble import RandomForestClassifier\n",
    "from sklearn.model_selection import train_test_split\n",
    "\n",
    "X_train, X_test, y_train, y_test = train_test_split(\n",
    "    image_dataframe[\"data\"].values,\n",
    "    image_dataframe[\"target\"].values,\n",
    "    test_size=0.8,\n",
    "    random_state=42,\n",
    ")\n",
    "\n",
    "clf = RandomForestClassifier(n_estimators=10, random_state=0)\n",
    "clf.fit(X_train, y_train)"
   ]
  },
  {
   "cell_type": "code",
   "execution_count": null,
   "metadata": {},
   "outputs": [],
   "source": [
    "sss = image_dataframe[\"data\"].values"
   ]
  },
  {
   "cell_type": "code",
   "execution_count": null,
   "metadata": {},
   "outputs": [],
   "source": []
  },
  {
   "cell_type": "code",
   "execution_count": null,
   "metadata": {},
   "outputs": [],
   "source": [
    "clf.score(X_test, y_test)"
   ]
  },
  {
   "cell_type": "code",
   "execution_count": null,
   "metadata": {},
   "outputs": [],
   "source": [
    "# Samples the file for a image, removes index so it can be used as loc[0]\n",
    "    label_sample = label_file.sample().reset_index(drop=True)\n",
    "\n",
    "    # Creates the file paths for the image\n",
    "    image_sample_path = image_path + label_sample['Tile_name'].item()\n",
    "\n",
    "    # Reads in each image as array, performs argumentation on each image\n",
    "    input_raw = get_input(image_sample_path)\n",
    "    input_permutated = random_image_flip_rotation(input_raw)\n",
    "\n",
    "    # Reshape model to (n*k*3)\n",
    "    #input_permutated = np.reshape(input_permutated, (632,625,3))\n",
    "    from sklearn.decomposition import PCA\n",
    "    pca = PCA(3)\n",
    "    input_permutated = input_permutated.reshape(-1, 474)\n",
    "    input_permutated = pca.fit_transform(input_permutated)\n",
    "    input_permutated = input_permutated.reshape(50,50, 3)\n",
    "\n",
    "    # Add a new dimention to the array because Keras wants it this way?\n",
    "    input_new_dim = np.expand_dims(input_permutated, axis=0)\n",
    "\n",
    "\n",
    "    # Set a label by using the tile name. This line first finds the rowdata for \n",
    "    # a spesific tile and gives it out as a dataframe. Then the .iloc function \n",
    "    # finds the values of the colums 1 up to 99 and give them out as a list(list in a list). \n",
    "    label = label_sample.loc[0, ['1','2','3','4','5','6','7','8','9','10','11','12','99']].values\n",
    "\n",
    "    # Place the labels inside a list in a list because Keras wants it this way??\n",
    "    label = [[label]]\n",
    "\n",
    "    yield(input_new_dim, label)"
   ]
  },
  {
   "cell_type": "code",
   "execution_count": null,
   "metadata": {},
   "outputs": [],
   "source": []
  },
  {
   "cell_type": "code",
   "execution_count": null,
   "metadata": {},
   "outputs": [],
   "source": []
  }
 ],
 "metadata": {
  "kernelspec": {
   "display_name": "Python 3",
   "language": "python",
   "name": "python3"
  },
  "language_info": {
   "codemirror_mode": {
    "name": "ipython",
    "version": 3
   },
   "file_extension": ".py",
   "mimetype": "text/x-python",
   "name": "python",
   "nbconvert_exporter": "python",
   "pygments_lexer": "ipython3",
   "version": "3.6.7"
  }
 },
 "nbformat": 4,
 "nbformat_minor": 2
}
