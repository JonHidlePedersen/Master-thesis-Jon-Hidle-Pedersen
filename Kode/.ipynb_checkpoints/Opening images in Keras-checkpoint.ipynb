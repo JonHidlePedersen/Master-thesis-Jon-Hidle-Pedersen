{
 "cells": [
  {
   "cell_type": "markdown",
   "metadata": {},
   "source": [
    "# Opening images in Keras\n",
    "Todo:\n",
    " - Change from Pillow to rasterio to read image\n",
    " - \n",
    "\n",
    "Sources:\n",
    "    - https://medium.com/@ensembledme/writing-custom-keras-generators-fe815d992c5a\n",
    "    - https://stackoverflow.com/questions/46493419/use-a-generator-for-keras-model-fit-generator\n",
    "    - https://stackoverflow.com/questions/50195967/how-can-i-create-a-4d-numpy-array-from-images\n",
    "    - https://www.google.com/search?client=firefox-b-ab&q=keras+make+image+generator\n",
    " "
   ]
  },
  {
   "cell_type": "code",
   "execution_count": 1,
   "metadata": {},
   "outputs": [
    {
     "name": "stderr",
     "output_type": "stream",
     "text": [
      "Using TensorFlow backend.\n"
     ]
    }
   ],
   "source": [
    "from PIL import Image\n",
    "\n",
    "import keras\n",
    "from PIL import Image\n"
   ]
  },
  {
   "cell_type": "code",
   "execution_count": null,
   "metadata": {},
   "outputs": [],
   "source": [
    "#!pip install git+git://github.com/JonHidlePedersen/keras-preprocessing.git"
   ]
  },
  {
   "cell_type": "code",
   "execution_count": 1,
   "metadata": {},
   "outputs": [
    {
     "name": "stderr",
     "output_type": "stream",
     "text": [
      "Using TensorFlow backend.\n"
     ]
    }
   ],
   "source": [
    "import rasterio\n",
    "import numpy as np\n",
    "\n",
    "with rasterio.open('../Sorted_tiles/testimage.tif', 'r') as ds:\n",
    "    arr = ds.read()  # read all raster values\n",
    "    #arr = np.moveaxis(arr, 0, -1) # Moves the channel index to the back.\n",
    "\n",
    "print(arr.shape) \n",
    "\n",
    "import imageio\n",
    "im = imageio.imread('../Sorted_tiles/testimage.tif')\n",
    "print(im.shape) "
   ]
  },
  {
   "cell_type": "code",
   "execution_count": 3,
   "metadata": {},
   "outputs": [
    {
     "name": "stdout",
     "output_type": "stream",
     "text": [
      " Framgangsmate.ipynb\t\t  __pycache__\r\n",
      " gdal_retile.py\t\t\t  Split_and_sort_tiles.ipynb\r\n",
      "'Opening images in Keras.ipynb'\r\n"
     ]
    }
   ],
   "source": [
    "import glob\n",
    "list_images = glob.glob('../Sorted_tiles/*.tif')\n",
    "\n",
    "batch_paths = np.random.choice(a = list_images, \n",
    "                                         size = 2)\n",
    "print(batch_paths)"
   ]
  },
  {
   "cell_type": "code",
   "execution_count": 15,
   "metadata": {},
   "outputs": [],
   "source": [
    "def get_input(path):\n",
    "    \n",
    "    img = imageio.imread(path)\n",
    "    \n",
    "    return(img)\n",
    "\n",
    "\n",
    "def image_generator(files, batch_size = 3):\n",
    "    # Check that all images are the same size. Dimentions\n",
    "    while True:\n",
    "\n",
    "          # Select files (paths/indices) for the batch\n",
    "          batch_paths = np.random.choice(a = files, \n",
    "                                         size = batch_size)\n",
    "          batch_input = []\n",
    "          batch_y = []\n",
    "          batch_x = 0\n",
    "            \n",
    "          # Read in each input, perform preprocessing and get labels\n",
    "\n",
    "          for input_path in batch_paths:\n",
    "\n",
    "              input = get_input(input_path)\n",
    "              batch_input += [ input ]\n",
    "              \n",
    "                  # Set a label\n",
    "              label = np.random.choice([0, 1])\n",
    "              batch_y.append(int(label)) # Needs to be int not string\n",
    "\n",
    "          # Return a tuple of (input,output) to feed the network\n",
    "          batch_x = np.stack(batch_input, axis=0)\n",
    "            \n",
    "          yield(batch_x, batch_y)"
   ]
  },
  {
   "cell_type": "code",
   "execution_count": null,
   "metadata": {},
   "outputs": [],
   "source": [
    "test_generated_images = image_generator(list_images)\n",
    "generert = next(test_generated_images)\n",
    "print(generert)\n",
    "#print(next(test_generated_images))\n",
    "print(np.shape(generert[0]))\n",
    "print(np.shape(generert[1]))\n",
    "print(generert[1])"
   ]
  },
  {
   "cell_type": "code",
   "execution_count": 7,
   "metadata": {},
   "outputs": [
    {
     "name": "stderr",
     "output_type": "stream",
     "text": [
      "Using TensorFlow backend.\n"
     ]
    },
    {
     "name": "stdout",
     "output_type": "stream",
     "text": [
      "_________________________________________________________________\n",
      "Layer (type)                 Output Shape              Param #   \n",
      "=================================================================\n",
      "conv2d_1 (Conv2D)            (None, 254, 254, 32)      82976     \n",
      "_________________________________________________________________\n",
      "activation_1 (Activation)    (None, 254, 254, 32)      0         \n",
      "_________________________________________________________________\n",
      "global_average_pooling2d_1 ( (None, 32)                0         \n",
      "_________________________________________________________________\n",
      "dense_1 (Dense)              (None, 64)                2112      \n",
      "_________________________________________________________________\n",
      "activation_2 (Activation)    (None, 64)                0         \n",
      "_________________________________________________________________\n",
      "dropout_1 (Dropout)          (None, 64)                0         \n",
      "_________________________________________________________________\n",
      "dense_2 (Dense)              (None, 1)                 65        \n",
      "=================================================================\n",
      "Total params: 85,153\n",
      "Trainable params: 85,153\n",
      "Non-trainable params: 0\n",
      "_________________________________________________________________\n"
     ]
    }
   ],
   "source": [
    "from keras.models import Sequential\n",
    "from keras.layers import Conv2D, MaxPooling2D, GlobalAveragePooling2D\n",
    "from keras.layers import Activation, Dropout, Flatten, Dense\n",
    "\n",
    "model = Sequential()\n",
    "model.add(Conv2D(32, (3, 3), input_shape=(256, 256, 288)))\n",
    "model.add(Activation('relu'))\n",
    "\n",
    "model.add(GlobalAveragePooling2D())\n",
    "model.add(Dense(64))\n",
    "model.add(Activation('relu'))\n",
    "model.add(Dropout(0.5))\n",
    "model.add(Dense(1, activation='sigmoid'))\n",
    "\n",
    "model.compile(loss='binary_crossentropy',\n",
    "              optimizer='rmsprop',\n",
    "              metrics=['accuracy'])\n",
    "model.summary()"
   ]
  },
  {
   "cell_type": "code",
   "execution_count": 12,
   "metadata": {},
   "outputs": [
    {
     "name": "stdout",
     "output_type": "stream",
     "text": [
      "Epoch 1/10\n",
      "5/5 [==============================] - 22s 4s/step - loss: 0.6906 - acc: 0.5333\n",
      "Epoch 2/10\n",
      "5/5 [==============================] - 22s 4s/step - loss: 0.6940 - acc: 0.3333\n",
      "Epoch 3/10\n",
      "5/5 [==============================] - 23s 5s/step - loss: 0.6954 - acc: 0.7333\n",
      "Epoch 4/10\n",
      "5/5 [==============================] - 23s 5s/step - loss: 0.6975 - acc: 0.5333\n",
      "Epoch 5/10\n",
      "5/5 [==============================] - 24s 5s/step - loss: 0.6845 - acc: 0.6000\n",
      "Epoch 6/10\n",
      "5/5 [==============================] - 25s 5s/step - loss: 0.6920 - acc: 0.5333\n",
      "Epoch 7/10\n",
      "5/5 [==============================] - 29s 6s/step - loss: 0.7022 - acc: 0.4667\n",
      "Epoch 8/10\n",
      "5/5 [==============================] - 25s 5s/step - loss: 0.7039 - acc: 0.4667\n",
      "Epoch 9/10\n",
      "5/5 [==============================] - 27s 5s/step - loss: 0.7012 - acc: 0.2667\n",
      "Epoch 10/10\n",
      "5/5 [==============================] - 27s 5s/step - loss: 0.6944 - acc: 0.4000\n"
     ]
    },
    {
     "data": {
      "text/plain": [
       "<keras.callbacks.History at 0x7f21b804f898>"
      ]
     },
     "execution_count": 12,
     "metadata": {},
     "output_type": "execute_result"
    }
   ],
   "source": [
    "model.fit_generator(\n",
    "        image_generator(list_images),\n",
    "        steps_per_epoch=5,\n",
    "        epochs=10)"
   ]
  },
  {
   "cell_type": "code",
   "execution_count": 14,
   "metadata": {},
   "outputs": [
    {
     "data": {
      "text/plain": [
       "array([[0.50386584],\n",
       "       [0.50610065],\n",
       "       [0.5037968 ],\n",
       "       [0.5038453 ],\n",
       "       [0.5058131 ],\n",
       "       [0.5042402 ],\n",
       "       [0.5049603 ],\n",
       "       [0.5042402 ],\n",
       "       [0.5037968 ],\n",
       "       [0.5030699 ],\n",
       "       [0.5027083 ],\n",
       "       [0.5042462 ],\n",
       "       [0.5037197 ],\n",
       "       [0.5038573 ],\n",
       "       [0.504117  ],\n",
       "       [0.5065854 ],\n",
       "       [0.5042402 ],\n",
       "       [0.50286454],\n",
       "       [0.503915  ],\n",
       "       [0.5030699 ],\n",
       "       [0.50330627],\n",
       "       [0.5042402 ],\n",
       "       [0.5036756 ],\n",
       "       [0.503312  ],\n",
       "       [0.5045645 ],\n",
       "       [0.50428814],\n",
       "       [0.5038453 ],\n",
       "       [0.5058131 ],\n",
       "       [0.5035124 ],\n",
       "       [0.50544775]], dtype=float32)"
      ]
     },
     "execution_count": 14,
     "metadata": {},
     "output_type": "execute_result"
    }
   ],
   "source": [
    "nn = model.predict_generator(\n",
    "        image_generator(list_images),\n",
    "        steps=10)"
   ]
  },
  {
   "cell_type": "code",
   "execution_count": 19,
   "metadata": {
    "scrolled": true
   },
   "outputs": [
    {
     "name": "stdout",
     "output_type": "stream",
     "text": [
      "()\n"
     ]
    }
   ],
   "source": [
    "#img = Image.open('../Sorted_tiles/kkkk.tiff')\n",
    "\n",
    "from osgeo import gdal\n",
    "import numpy as np\n",
    "ds = gdal.Open('../Sorted_tiles/testimage.tif')\n",
    "myarray = np.array(ds.GetRasterBand(1).ReadAsArray())"
   ]
  },
  {
   "cell_type": "code",
   "execution_count": null,
   "metadata": {},
   "outputs": [],
   "source": [
    "# Finne ut korleis eg får lest det slik at matrisa blir 4 dimensjonal.\n",
    "# Check that all images are the same size. Dimentions"
   ]
  }
 ],
 "metadata": {
  "kernelspec": {
   "display_name": "Python 3",
   "language": "python",
   "name": "python3"
  },
  "language_info": {
   "codemirror_mode": {
    "name": "ipython",
    "version": 3
   },
   "file_extension": ".py",
   "mimetype": "text/x-python",
   "name": "python",
   "nbconvert_exporter": "python",
   "pygments_lexer": "ipython3",
   "version": "3.6.7"
  }
 },
 "nbformat": 4,
 "nbformat_minor": 2
}
